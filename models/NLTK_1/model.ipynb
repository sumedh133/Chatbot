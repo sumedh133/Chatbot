{
 "cells": [
  {
   "cell_type": "markdown",
   "id": "432177b2",
   "metadata": {},
   "source": [
    "### Install Dependencies"
   ]
  },
  {
   "cell_type": "code",
   "execution_count": null,
   "id": "415c3c8a",
   "metadata": {},
   "outputs": [],
   "source": [
    "!pip install nltk"
   ]
  },
  {
   "cell_type": "markdown",
   "id": "cf0e33ac",
   "metadata": {},
   "source": [
    "### Imports"
   ]
  },
  {
   "cell_type": "code",
   "execution_count": 5,
   "id": "e1855882",
   "metadata": {
    "_cell_guid": "b1076dfc-b9ad-4769-8c92-a6c4dae69d19",
    "_uuid": "8f2839f25d086af736a60e9eeb907d3b93b6e0e5",
    "execution": {
     "iopub.execute_input": "2023-05-18T10:05:34.086608Z",
     "iopub.status.busy": "2023-05-18T10:05:34.086180Z",
     "iopub.status.idle": "2023-05-18T10:06:07.492856Z",
     "shell.execute_reply": "2023-05-18T10:06:07.491417Z"
    },
    "papermill": {
     "duration": 33.420246,
     "end_time": "2023-05-18T10:06:07.496170",
     "exception": false,
     "start_time": "2023-05-18T10:05:34.075924",
     "status": "completed"
    },
    "tags": []
   },
   "outputs": [],
   "source": [
    "import nltk\n",
    "import os\n",
    "import zipfile\n",
    "from nltk.stem import WordNetLemmatizer\n",
    "lemmatizer = WordNetLemmatizer()\n",
    "import json\n",
    "import pickle\n",
    "import numpy as np\n",
    "from keras.models import Sequential, load_model\n",
    "from keras.layers import Dense, Activation, Dropout\n",
    "from keras.optimizers import SGD\n",
    "import random\n",
    "import warnings\n",
    "warnings.filterwarnings('ignore')"
   ]
  },
  {
   "cell_type": "markdown",
   "id": "6cf9abda",
   "metadata": {},
   "source": [
    "### Download NLTK Packages"
   ]
  },
  {
   "cell_type": "code",
   "execution_count": null,
   "id": "b560de45",
   "metadata": {
    "execution": {
     "iopub.execute_input": "2023-05-18T10:06:07.519662Z",
     "iopub.status.busy": "2023-05-18T10:06:07.518232Z",
     "iopub.status.idle": "2023-05-18T10:06:09.077736Z",
     "shell.execute_reply": "2023-05-18T10:06:09.076475Z"
    },
    "papermill": {
     "duration": 1.573744,
     "end_time": "2023-05-18T10:06:09.080569",
     "exception": false,
     "start_time": "2023-05-18T10:06:07.506825",
     "status": "completed"
    },
    "tags": []
   },
   "outputs": [],
   "source": [
    "if not os.path.exists('./packages'):\n",
    "    os.makedirs('./packages')\n",
    "nltk.data.path.append('./packages')\n",
    "nltk.download('all', download_dir='./packages')\n",
    "with zipfile.ZipFile('./packages/corpora/wordnet.zip', 'r') as zip_ref:\n",
    "    zip_ref.extractall('./packages/corpora')"
   ]
  },
  {
   "cell_type": "markdown",
   "id": "f626a9d3",
   "metadata": {},
   "source": [
    "## Import Data"
   ]
  },
  {
   "cell_type": "code",
   "execution_count": 3,
   "id": "9f313003",
   "metadata": {
    "execution": {
     "iopub.execute_input": "2023-05-18T10:06:09.104730Z",
     "iopub.status.busy": "2023-05-18T10:06:09.104257Z",
     "iopub.status.idle": "2023-05-18T10:06:09.118471Z",
     "shell.execute_reply": "2023-05-18T10:06:09.117171Z"
    },
    "papermill": {
     "duration": 0.030212,
     "end_time": "2023-05-18T10:06:09.121531",
     "exception": false,
     "start_time": "2023-05-18T10:06:09.091319",
     "status": "completed"
    },
    "tags": []
   },
   "outputs": [],
   "source": [
    "words=[]\n",
    "classes = []\n",
    "documents = []\n",
    "ignore_words = ['?', '!']\n",
    "data_file = open('./../../data/intents.json').read()\n",
    "intents = json.loads(data_file)"
   ]
  },
  {
   "cell_type": "markdown",
   "id": "19348fb5",
   "metadata": {
    "papermill": {
     "duration": 0.011032,
     "end_time": "2023-05-18T10:06:09.143577",
     "exception": false,
     "start_time": "2023-05-18T10:06:09.132545",
     "status": "completed"
    },
    "tags": []
   },
   "source": [
    "## Check Data"
   ]
  },
  {
   "cell_type": "code",
   "execution_count": 4,
   "id": "db079749",
   "metadata": {
    "execution": {
     "iopub.execute_input": "2023-05-18T10:06:09.167159Z",
     "iopub.status.busy": "2023-05-18T10:06:09.166674Z",
     "iopub.status.idle": "2023-05-18T10:06:09.175809Z",
     "shell.execute_reply": "2023-05-18T10:06:09.174875Z"
    },
    "papermill": {
     "duration": 0.023477,
     "end_time": "2023-05-18T10:06:09.178036",
     "exception": false,
     "start_time": "2023-05-18T10:06:09.154559",
     "status": "completed"
    },
    "tags": []
   },
   "outputs": [
    {
     "data": {
      "text/plain": [
       "dict_keys(['intents'])"
      ]
     },
     "execution_count": 4,
     "metadata": {},
     "output_type": "execute_result"
    }
   ],
   "source": [
    "intents.keys()"
   ]
  },
  {
   "cell_type": "code",
   "execution_count": 5,
   "id": "3d7300ba",
   "metadata": {
    "execution": {
     "iopub.execute_input": "2023-05-18T10:06:09.202074Z",
     "iopub.status.busy": "2023-05-18T10:06:09.201645Z",
     "iopub.status.idle": "2023-05-18T10:06:09.212529Z",
     "shell.execute_reply": "2023-05-18T10:06:09.211248Z"
    },
    "papermill": {
     "duration": 0.026231,
     "end_time": "2023-05-18T10:06:09.215087",
     "exception": false,
     "start_time": "2023-05-18T10:06:09.188856",
     "status": "completed"
    },
    "tags": []
   },
   "outputs": [
    {
     "data": {
      "text/plain": [
       "[{'tag': 'greeting',\n",
       "  'patterns': ['Hi',\n",
       "   'How are you?',\n",
       "   'Is anyone there?',\n",
       "   'Hello',\n",
       "   'Good day',\n",
       "   \"What's up\",\n",
       "   'how are ya',\n",
       "   'heyy',\n",
       "   'whatsup',\n",
       "   '??? ??? ??'],\n",
       "  'responses': ['Hello!',\n",
       "   'Good to see you again!',\n",
       "   'Hi there, how can I help?'],\n",
       "  'context_set': ''},\n",
       " {'tag': 'goodbye',\n",
       "  'patterns': ['cya',\n",
       "   'see you',\n",
       "   'bye bye',\n",
       "   'See you later',\n",
       "   'Goodbye',\n",
       "   'I am Leaving',\n",
       "   'Bye',\n",
       "   'Have a Good day',\n",
       "   'talk to you later',\n",
       "   'ttyl',\n",
       "   'i got to go',\n",
       "   'gtg'],\n",
       "  'responses': ['Sad to see you go :(',\n",
       "   'Talk to you later',\n",
       "   'Goodbye!',\n",
       "   'Come back soon'],\n",
       "  'context_set': ''},\n",
       " {'tag': 'creator',\n",
       "  'patterns': ['what is the name of your developers',\n",
       "   'what is the name of your creators',\n",
       "   'what is the name of the developers',\n",
       "   'what is the name of the creators',\n",
       "   'who created you',\n",
       "   'your developers',\n",
       "   'your creators',\n",
       "   'who are your developers',\n",
       "   'developers',\n",
       "   'you are made by',\n",
       "   'you are made by whom',\n",
       "   'who created you',\n",
       "   'who create you',\n",
       "   'creators',\n",
       "   'who made you',\n",
       "   'who designed you'],\n",
       "  'responses': ['College students'],\n",
       "  'context_set': ''},\n",
       " {'tag': 'name',\n",
       "  'patterns': ['name',\n",
       "   'your name',\n",
       "   'do you have a name',\n",
       "   'what are you called',\n",
       "   'what is your name',\n",
       "   'what should I call you',\n",
       "   'whats your name?',\n",
       "   'what are you',\n",
       "   'who are you',\n",
       "   'who is this',\n",
       "   'what am i chatting to',\n",
       "   'who am i taking to',\n",
       "   'what are you'],\n",
       "  'responses': ['You can call me Mind Reader.',\n",
       "   \"I'm Mind Reader\",\n",
       "   'I am a Chatbot.',\n",
       "   'I am your helper'],\n",
       "  'context_set': ''},\n",
       " {'tag': 'hours',\n",
       "  'patterns': ['timing of college',\n",
       "   'what is college timing',\n",
       "   'working days',\n",
       "   'when are you guys open',\n",
       "   'what are your hours',\n",
       "   'hours of operation',\n",
       "   'when is the college open',\n",
       "   'college timing',\n",
       "   'what about college timing',\n",
       "   'is college open on saturday',\n",
       "   'tell something about college timing',\n",
       "   'what is the college  hours',\n",
       "   'when should i come to college',\n",
       "   'when should i attend college',\n",
       "   'what is my college time',\n",
       "   'college timing',\n",
       "   'timing college'],\n",
       "  'responses': ['College is open 8am-5pm Monday-Saturday!'],\n",
       "  'context_set': ''}]"
      ]
     },
     "execution_count": 5,
     "metadata": {},
     "output_type": "execute_result"
    }
   ],
   "source": [
    "intents['intents'][:5]"
   ]
  },
  {
   "cell_type": "markdown",
   "id": "d99e0265",
   "metadata": {
    "papermill": {
     "duration": 0.010673,
     "end_time": "2023-05-18T10:06:09.236711",
     "exception": false,
     "start_time": "2023-05-18T10:06:09.226038",
     "status": "completed"
    },
    "tags": []
   },
   "source": [
    "##  Data pre-processing"
   ]
  },
  {
   "cell_type": "code",
   "execution_count": 6,
   "id": "bd0758c1",
   "metadata": {
    "execution": {
     "iopub.execute_input": "2023-05-18T10:06:09.261108Z",
     "iopub.status.busy": "2023-05-18T10:06:09.260699Z",
     "iopub.status.idle": "2023-05-18T10:06:09.341968Z",
     "shell.execute_reply": "2023-05-18T10:06:09.340779Z"
    },
    "papermill": {
     "duration": 0.097433,
     "end_time": "2023-05-18T10:06:09.345093",
     "exception": false,
     "start_time": "2023-05-18T10:06:09.247660",
     "status": "completed"
    },
    "tags": []
   },
   "outputs": [],
   "source": [
    "for intent in intents['intents']:\n",
    "    for pattern in intent['patterns']:\n",
    "        w = nltk.word_tokenize(pattern)\n",
    "        words.extend(w)\n",
    "        documents.append((w, intent['tag']))\n",
    "        # add to classes\n",
    "        if intent['tag'] not in classes:\n",
    "            classes.append(intent['tag'])"
   ]
  },
  {
   "cell_type": "markdown",
   "id": "016b7857",
   "metadata": {
    "papermill": {
     "duration": 0.010624,
     "end_time": "2023-05-18T10:06:09.367212",
     "exception": false,
     "start_time": "2023-05-18T10:06:09.356588",
     "status": "completed"
    },
    "tags": []
   },
   "source": [
    "### Lemmatization"
   ]
  },
  {
   "cell_type": "code",
   "execution_count": 7,
   "id": "5c7800c2",
   "metadata": {
    "execution": {
     "iopub.execute_input": "2023-05-18T10:06:09.392669Z",
     "iopub.status.busy": "2023-05-18T10:06:09.391892Z",
     "iopub.status.idle": "2023-05-18T10:06:12.131860Z",
     "shell.execute_reply": "2023-05-18T10:06:12.130314Z"
    },
    "papermill": {
     "duration": 2.755891,
     "end_time": "2023-05-18T10:06:12.134562",
     "exception": false,
     "start_time": "2023-05-18T10:06:09.378671",
     "status": "completed"
    },
    "tags": []
   },
   "outputs": [
    {
     "name": "stdout",
     "output_type": "stream",
     "text": [
      "405 documents\n",
      "38 classes ['admission', 'canteen', 'college intake', 'committee', 'computerhod', 'course', 'creator', 'document', 'event', 'extchod', 'facilities', 'fees', 'floors', 'goodbye', 'greeting', 'hod', 'hostel', 'hours', 'infrastructure', 'ithod', 'library', 'location', 'menu', 'name', 'number', 'placement', 'principal', 'ragging', 'random', 'salutaion', 'scholarship', 'sem', 'sports', 'swear', 'syllabus', 'task', 'uniform', 'vacation']\n",
      "263 unique lemmatized words [\"'s\", '(', ')', 'a', 'about', 'ac', 'active', 'activity', 'address', 'admision', 'admission', 'against', 'ai/ml', 'allotment', 'am', 'an', 'and', 'antiragging', 'any', 'anyone', 'are', 'as', 'asshole', 'at', 'attend', 'automobile', 'available', 'average', 'be', 'between', 'big', 'bitch', 'book', 'boy', 'branch', 'bring', 'building', 'by', 'bye', 'cafetaria', 'call', 'called', 'campus', 'can', 'canteen', 'capacity', 'case', 'casuals', 'ce', 'chatting', 'chemical', 'civil', 'code', 'college', 'come', 'committe', 'committee', 'comp', 'company', 'computer', 'conducted', 'contact', 'course', 'create', 'created', 'creator', 'cya', 'date', 'day', 'designed', 'detail', 'developer', 'different', 'distance', 'do', 'document', 'doe', 'done', 'dress', 'dresscode', 'dumb', 'during', 'each', 'eat', 'end', 'engineering', 'event', 'exam', 'extc', 'facility', 'far', 'fee', 'first', 'floor', 'food', 'for', 'fourth', 'from', 'fuck', 'fucker', 'function', 'game', 'get', 'girl', 'give', 'go', 'good', 'goodbye', 'got', 'gtg', 'guy', 'have', 'held', 'hell', 'hello', 'help', 'here', 'heyy', 'hi', 'history', 'hod', 'holiday', 'hostel', 'hour', 'how', 'i', 'idiot', 'in', 'incident', 'info', 'information', 'infrastructure', 'intake', 'is', 'it', 'job', 'junior', 'k', 'later', 'leaving', 'lecture', 'library', 'list', 'located', 'location', 'long', 'love', 'made', 'many', 'marry', 'max', 'maximum', 'me', 'mechanical', 'menu', 'more', 'much', 'my', 'name', 'need', 'needed', 'next', 'nice', 'no', 'non-ac', 'number', 'of', 'offer', 'offered', 'office', 'ok', 'okay', 'okie', 'okk', 'on', 'open', 'operation', 'organised', 'package', 'per', 'phone', 'placement', 'please', 'practice', 'principal', 'process', 'provide', 'provided', 'ragging', 'reach', 'recruitment', 'required', 'room', 'saturday', 'schedule', 'scholarship', 'seat', 'second', 'see', 'sem', 'semester', 'servive', 'should', 'shut', 'size', 'something', 'sport', 'start', 'student', 'stundent', 'stupid', 'syllabus', 'take', 'taken', 'taking', 'talk', 'tall', 'technology', 'telephone', 'tell', 'thank', 'thanks', 'the', 'there', 'these', 'thing', 'third', 'this', 'time', 'timetable', 'timing', 'to', 'ttyl', 'u', 'uni', 'uniform', 'univrsity', 'up', 'use', 'vacation', 'variety', 'visit', 'we', 'wear', 'well', 'what', 'whats', 'whatsup', 'whatv', 'when', 'where', 'wheres', 'which', 'who', 'whom', 'why', 'will', 'work', 'working', 'ya', 'year', 'you', 'your']\n"
     ]
    }
   ],
   "source": [
    "words = [lemmatizer.lemmatize(w.lower()) for w in words if w not in ignore_words]\n",
    "words = sorted(list(set(words)))\n",
    "classes = sorted(list(set(classes)))\n",
    "\n",
    "print (len(documents), \"documents\")\n",
    "print (len(classes), \"classes\", classes)\n",
    "print (len(words), \"unique lemmatized words\", words)\n"
   ]
  },
  {
   "cell_type": "markdown",
   "id": "cf4fc731",
   "metadata": {
    "papermill": {
     "duration": 0.010774,
     "end_time": "2023-05-18T10:06:12.156805",
     "exception": false,
     "start_time": "2023-05-18T10:06:12.146031",
     "status": "completed"
    },
    "tags": []
   },
   "source": [
    "a pickle file is made that will be used for prediction."
   ]
  },
  {
   "cell_type": "code",
   "execution_count": 8,
   "id": "8933539f",
   "metadata": {
    "execution": {
     "iopub.execute_input": "2023-05-18T10:06:12.182006Z",
     "iopub.status.busy": "2023-05-18T10:06:12.181587Z",
     "iopub.status.idle": "2023-05-18T10:06:12.186281Z",
     "shell.execute_reply": "2023-05-18T10:06:12.185015Z"
    },
    "papermill": {
     "duration": 0.020687,
     "end_time": "2023-05-18T10:06:12.189075",
     "exception": false,
     "start_time": "2023-05-18T10:06:12.168388",
     "status": "completed"
    },
    "tags": []
   },
   "outputs": [],
   "source": [
    "pickle.dump(words,open('./bin/words.pkl','wb'))\n",
    "pickle.dump(classes,open('./bin/classes.pkl','wb'))"
   ]
  },
  {
   "cell_type": "markdown",
   "id": "21047c82",
   "metadata": {
    "papermill": {
     "duration": 0.011816,
     "end_time": "2023-05-18T10:06:12.212170",
     "exception": false,
     "start_time": "2023-05-18T10:06:12.200354",
     "status": "completed"
    },
    "tags": []
   },
   "source": [
    "# Create training and testing data\n",
    "Now that the training data has been created, the input and output will be included. The pattern will serve as our input, and the class to which the pattern belongs will serve as our output. However, since the machine cannot interpret language, we must convert it to numbers."
   ]
  },
  {
   "cell_type": "code",
   "execution_count": 9,
   "id": "c8428c39",
   "metadata": {
    "execution": {
     "iopub.execute_input": "2023-05-18T10:06:12.236900Z",
     "iopub.status.busy": "2023-05-18T10:06:12.236497Z",
     "iopub.status.idle": "2023-05-18T10:06:12.291916Z",
     "shell.execute_reply": "2023-05-18T10:06:12.290591Z"
    },
    "papermill": {
     "duration": 0.071302,
     "end_time": "2023-05-18T10:06:12.294545",
     "exception": false,
     "start_time": "2023-05-18T10:06:12.223243",
     "status": "completed"
    },
    "tags": []
   },
   "outputs": [
    {
     "name": "stdout",
     "output_type": "stream",
     "text": [
      "Training data created\n"
     ]
    }
   ],
   "source": [
    "training = []\n",
    "output_empty = [0] * len(classes)\n",
    "for doc in documents:\n",
    "    bag = []\n",
    "    pattern_words = doc[0]\n",
    "    pattern_words = [lemmatizer.lemmatize(word.lower()) for word in pattern_words]\n",
    "    for w in words:\n",
    "        bag.append(1) if w in pattern_words else bag.append(0)\n",
    "    output_row = list(output_empty)\n",
    "    output_row[classes.index(doc[1])] = 1\n",
    "    training.append([bag, output_row])\n",
    "random.shuffle(training)\n",
    "training = np.array(training, dtype=object)\n",
    "train_x = np.array(list(training[:,0]), dtype=np.float32)\n",
    "train_y = np.array(list(training[:,1]), dtype=np.float32)\n",
    "print(\"Training data created\")"
   ]
  },
  {
   "cell_type": "markdown",
   "id": "a8fa39ee",
   "metadata": {
    "papermill": {
     "duration": 0.01137,
     "end_time": "2023-05-18T10:06:12.317409",
     "exception": false,
     "start_time": "2023-05-18T10:06:12.306039",
     "status": "completed"
    },
    "tags": []
   },
   "source": [
    "# Build the model"
   ]
  },
  {
   "cell_type": "code",
   "execution_count": 10,
   "id": "d707b5d2",
   "metadata": {
    "execution": {
     "iopub.execute_input": "2023-05-18T10:06:12.342697Z",
     "iopub.status.busy": "2023-05-18T10:06:12.342256Z",
     "iopub.status.idle": "2023-05-18T10:06:54.447915Z",
     "shell.execute_reply": "2023-05-18T10:06:54.446462Z"
    },
    "papermill": {
     "duration": 42.121627,
     "end_time": "2023-05-18T10:06:54.451059",
     "exception": false,
     "start_time": "2023-05-18T10:06:12.329432",
     "status": "completed"
    },
    "tags": []
   },
   "outputs": [
    {
     "name": "stdout",
     "output_type": "stream",
     "text": [
      "Epoch 1/200\n",
      "81/81 [==============================] - 1s 2ms/step - loss: 3.6075 - accuracy: 0.0395\n",
      "Epoch 2/200\n",
      "81/81 [==============================] - 0s 2ms/step - loss: 3.4209 - accuracy: 0.1309\n",
      "Epoch 3/200\n",
      "81/81 [==============================] - 0s 2ms/step - loss: 3.2103 - accuracy: 0.1926\n",
      "Epoch 4/200\n",
      "81/81 [==============================] - 0s 3ms/step - loss: 2.9198 - accuracy: 0.2247\n",
      "Epoch 5/200\n",
      "81/81 [==============================] - 0s 3ms/step - loss: 2.6930 - accuracy: 0.2938\n",
      "Epoch 6/200\n",
      "81/81 [==============================] - 0s 2ms/step - loss: 2.4807 - accuracy: 0.3407\n",
      "Epoch 7/200\n",
      "81/81 [==============================] - 0s 3ms/step - loss: 2.2439 - accuracy: 0.3901\n",
      "Epoch 8/200\n",
      "81/81 [==============================] - 0s 2ms/step - loss: 2.0214 - accuracy: 0.4593\n",
      "Epoch 9/200\n",
      "81/81 [==============================] - 0s 2ms/step - loss: 1.9467 - accuracy: 0.4667\n",
      "Epoch 10/200\n",
      "81/81 [==============================] - 0s 2ms/step - loss: 1.7577 - accuracy: 0.5407\n",
      "Epoch 11/200\n",
      "81/81 [==============================] - 0s 2ms/step - loss: 1.6453 - accuracy: 0.5556\n",
      "Epoch 12/200\n",
      "81/81 [==============================] - 0s 2ms/step - loss: 1.5584 - accuracy: 0.5753\n",
      "Epoch 13/200\n",
      "81/81 [==============================] - 0s 2ms/step - loss: 1.3764 - accuracy: 0.6025\n",
      "Epoch 14/200\n",
      "81/81 [==============================] - 0s 2ms/step - loss: 1.3353 - accuracy: 0.6222\n",
      "Epoch 15/200\n",
      "81/81 [==============================] - 0s 2ms/step - loss: 1.2254 - accuracy: 0.6444\n",
      "Epoch 16/200\n",
      "81/81 [==============================] - 0s 2ms/step - loss: 1.0937 - accuracy: 0.6889\n",
      "Epoch 17/200\n",
      "81/81 [==============================] - 0s 2ms/step - loss: 1.0443 - accuracy: 0.7111\n",
      "Epoch 18/200\n",
      "81/81 [==============================] - 0s 2ms/step - loss: 0.9779 - accuracy: 0.7185\n",
      "Epoch 19/200\n",
      "81/81 [==============================] - 0s 2ms/step - loss: 0.8364 - accuracy: 0.7556\n",
      "Epoch 20/200\n",
      "81/81 [==============================] - 0s 2ms/step - loss: 0.8731 - accuracy: 0.7531\n",
      "Epoch 21/200\n",
      "81/81 [==============================] - 0s 2ms/step - loss: 0.7854 - accuracy: 0.7778\n",
      "Epoch 22/200\n",
      "81/81 [==============================] - 0s 2ms/step - loss: 0.7907 - accuracy: 0.7556\n",
      "Epoch 23/200\n",
      "81/81 [==============================] - 0s 2ms/step - loss: 0.7299 - accuracy: 0.7802\n",
      "Epoch 24/200\n",
      "81/81 [==============================] - 0s 2ms/step - loss: 0.6648 - accuracy: 0.8099\n",
      "Epoch 25/200\n",
      "81/81 [==============================] - 0s 2ms/step - loss: 0.6795 - accuracy: 0.8099\n",
      "Epoch 26/200\n",
      "81/81 [==============================] - 0s 2ms/step - loss: 0.6165 - accuracy: 0.8222\n",
      "Epoch 27/200\n",
      "81/81 [==============================] - 0s 2ms/step - loss: 0.5934 - accuracy: 0.8346\n",
      "Epoch 28/200\n",
      "81/81 [==============================] - 0s 2ms/step - loss: 0.5745 - accuracy: 0.8247\n",
      "Epoch 29/200\n",
      "81/81 [==============================] - 0s 2ms/step - loss: 0.5411 - accuracy: 0.8321\n",
      "Epoch 30/200\n",
      "81/81 [==============================] - 0s 3ms/step - loss: 0.6004 - accuracy: 0.8296\n",
      "Epoch 31/200\n",
      "81/81 [==============================] - 0s 3ms/step - loss: 0.5214 - accuracy: 0.8444\n",
      "Epoch 32/200\n",
      "81/81 [==============================] - 0s 3ms/step - loss: 0.4823 - accuracy: 0.8815\n",
      "Epoch 33/200\n",
      "81/81 [==============================] - 0s 3ms/step - loss: 0.4237 - accuracy: 0.8765\n",
      "Epoch 34/200\n",
      "81/81 [==============================] - 0s 3ms/step - loss: 0.5046 - accuracy: 0.8617\n",
      "Epoch 35/200\n",
      "81/81 [==============================] - 0s 3ms/step - loss: 0.4291 - accuracy: 0.8765\n",
      "Epoch 36/200\n",
      "81/81 [==============================] - 0s 2ms/step - loss: 0.4759 - accuracy: 0.8617\n",
      "Epoch 37/200\n",
      "81/81 [==============================] - 0s 2ms/step - loss: 0.4527 - accuracy: 0.8494\n",
      "Epoch 38/200\n",
      "81/81 [==============================] - 0s 2ms/step - loss: 0.5386 - accuracy: 0.8444\n",
      "Epoch 39/200\n",
      "81/81 [==============================] - 0s 2ms/step - loss: 0.3072 - accuracy: 0.9086\n",
      "Epoch 40/200\n",
      "81/81 [==============================] - 0s 2ms/step - loss: 0.4215 - accuracy: 0.8741\n",
      "Epoch 41/200\n",
      "81/81 [==============================] - 0s 2ms/step - loss: 0.3055 - accuracy: 0.9086\n",
      "Epoch 42/200\n",
      "81/81 [==============================] - 0s 2ms/step - loss: 0.3424 - accuracy: 0.9185\n",
      "Epoch 43/200\n",
      "81/81 [==============================] - 0s 2ms/step - loss: 0.4932 - accuracy: 0.8346\n",
      "Epoch 44/200\n",
      "81/81 [==============================] - 0s 2ms/step - loss: 0.3778 - accuracy: 0.8741\n",
      "Epoch 45/200\n",
      "81/81 [==============================] - 0s 2ms/step - loss: 0.3014 - accuracy: 0.9037\n",
      "Epoch 46/200\n",
      "81/81 [==============================] - 0s 2ms/step - loss: 0.3840 - accuracy: 0.8889\n",
      "Epoch 47/200\n",
      "81/81 [==============================] - 0s 2ms/step - loss: 0.3502 - accuracy: 0.8963\n",
      "Epoch 48/200\n",
      "81/81 [==============================] - 0s 3ms/step - loss: 0.3615 - accuracy: 0.8815\n",
      "Epoch 49/200\n",
      "81/81 [==============================] - 0s 2ms/step - loss: 0.2948 - accuracy: 0.9235\n",
      "Epoch 50/200\n",
      "81/81 [==============================] - 0s 2ms/step - loss: 0.2971 - accuracy: 0.9086\n",
      "Epoch 51/200\n",
      "81/81 [==============================] - 0s 2ms/step - loss: 0.3183 - accuracy: 0.9062\n",
      "Epoch 52/200\n",
      "81/81 [==============================] - 0s 2ms/step - loss: 0.2578 - accuracy: 0.9235\n",
      "Epoch 53/200\n",
      "81/81 [==============================] - 0s 2ms/step - loss: 0.2577 - accuracy: 0.9309\n",
      "Epoch 54/200\n",
      "81/81 [==============================] - 0s 2ms/step - loss: 0.2357 - accuracy: 0.9210\n",
      "Epoch 55/200\n",
      "81/81 [==============================] - 0s 3ms/step - loss: 0.2509 - accuracy: 0.9333\n",
      "Epoch 56/200\n",
      "81/81 [==============================] - 0s 3ms/step - loss: 0.2986 - accuracy: 0.9037\n",
      "Epoch 57/200\n",
      "81/81 [==============================] - 0s 2ms/step - loss: 0.2910 - accuracy: 0.8963\n",
      "Epoch 58/200\n",
      "81/81 [==============================] - 0s 2ms/step - loss: 0.2882 - accuracy: 0.9086\n",
      "Epoch 59/200\n",
      "81/81 [==============================] - 0s 2ms/step - loss: 0.2571 - accuracy: 0.9185\n",
      "Epoch 60/200\n",
      "81/81 [==============================] - 0s 2ms/step - loss: 0.2503 - accuracy: 0.9284\n",
      "Epoch 61/200\n",
      "81/81 [==============================] - 0s 2ms/step - loss: 0.2666 - accuracy: 0.9136\n",
      "Epoch 62/200\n",
      "81/81 [==============================] - 0s 2ms/step - loss: 0.3017 - accuracy: 0.8988\n",
      "Epoch 63/200\n",
      "81/81 [==============================] - 0s 2ms/step - loss: 0.2945 - accuracy: 0.8963\n",
      "Epoch 64/200\n",
      "81/81 [==============================] - 0s 2ms/step - loss: 0.2790 - accuracy: 0.9136\n",
      "Epoch 65/200\n",
      "81/81 [==============================] - 0s 2ms/step - loss: 0.2100 - accuracy: 0.9333\n",
      "Epoch 66/200\n",
      "81/81 [==============================] - 0s 2ms/step - loss: 0.2762 - accuracy: 0.9160\n",
      "Epoch 67/200\n",
      "81/81 [==============================] - 0s 2ms/step - loss: 0.2334 - accuracy: 0.9333\n",
      "Epoch 68/200\n",
      "81/81 [==============================] - 0s 2ms/step - loss: 0.2319 - accuracy: 0.9284\n",
      "Epoch 69/200\n",
      "81/81 [==============================] - 0s 2ms/step - loss: 0.2773 - accuracy: 0.9062\n",
      "Epoch 70/200\n",
      "81/81 [==============================] - 0s 2ms/step - loss: 0.2976 - accuracy: 0.8914\n",
      "Epoch 71/200\n",
      "81/81 [==============================] - 0s 2ms/step - loss: 0.2391 - accuracy: 0.9432\n",
      "Epoch 72/200\n",
      "81/81 [==============================] - 0s 2ms/step - loss: 0.2490 - accuracy: 0.9210\n",
      "Epoch 73/200\n",
      "81/81 [==============================] - 0s 2ms/step - loss: 0.2424 - accuracy: 0.9210\n",
      "Epoch 74/200\n",
      "81/81 [==============================] - 0s 2ms/step - loss: 0.2146 - accuracy: 0.9284\n",
      "Epoch 75/200\n",
      "81/81 [==============================] - 0s 2ms/step - loss: 0.2357 - accuracy: 0.9185\n",
      "Epoch 76/200\n",
      "81/81 [==============================] - 0s 2ms/step - loss: 0.1708 - accuracy: 0.9481\n",
      "Epoch 77/200\n",
      "81/81 [==============================] - 0s 2ms/step - loss: 0.2045 - accuracy: 0.9407\n",
      "Epoch 78/200\n",
      "81/81 [==============================] - 0s 2ms/step - loss: 0.1740 - accuracy: 0.9457\n",
      "Epoch 79/200\n",
      "81/81 [==============================] - 0s 2ms/step - loss: 0.2727 - accuracy: 0.9235\n",
      "Epoch 80/200\n",
      "81/81 [==============================] - 0s 2ms/step - loss: 0.1872 - accuracy: 0.9284\n",
      "Epoch 81/200\n",
      "81/81 [==============================] - 0s 2ms/step - loss: 0.2784 - accuracy: 0.9062\n",
      "Epoch 82/200\n",
      "81/81 [==============================] - 0s 2ms/step - loss: 0.2156 - accuracy: 0.9309\n",
      "Epoch 83/200\n",
      "81/81 [==============================] - 0s 2ms/step - loss: 0.1602 - accuracy: 0.9481\n",
      "Epoch 84/200\n",
      "81/81 [==============================] - 0s 2ms/step - loss: 0.1846 - accuracy: 0.9284\n",
      "Epoch 85/200\n",
      "81/81 [==============================] - 0s 2ms/step - loss: 0.2342 - accuracy: 0.9259\n",
      "Epoch 86/200\n",
      "81/81 [==============================] - 0s 2ms/step - loss: 0.1985 - accuracy: 0.9358\n",
      "Epoch 87/200\n",
      "81/81 [==============================] - 0s 2ms/step - loss: 0.2135 - accuracy: 0.9235\n",
      "Epoch 88/200\n",
      "81/81 [==============================] - 0s 2ms/step - loss: 0.1489 - accuracy: 0.9457\n",
      "Epoch 89/200\n",
      "81/81 [==============================] - 0s 2ms/step - loss: 0.1937 - accuracy: 0.9531\n",
      "Epoch 90/200\n",
      "81/81 [==============================] - 0s 2ms/step - loss: 0.2209 - accuracy: 0.9309\n",
      "Epoch 91/200\n",
      "81/81 [==============================] - 0s 3ms/step - loss: 0.1944 - accuracy: 0.9358\n",
      "Epoch 92/200\n",
      "81/81 [==============================] - 0s 2ms/step - loss: 0.2071 - accuracy: 0.9259\n",
      "Epoch 93/200\n",
      "81/81 [==============================] - 0s 2ms/step - loss: 0.1905 - accuracy: 0.9309\n",
      "Epoch 94/200\n",
      "81/81 [==============================] - 0s 2ms/step - loss: 0.1443 - accuracy: 0.9580\n",
      "Epoch 95/200\n",
      "81/81 [==============================] - 0s 2ms/step - loss: 0.1553 - accuracy: 0.9556\n",
      "Epoch 96/200\n",
      "81/81 [==============================] - 0s 2ms/step - loss: 0.1456 - accuracy: 0.9580\n",
      "Epoch 97/200\n",
      "81/81 [==============================] - 0s 2ms/step - loss: 0.1583 - accuracy: 0.9432\n",
      "Epoch 98/200\n",
      "81/81 [==============================] - 0s 2ms/step - loss: 0.1457 - accuracy: 0.9506\n",
      "Epoch 99/200\n",
      "81/81 [==============================] - 0s 2ms/step - loss: 0.1680 - accuracy: 0.9605\n",
      "Epoch 100/200\n",
      "81/81 [==============================] - 0s 2ms/step - loss: 0.1603 - accuracy: 0.9556\n",
      "Epoch 101/200\n",
      "81/81 [==============================] - 0s 2ms/step - loss: 0.1259 - accuracy: 0.9679\n",
      "Epoch 102/200\n",
      "81/81 [==============================] - 0s 2ms/step - loss: 0.1641 - accuracy: 0.9383\n",
      "Epoch 103/200\n",
      "81/81 [==============================] - 0s 2ms/step - loss: 0.1339 - accuracy: 0.9580\n",
      "Epoch 104/200\n",
      "81/81 [==============================] - 0s 2ms/step - loss: 0.1075 - accuracy: 0.9605\n",
      "Epoch 105/200\n",
      "81/81 [==============================] - 0s 2ms/step - loss: 0.1929 - accuracy: 0.9333\n",
      "Epoch 106/200\n",
      "81/81 [==============================] - 0s 2ms/step - loss: 0.1792 - accuracy: 0.9506\n",
      "Epoch 107/200\n",
      "81/81 [==============================] - 0s 2ms/step - loss: 0.1444 - accuracy: 0.9605\n",
      "Epoch 108/200\n",
      "81/81 [==============================] - 0s 2ms/step - loss: 0.1922 - accuracy: 0.9358\n",
      "Epoch 109/200\n",
      "81/81 [==============================] - 0s 2ms/step - loss: 0.1612 - accuracy: 0.9432\n",
      "Epoch 110/200\n",
      "81/81 [==============================] - 0s 2ms/step - loss: 0.1461 - accuracy: 0.9506\n",
      "Epoch 111/200\n",
      "81/81 [==============================] - 0s 2ms/step - loss: 0.1186 - accuracy: 0.9506\n",
      "Epoch 112/200\n",
      "81/81 [==============================] - 0s 2ms/step - loss: 0.1652 - accuracy: 0.9481\n",
      "Epoch 113/200\n",
      "81/81 [==============================] - 0s 2ms/step - loss: 0.1639 - accuracy: 0.9481\n",
      "Epoch 114/200\n",
      "81/81 [==============================] - 0s 2ms/step - loss: 0.2011 - accuracy: 0.9259\n",
      "Epoch 115/200\n",
      "81/81 [==============================] - 0s 2ms/step - loss: 0.1545 - accuracy: 0.9481\n",
      "Epoch 116/200\n",
      "81/81 [==============================] - 0s 2ms/step - loss: 0.1883 - accuracy: 0.9358\n",
      "Epoch 117/200\n",
      "81/81 [==============================] - 0s 2ms/step - loss: 0.1278 - accuracy: 0.9580\n",
      "Epoch 118/200\n",
      "81/81 [==============================] - 0s 2ms/step - loss: 0.1958 - accuracy: 0.9506\n",
      "Epoch 119/200\n",
      "81/81 [==============================] - 0s 2ms/step - loss: 0.1604 - accuracy: 0.9432\n",
      "Epoch 120/200\n",
      "81/81 [==============================] - 0s 2ms/step - loss: 0.1504 - accuracy: 0.9481\n",
      "Epoch 121/200\n",
      "81/81 [==============================] - 0s 2ms/step - loss: 0.0938 - accuracy: 0.9704\n",
      "Epoch 122/200\n",
      "81/81 [==============================] - 0s 2ms/step - loss: 0.1781 - accuracy: 0.9432\n",
      "Epoch 123/200\n",
      "81/81 [==============================] - 0s 2ms/step - loss: 0.1574 - accuracy: 0.9506\n",
      "Epoch 124/200\n",
      "81/81 [==============================] - 0s 2ms/step - loss: 0.1743 - accuracy: 0.9457\n",
      "Epoch 125/200\n",
      "81/81 [==============================] - 0s 2ms/step - loss: 0.1329 - accuracy: 0.9605\n",
      "Epoch 126/200\n",
      "81/81 [==============================] - 0s 2ms/step - loss: 0.1128 - accuracy: 0.9654\n",
      "Epoch 127/200\n",
      "81/81 [==============================] - 0s 2ms/step - loss: 0.1259 - accuracy: 0.9630\n",
      "Epoch 128/200\n",
      "81/81 [==============================] - 0s 2ms/step - loss: 0.0990 - accuracy: 0.9630\n",
      "Epoch 129/200\n",
      "81/81 [==============================] - 0s 2ms/step - loss: 0.1533 - accuracy: 0.9432\n",
      "Epoch 130/200\n",
      "81/81 [==============================] - 0s 2ms/step - loss: 0.1535 - accuracy: 0.9457\n",
      "Epoch 131/200\n",
      "81/81 [==============================] - 0s 2ms/step - loss: 0.1331 - accuracy: 0.9704\n",
      "Epoch 132/200\n",
      "81/81 [==============================] - 0s 2ms/step - loss: 0.1525 - accuracy: 0.9531\n",
      "Epoch 133/200\n",
      "81/81 [==============================] - 0s 2ms/step - loss: 0.1108 - accuracy: 0.9704\n",
      "Epoch 134/200\n",
      "81/81 [==============================] - 0s 2ms/step - loss: 0.1811 - accuracy: 0.9457\n",
      "Epoch 135/200\n",
      "81/81 [==============================] - 0s 2ms/step - loss: 0.1352 - accuracy: 0.9531\n",
      "Epoch 136/200\n",
      "81/81 [==============================] - 0s 2ms/step - loss: 0.1608 - accuracy: 0.9556\n",
      "Epoch 137/200\n",
      "81/81 [==============================] - 0s 2ms/step - loss: 0.1311 - accuracy: 0.9506\n",
      "Epoch 138/200\n",
      "81/81 [==============================] - 0s 2ms/step - loss: 0.1141 - accuracy: 0.9704\n",
      "Epoch 139/200\n",
      "81/81 [==============================] - 0s 2ms/step - loss: 0.1066 - accuracy: 0.9704\n",
      "Epoch 140/200\n",
      "81/81 [==============================] - 0s 2ms/step - loss: 0.2197 - accuracy: 0.9407\n",
      "Epoch 141/200\n",
      "81/81 [==============================] - 0s 2ms/step - loss: 0.1777 - accuracy: 0.9506\n",
      "Epoch 142/200\n",
      "81/81 [==============================] - 0s 2ms/step - loss: 0.1397 - accuracy: 0.9654\n",
      "Epoch 143/200\n",
      "81/81 [==============================] - 0s 2ms/step - loss: 0.1486 - accuracy: 0.9556\n",
      "Epoch 144/200\n",
      "81/81 [==============================] - 0s 2ms/step - loss: 0.1627 - accuracy: 0.9481\n",
      "Epoch 145/200\n",
      "81/81 [==============================] - 0s 2ms/step - loss: 0.1297 - accuracy: 0.9556\n",
      "Epoch 146/200\n",
      "81/81 [==============================] - 0s 2ms/step - loss: 0.1009 - accuracy: 0.9605\n",
      "Epoch 147/200\n",
      "81/81 [==============================] - 0s 2ms/step - loss: 0.0943 - accuracy: 0.9728\n",
      "Epoch 148/200\n",
      "81/81 [==============================] - 0s 2ms/step - loss: 0.1569 - accuracy: 0.9556\n",
      "Epoch 149/200\n",
      "81/81 [==============================] - 0s 2ms/step - loss: 0.0938 - accuracy: 0.9753\n",
      "Epoch 150/200\n",
      "81/81 [==============================] - 0s 2ms/step - loss: 0.1818 - accuracy: 0.9358\n",
      "Epoch 151/200\n",
      "81/81 [==============================] - 0s 2ms/step - loss: 0.0908 - accuracy: 0.9753\n",
      "Epoch 152/200\n",
      "81/81 [==============================] - 0s 2ms/step - loss: 0.1431 - accuracy: 0.9506\n",
      "Epoch 153/200\n",
      "81/81 [==============================] - 0s 3ms/step - loss: 0.1062 - accuracy: 0.9654\n",
      "Epoch 154/200\n",
      "81/81 [==============================] - 0s 2ms/step - loss: 0.1292 - accuracy: 0.9531\n",
      "Epoch 155/200\n",
      "81/81 [==============================] - 0s 2ms/step - loss: 0.1325 - accuracy: 0.9580\n",
      "Epoch 156/200\n",
      "81/81 [==============================] - 0s 2ms/step - loss: 0.1687 - accuracy: 0.9333\n",
      "Epoch 157/200\n",
      "81/81 [==============================] - 0s 2ms/step - loss: 0.1618 - accuracy: 0.9457\n",
      "Epoch 158/200\n",
      "81/81 [==============================] - 0s 2ms/step - loss: 0.1987 - accuracy: 0.9432\n",
      "Epoch 159/200\n",
      "81/81 [==============================] - 0s 3ms/step - loss: 0.1244 - accuracy: 0.9654\n",
      "Epoch 160/200\n",
      "81/81 [==============================] - 0s 2ms/step - loss: 0.0883 - accuracy: 0.9728\n",
      "Epoch 161/200\n",
      "81/81 [==============================] - 0s 2ms/step - loss: 0.1509 - accuracy: 0.9457\n",
      "Epoch 162/200\n",
      "81/81 [==============================] - 0s 2ms/step - loss: 0.1546 - accuracy: 0.9457\n",
      "Epoch 163/200\n",
      "81/81 [==============================] - 0s 2ms/step - loss: 0.1066 - accuracy: 0.9654\n",
      "Epoch 164/200\n",
      "81/81 [==============================] - 0s 2ms/step - loss: 0.1486 - accuracy: 0.9531\n",
      "Epoch 165/200\n",
      "81/81 [==============================] - 0s 2ms/step - loss: 0.1347 - accuracy: 0.9630\n",
      "Epoch 166/200\n",
      "81/81 [==============================] - 0s 2ms/step - loss: 0.1531 - accuracy: 0.9481\n",
      "Epoch 167/200\n",
      "81/81 [==============================] - 0s 2ms/step - loss: 0.0745 - accuracy: 0.9778\n",
      "Epoch 168/200\n",
      "81/81 [==============================] - 0s 2ms/step - loss: 0.1255 - accuracy: 0.9580\n",
      "Epoch 169/200\n",
      "81/81 [==============================] - 0s 2ms/step - loss: 0.2071 - accuracy: 0.9407\n",
      "Epoch 170/200\n",
      "81/81 [==============================] - 0s 2ms/step - loss: 0.1586 - accuracy: 0.9481\n",
      "Epoch 171/200\n",
      "81/81 [==============================] - 0s 2ms/step - loss: 0.1144 - accuracy: 0.9630\n",
      "Epoch 172/200\n",
      "81/81 [==============================] - 0s 2ms/step - loss: 0.1223 - accuracy: 0.9556\n",
      "Epoch 173/200\n",
      "81/81 [==============================] - 0s 2ms/step - loss: 0.1207 - accuracy: 0.9679\n",
      "Epoch 174/200\n",
      "81/81 [==============================] - 0s 2ms/step - loss: 0.1079 - accuracy: 0.9654\n",
      "Epoch 175/200\n",
      "81/81 [==============================] - 0s 2ms/step - loss: 0.2634 - accuracy: 0.9333\n",
      "Epoch 176/200\n",
      "81/81 [==============================] - 0s 2ms/step - loss: 0.1297 - accuracy: 0.9556\n",
      "Epoch 177/200\n",
      "81/81 [==============================] - 0s 2ms/step - loss: 0.1534 - accuracy: 0.9506\n",
      "Epoch 178/200\n",
      "81/81 [==============================] - 0s 2ms/step - loss: 0.0814 - accuracy: 0.9679\n",
      "Epoch 179/200\n",
      "81/81 [==============================] - 0s 2ms/step - loss: 0.0995 - accuracy: 0.9753\n",
      "Epoch 180/200\n",
      "81/81 [==============================] - 0s 2ms/step - loss: 0.1421 - accuracy: 0.9580\n",
      "Epoch 181/200\n",
      "81/81 [==============================] - 0s 2ms/step - loss: 0.1095 - accuracy: 0.9654\n",
      "Epoch 182/200\n",
      "81/81 [==============================] - 0s 2ms/step - loss: 0.1195 - accuracy: 0.9605\n",
      "Epoch 183/200\n",
      "81/81 [==============================] - 0s 2ms/step - loss: 0.1383 - accuracy: 0.9580\n",
      "Epoch 184/200\n",
      "81/81 [==============================] - 0s 2ms/step - loss: 0.0880 - accuracy: 0.9704\n",
      "Epoch 185/200\n",
      "81/81 [==============================] - 0s 2ms/step - loss: 0.1631 - accuracy: 0.9457\n",
      "Epoch 186/200\n",
      "81/81 [==============================] - 0s 2ms/step - loss: 0.1080 - accuracy: 0.9728\n",
      "Epoch 187/200\n",
      "81/81 [==============================] - 0s 2ms/step - loss: 0.1400 - accuracy: 0.9630\n",
      "Epoch 188/200\n",
      "81/81 [==============================] - 0s 2ms/step - loss: 0.1101 - accuracy: 0.9704\n",
      "Epoch 189/200\n",
      "81/81 [==============================] - 0s 2ms/step - loss: 0.1515 - accuracy: 0.9457\n",
      "Epoch 190/200\n",
      "81/81 [==============================] - 0s 2ms/step - loss: 0.1691 - accuracy: 0.9531\n",
      "Epoch 191/200\n",
      "81/81 [==============================] - 0s 2ms/step - loss: 0.1113 - accuracy: 0.9580\n",
      "Epoch 192/200\n",
      "81/81 [==============================] - 0s 2ms/step - loss: 0.0914 - accuracy: 0.9630\n",
      "Epoch 193/200\n",
      "81/81 [==============================] - 0s 2ms/step - loss: 0.1341 - accuracy: 0.9654\n",
      "Epoch 194/200\n",
      "81/81 [==============================] - 0s 2ms/step - loss: 0.1555 - accuracy: 0.9556\n",
      "Epoch 195/200\n",
      "81/81 [==============================] - 0s 2ms/step - loss: 0.1081 - accuracy: 0.9679\n",
      "Epoch 196/200\n",
      "81/81 [==============================] - 0s 2ms/step - loss: 0.0829 - accuracy: 0.9728\n",
      "Epoch 197/200\n",
      "81/81 [==============================] - 0s 2ms/step - loss: 0.1238 - accuracy: 0.9531\n",
      "Epoch 198/200\n",
      "81/81 [==============================] - 0s 2ms/step - loss: 0.1731 - accuracy: 0.9580\n",
      "Epoch 199/200\n",
      "81/81 [==============================] - 0s 3ms/step - loss: 0.1135 - accuracy: 0.9605\n",
      "Epoch 200/200\n",
      "81/81 [==============================] - 0s 2ms/step - loss: 0.1488 - accuracy: 0.9605\n"
     ]
    }
   ],
   "source": [
    "model = Sequential()\n",
    "model.add(Dense(128, input_shape=(len(train_x[0]),), activation='relu'))\n",
    "model.add(Dropout(0.5))\n",
    "model.add(Dense(64, activation='relu'))\n",
    "model.add(Dropout(0.5))\n",
    "model.add(Dense(len(train_y[0]), activation='softmax'))\n",
    "sgd = SGD(lr=0.01, decay=1e-6, momentum=0.9, nesterov=True)\n",
    "model.compile(loss='categorical_crossentropy', optimizer=sgd, metrics=['accuracy'])\n",
    "#fitting the model\n",
    "hist = model.fit(np.array(train_x), np.array(train_y), epochs=200, batch_size=5, verbose=1)\n"
   ]
  },
  {
   "cell_type": "markdown",
   "id": "c17e125f",
   "metadata": {
    "papermill": {
     "duration": 0.119149,
     "end_time": "2023-05-18T10:06:54.687636",
     "exception": false,
     "start_time": "2023-05-18T10:06:54.568487",
     "status": "completed"
    },
    "tags": []
   },
   "source": [
    "## Compile & Save"
   ]
  },
  {
   "cell_type": "code",
   "execution_count": 11,
   "id": "4deb416b",
   "metadata": {
    "execution": {
     "iopub.execute_input": "2023-05-18T10:06:54.927387Z",
     "iopub.status.busy": "2023-05-18T10:06:54.926928Z",
     "iopub.status.idle": "2023-05-18T10:06:54.932387Z",
     "shell.execute_reply": "2023-05-18T10:06:54.931227Z"
    },
    "papermill": {
     "duration": 0.127163,
     "end_time": "2023-05-18T10:06:54.935247",
     "exception": false,
     "start_time": "2023-05-18T10:06:54.808084",
     "status": "completed"
    },
    "tags": []
   },
   "outputs": [],
   "source": [
    "model.save('./bin/model.h5', hist)\n",
    "print(\"model created\")"
   ]
  },
  {
   "cell_type": "markdown",
   "id": "bfa431c3",
   "metadata": {},
   "source": [
    "## Test"
   ]
  },
  {
   "cell_type": "code",
   "execution_count": 6,
   "id": "8ee16a28",
   "metadata": {},
   "outputs": [],
   "source": [
    "model = load_model('./bin/model.h5')\n",
    "intents = json.loads(open('./../../data/intents.json').read())\n",
    "words = pickle.load(open('./bin/words.pkl','rb'))\n",
    "classes = pickle.load(open('./bin/classes.pkl','rb'))\n",
    "\n",
    "def clean_sentence(sentence):\n",
    "    sentence_words = nltk.word_tokenize(sentence)\n",
    "    sentence_words = [lemmatizer.lemmatize(word.lower()) for word in sentence_words]\n",
    "    return sentence_words\n",
    "\n",
    "def bag(sentence, words, show_details=True):\n",
    "    sentence_words = clean_sentence(sentence)\n",
    "\n",
    "    bag = [0]*len(words)\n",
    "    for s in sentence_words:\n",
    "        for i,w in enumerate(words):\n",
    "            if w == s:\n",
    "                bag[i] = 1\n",
    "                if show_details:\n",
    "                    print (\"found in bag: %s\" % w)\n",
    "    return(np.array(bag))\n",
    "\n",
    "def classify(sentence, model):\n",
    "    p = bag(sentence, words,show_details=False)\n",
    "    res = model.predict(np.array([p]))[0]\n",
    "\n",
    "    ERROR_THRESHOLD = 0.25\n",
    "\n",
    "    results = [[i,r] for i,r in enumerate(res) if r>ERROR_THRESHOLD]\n",
    "    results.sort(key=lambda x: x[1], reverse=True)\n",
    "\n",
    "    return_list = []\n",
    "\n",
    "    for r in results:\n",
    "        return_list.append({\"intent\": classes[r[0]], \"probability\": str(r[1])})\n",
    "\n",
    "    return return_list\n",
    "\n",
    "def getResponse(ints, intents_json):\n",
    "    tag = ints[0]['intent']\n",
    "\n",
    "    list_of_intents = intents_json['intents']\n",
    "\n",
    "    for i in list_of_intents:\n",
    "        if(i['tag']== tag):\n",
    "            result = random.choice(i['responses'])\n",
    "            break\n",
    "    return result\n",
    "\n",
    "def chatbot_response(text):\n",
    "    ints = classify(text, model)\n",
    "    res = getResponse(ints, intents)\n",
    "    return res"
   ]
  },
  {
   "cell_type": "code",
   "execution_count": 9,
   "id": "1880b230",
   "metadata": {},
   "outputs": [
    {
     "name": "stdout",
     "output_type": "stream",
     "text": [
      "1/1 [==============================] - 3s 3s/step\n"
     ]
    },
    {
     "data": {
      "text/plain": [
       "'Good to see you again!'"
      ]
     },
     "execution_count": 9,
     "metadata": {},
     "output_type": "execute_result"
    }
   ],
   "source": [
    "chatbot_response('hello')"
   ]
  },
  {
   "cell_type": "code",
   "execution_count": null,
   "id": "d4351cc5",
   "metadata": {},
   "outputs": [],
   "source": []
  }
 ],
 "metadata": {
  "kernelspec": {
   "display_name": "Python 3",
   "language": "python",
   "name": "python3"
  },
  "language_info": {
   "codemirror_mode": {
    "name": "ipython",
    "version": 3
   },
   "file_extension": ".py",
   "mimetype": "text/x-python",
   "name": "python",
   "nbconvert_exporter": "python",
   "pygments_lexer": "ipython3",
   "version": "3.9.18"
  },
  "papermill": {
   "default_parameters": {},
   "duration": 101.294081,
   "end_time": "2023-05-18T10:06:58.424546",
   "environment_variables": {},
   "exception": null,
   "input_path": "__notebook__.ipynb",
   "output_path": "__notebook__.ipynb",
   "parameters": {},
   "start_time": "2023-05-18T10:05:17.130465",
   "version": "2.4.0"
  }
 },
 "nbformat": 4,
 "nbformat_minor": 5
}
