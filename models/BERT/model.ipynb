{
 "cells": [
  {
   "cell_type": "markdown",
   "metadata": {},
   "source": [
    "**Install Dependencies**"
   ]
  },
  {
   "cell_type": "code",
   "execution_count": 1,
   "metadata": {},
   "outputs": [],
   "source": [
    "#%pip install missingno"
   ]
  },
  {
   "cell_type": "markdown",
   "metadata": {},
   "source": [
    "**Imports**"
   ]
  },
  {
   "cell_type": "code",
   "execution_count": 5,
   "metadata": {},
   "outputs": [],
   "source": [
    "import warnings\n",
    "warnings.filterwarnings('ignore')\n",
    "import json\n",
    "import numpy as np\n",
    "import pandas as pd\n",
    "import random\n",
    "from matplotlib import pyplot as plt\n",
    "import seaborn as sns\n",
    "import missingno as msno\n",
    "\n",
    "from sklearn.feature_extraction.text import CountVectorizer\n",
    "from sklearn.model_selection import train_test_split\n",
    "from sklearn.metrics import accuracy_score, precision_recall_fscore_support\n",
    "\n",
    "from keras.preprocessing import text\n",
    "import keras\n",
    "from keras.models import Sequential\n",
    "from keras.layers import Dense,Embedding,LSTM,Dropout\n",
    "from keras.callbacks import ReduceLROnPlateau\n",
    "\n",
    "from tensorflow.keras.preprocessing.sequence import pad_sequences\n",
    "import nltk\n",
    "from nltk import word_tokenize\n",
    "from nltk.stem import PorterStemmer\n",
    "\n",
    "import torch\n",
    "from torch.utils.data import Dataset\n",
    "\n",
    "from transformers import AutoTokenizer, TFAutoModelForSequenceClassification\n",
    "from transformers import pipeline\n",
    "from transformers import DistilBertTokenizerFast\n",
    "from transformers import BertForSequenceClassification, BertTokenizerFast\n",
    "from transformers import TFDistilBertForSequenceClassification, TFTrainer, TFTrainingArguments\n",
    "from transformers import BertTokenizer, TFBertForSequenceClassification, BertConfig\n",
    "from transformers import TrainingArguments, Trainer"
   ]
  },
  {
   "cell_type": "markdown",
   "metadata": {},
   "source": [
    "**Load Data:**"
   ]
  },
  {
   "cell_type": "code",
   "execution_count": 7,
   "metadata": {},
   "outputs": [
    {
     "data": {
      "text/plain": [
       "{'intents': [{'tag': 'greeting',\n",
       "   'patterns': ['Hi',\n",
       "    'How are you?',\n",
       "    'Is anyone there?',\n",
       "    'Hello',\n",
       "    'Good day',\n",
       "    \"What's up\",\n",
       "    'how are ya',\n",
       "    'heyy',\n",
       "    'whatsup',\n",
       "    '??? ??? ??'],\n",
       "   'responses': ['Hello!',\n",
       "    'Good to see you again!',\n",
       "    'Hi there, how can I help?'],\n",
       "   'context_set': ''},\n",
       "  {'tag': 'goodbye',\n",
       "   'patterns': ['cya',\n",
       "    'see you',\n",
       "    'bye bye',\n",
       "    'See you later',\n",
       "    'Goodbye',\n",
       "    'I am Leaving',\n",
       "    'Bye',\n",
       "    'Have a Good day',\n",
       "    'talk to you later',\n",
       "    'ttyl',\n",
       "    'i got to go',\n",
       "    'gtg'],\n",
       "   'responses': ['Sad to see you go :(',\n",
       "    'Talk to you later',\n",
       "    'Goodbye!',\n",
       "    'Come back soon'],\n",
       "   'context_set': ''},\n",
       "  {'tag': 'creator',\n",
       "   'patterns': ['what is the name of your developers',\n",
       "    'what is the name of your creators',\n",
       "    'what is the name of the developers',\n",
       "    'what is the name of the creators',\n",
       "    'who created you',\n",
       "    'your developers',\n",
       "    'your creators',\n",
       "    'who are your developers',\n",
       "    'developers',\n",
       "    'you are made by',\n",
       "    'you are made by whom',\n",
       "    'who created you',\n",
       "    'who create you',\n",
       "    'creators',\n",
       "    'who made you',\n",
       "    'who designed you'],\n",
       "   'responses': ['College students'],\n",
       "   'context_set': ''},\n",
       "  {'tag': 'name',\n",
       "   'patterns': ['name',\n",
       "    'your name',\n",
       "    'do you have a name',\n",
       "    'what are you called',\n",
       "    'what is your name',\n",
       "    'what should I call you',\n",
       "    'whats your name?',\n",
       "    'what are you',\n",
       "    'who are you',\n",
       "    'who is this',\n",
       "    'what am i chatting to',\n",
       "    'who am i taking to',\n",
       "    'what are you'],\n",
       "   'responses': ['You can call me Mind Reader.',\n",
       "    \"I'm Mind Reader\",\n",
       "    'I am a Chatbot.',\n",
       "    'I am your helper'],\n",
       "   'context_set': ''},\n",
       "  {'tag': 'hours',\n",
       "   'patterns': ['timing of college',\n",
       "    'what is college timing',\n",
       "    'working days',\n",
       "    'when are you guys open',\n",
       "    'what are your hours',\n",
       "    'hours of operation',\n",
       "    'when is the college open',\n",
       "    'college timing',\n",
       "    'what about college timing',\n",
       "    'is college open on saturday',\n",
       "    'tell something about college timing',\n",
       "    'what is the college  hours',\n",
       "    'when should i come to college',\n",
       "    'when should i attend college',\n",
       "    'what is my college time',\n",
       "    'college timing',\n",
       "    'timing college'],\n",
       "   'responses': ['College is open 8am-5pm Monday-Saturday!'],\n",
       "   'context_set': ''},\n",
       "  {'tag': 'number',\n",
       "   'patterns': ['more info',\n",
       "    'contact info',\n",
       "    'how to contact college',\n",
       "    'college telephone number',\n",
       "    'college number',\n",
       "    'What is your contact no',\n",
       "    'Contact number?',\n",
       "    'how to call you',\n",
       "    'College phone no?',\n",
       "    'how can i contact you',\n",
       "    'Can i get your phone number',\n",
       "    'how can i call you',\n",
       "    'phone number',\n",
       "    'phone no',\n",
       "    'call'],\n",
       "   'responses': ['You can contact at: NUMBER'],\n",
       "   'context_set': ''},\n",
       "  {'tag': 'course',\n",
       "   'patterns': ['list of courses',\n",
       "    'list of courses offered',\n",
       "    'list of courses offered in',\n",
       "    'what are the courses offered in your college?',\n",
       "    'courses?',\n",
       "    'courses offered',\n",
       "    'courses offered in (your univrsity(UNI) name)',\n",
       "    'courses you offer',\n",
       "    'branches?',\n",
       "    'courses available at UNI?',\n",
       "    'branches available at your college?',\n",
       "    'what are the courses in UNI?',\n",
       "    'what are branches in UNI?',\n",
       "    'what are courses in UNI?',\n",
       "    'branches available in UNI?',\n",
       "    'can you tell me the courses available in UNI?',\n",
       "    'can you tell me the branches available in UNI?',\n",
       "    'computer engineering?',\n",
       "    'computer',\n",
       "    'Computer engineering?',\n",
       "    'it',\n",
       "    'IT',\n",
       "    'Information Technology',\n",
       "    'AI/Ml',\n",
       "    'Mechanical engineering',\n",
       "    'Chemical engineering',\n",
       "    'Civil engineering'],\n",
       "   'responses': ['Our university offers Information Technology, computer Engineering, Mechanical engineering,Chemical engineering, Civil engineering and extc Engineering.'],\n",
       "   'context_set': ''},\n",
       "  {'tag': 'fees',\n",
       "   'patterns': ['information about fee',\n",
       "    'information on fee',\n",
       "    'tell me the fee',\n",
       "    'college fee',\n",
       "    'fee per semester',\n",
       "    'what is the fee of each semester',\n",
       "    'what is the fees of each year',\n",
       "    'what is fee',\n",
       "    'what is the fees',\n",
       "    'how much is the fees',\n",
       "    'fees for first year',\n",
       "    'fees',\n",
       "    'about the fees',\n",
       "    'tell me something about the fees',\n",
       "    'What is the fees of hostel',\n",
       "    'how much is the fees',\n",
       "    'hostel fees',\n",
       "    'fees for AC room',\n",
       "    'fees for non-AC room',\n",
       "    'fees for Ac room for girls',\n",
       "    'fees for non-Ac room for girls',\n",
       "    'fees for Ac room for boys',\n",
       "    'fees for non-Ac room for boys'],\n",
       "   'responses': ['For Fee detail visit <a target=\"_blank\" href=\"LINK\"> here</a>'],\n",
       "   'context_set': ''},\n",
       "  {'tag': 'location',\n",
       "   'patterns': ['where is the college located',\n",
       "    'college is located at',\n",
       "    'where is college',\n",
       "    'where is college located',\n",
       "    'address of college',\n",
       "    'how to reach college',\n",
       "    'college location',\n",
       "    'college address',\n",
       "    'wheres the college',\n",
       "    'how can I reach college',\n",
       "    'whats is the college address',\n",
       "    'what is the address of college',\n",
       "    'address',\n",
       "    'location'],\n",
       "   'responses': ['<a target=\"_blank\" href=\"ADD YOU GOOGLE MAP LINK HERE\"> here</a>'],\n",
       "   'context_set': ''},\n",
       "  {'tag': 'hostel',\n",
       "   'patterns': ['hostel facility',\n",
       "    'hostel servive',\n",
       "    'hostel location',\n",
       "    'hostel address',\n",
       "    'hostel facilities',\n",
       "    'hostel fees',\n",
       "    'Does college provide hostel',\n",
       "    'Is there any hostel',\n",
       "    'Where is hostel',\n",
       "    'do you have hostel',\n",
       "    'do you guys have hostel',\n",
       "    'hostel',\n",
       "    'hostel capacity',\n",
       "    'what is the hostel fee',\n",
       "    'how to get in hostel',\n",
       "    'what is the hostel address',\n",
       "    'how far is hostel from college',\n",
       "    'hostel college distance',\n",
       "    'where is the hostel',\n",
       "    'how big is the hostel',\n",
       "    'distance between college and hostel',\n",
       "    'distance between hostel and college'],\n",
       "   'responses': ['For hostel detail visit <a target=\"_blank\" href=\"ADD YOUR HOSTEL DETAIL PDF LINK OR ANY INFORMATION LINK OR ADD YOU OWN ANSWERS\"> here</a>'],\n",
       "   'context_set': ''},\n",
       "  {'tag': 'event',\n",
       "   'patterns': ['events organised',\n",
       "    'list of events',\n",
       "    'list of events organised in college',\n",
       "    'list of events conducted in college',\n",
       "    'What events are conducted in college',\n",
       "    'Are there any event held at college',\n",
       "    'Events?',\n",
       "    'functions',\n",
       "    'what are the events',\n",
       "    'tell me about events',\n",
       "    'what about events'],\n",
       "   'responses': ['For event detail visit <a target=\"_blank\" href=\"ADD YOUR FUNCTIONS LINK OR YOUR OWN RESPONSE\"> here</a>'],\n",
       "   'context_set': ''},\n",
       "  {'tag': 'document',\n",
       "   'patterns': ['document to bring',\n",
       "    'documents needed for admision',\n",
       "    'documents needed at the time of admission',\n",
       "    'documents needed during admission',\n",
       "    'documents required for admision',\n",
       "    'documents required at the time of admission',\n",
       "    'documents required during admission',\n",
       "    'What document are required for admission',\n",
       "    'Which document to bring for admission',\n",
       "    'documents',\n",
       "    'what documents do i need',\n",
       "    'what documents do I need for admission',\n",
       "    'documents needed'],\n",
       "   'responses': ['To know more about document required visit <a target=\"_blank\" href=\"ADD LINK OF ADMISSION GUIDANCE DOCUMENT FROM YOUR UNIVERSITY WEBSITE\"> here</a>'],\n",
       "   'context_set': ''},\n",
       "  {'tag': 'floors',\n",
       "   'patterns': ['size of campus',\n",
       "    'building size',\n",
       "    'How many floors does college have',\n",
       "    'floors in college',\n",
       "    'floors in college',\n",
       "    \"how tall is UNI's College of Engineering college building\",\n",
       "    'floors'],\n",
       "   'responses': ['My College has total 2 floors '],\n",
       "   'context_set': ''},\n",
       "  {'tag': 'syllabus',\n",
       "   'patterns': ['Syllabus for IT',\n",
       "    'what is the Information Technology syllabus',\n",
       "    'syllabus',\n",
       "    'timetable',\n",
       "    'what is IT syllabus',\n",
       "    'syllabus',\n",
       "    'What is next lecture'],\n",
       "   'responses': ['Timetable provide direct to the students OR To know about syllabus visit <a target=\"_blank\" href=\"TIMETABLE LINK\"> here</a>'],\n",
       "   'context_set': ''},\n",
       "  {'tag': 'library',\n",
       "   'patterns': ['is there any library',\n",
       "    'library facility',\n",
       "    'library facilities',\n",
       "    'do you have library',\n",
       "    'does the college have library facility',\n",
       "    'college library',\n",
       "    'where can i get books',\n",
       "    'book facility',\n",
       "    'Where is library',\n",
       "    'Library',\n",
       "    'Library information',\n",
       "    'Library books information',\n",
       "    'Tell me about library',\n",
       "    'how many libraries'],\n",
       "   'responses': ['There is one huge and spacious library.timings are 8am to 6pm and for more visit <a target=\"blank\" href=\"ADD LIBRARY DETAIL LINK\">here</a>'],\n",
       "   'context_set': ''},\n",
       "  {'tag': 'infrastructure',\n",
       "   'patterns': ['how is college infrastructure',\n",
       "    'infrastructure',\n",
       "    'college infrastructure'],\n",
       "   'responses': ['Our University has Excellent Infrastructure. Campus is clean. Good IT Labs With Good Speed of Internet connection'],\n",
       "   'context_set': ''},\n",
       "  {'tag': 'canteen',\n",
       "   'patterns': ['food facilities',\n",
       "    'canteen facilities',\n",
       "    'canteen facility',\n",
       "    'is there any canteen',\n",
       "    'Is there a cafetaria in college',\n",
       "    'Does college have canteen',\n",
       "    'Where is canteen',\n",
       "    'where is cafetaria',\n",
       "    'canteen',\n",
       "    'Food',\n",
       "    'Cafetaria'],\n",
       "   'responses': ['Our university has canteen with variety of food available'],\n",
       "   'context_set': ''},\n",
       "  {'tag': 'menu',\n",
       "   'patterns': ['food menu',\n",
       "    'food in canteen',\n",
       "    'Whats there on menu',\n",
       "    'what is available in college canteen',\n",
       "    'what foods can we get in college canteen',\n",
       "    'food variety',\n",
       "    'What is there to eat?'],\n",
       "   'responses': ['we serve Franky, Locho, Alu-puri, Kachori, Khavsa, Thaali and many more on menu'],\n",
       "   'context_set': ''},\n",
       "  {'tag': 'placement',\n",
       "   'patterns': ['What is college placement',\n",
       "    'Which companies visit in college',\n",
       "    'What is average package',\n",
       "    'companies visit',\n",
       "    'package',\n",
       "    'About placement',\n",
       "    'placement',\n",
       "    'recruitment',\n",
       "    'companies'],\n",
       "   'responses': ['To know about placement visit <a target=\"_blank\" href=\"PLACEMENT INFORMATION LINK FROM YOUR UNIVERSITY WEBSITE IF THEY HAVE\">here</a>'],\n",
       "   'context_set': ''},\n",
       "  {'tag': 'ithod',\n",
       "   'patterns': ['Who is HOD', 'Where is HOD', 'it hod', 'name of it hod'],\n",
       "   'responses': ['All engineering departments have only one hod XYZ who available on (Place name)'],\n",
       "   'context_set': ''},\n",
       "  {'tag': 'computerhod',\n",
       "   'patterns': ['Who is computer HOD',\n",
       "    'Where is computer HOD',\n",
       "    'computer hod',\n",
       "    'name of computer hod'],\n",
       "   'responses': ['All engineering departments have only one hod XYZ who available on (PLACE NAME)'],\n",
       "   'context_set': ''},\n",
       "  {'tag': 'extchod',\n",
       "   'patterns': ['Who is extc HOD',\n",
       "    'Where is  extc HOD',\n",
       "    'extc hod',\n",
       "    'name of extc hod'],\n",
       "   'responses': ['Different school wise hod are different.So be more clear with your school or department'],\n",
       "   'context_set': ''},\n",
       "  {'tag': 'principal',\n",
       "   'patterns': ['what is the name of principal',\n",
       "    'whatv is the principal name',\n",
       "    'principal name',\n",
       "    'Who is college principal',\n",
       "    \"Where is principal's office\",\n",
       "    'principal',\n",
       "    'name of principal'],\n",
       "   'responses': ['XYZ is college principal and if you need any help then call your branch hod first.That is more appropriate'],\n",
       "   'context_set': ''},\n",
       "  {'tag': 'sem',\n",
       "   'patterns': ['exam dates',\n",
       "    'exam schedule',\n",
       "    'When is semester exam',\n",
       "    'Semester exam timetable',\n",
       "    'sem',\n",
       "    'semester',\n",
       "    'exam',\n",
       "    'when is exam',\n",
       "    'exam timetable',\n",
       "    'exam dates',\n",
       "    'when is semester'],\n",
       "   'responses': ['Here is the Academic Calendar  <a target=\"_blank\" href=\"YOUR ACADEMIC CALENDER\">website</a>'],\n",
       "   'context_set': ''},\n",
       "  {'tag': 'admission',\n",
       "   'patterns': ['what is the process of admission',\n",
       "    'what is the admission process',\n",
       "    'How to take admission in your college',\n",
       "    'What is the process for admission',\n",
       "    'admission',\n",
       "    'admission process'],\n",
       "   'responses': ['Application can also be submitted online through the Unversity\\'s  <a target=\"_blank\" href=\"LINK OF ADMISSION DOCUMENT\">website</a>'],\n",
       "   'context_set': ''},\n",
       "  {'tag': 'scholarship',\n",
       "   'patterns': ['scholarship',\n",
       "    'Is scholarship available',\n",
       "    'scholarship engineering',\n",
       "    'scholarship it',\n",
       "    'scholarship ce',\n",
       "    'scholarship mechanical',\n",
       "    'scholarship civil',\n",
       "    'scholarship chemical',\n",
       "    'scholarship for AI/ML',\n",
       "    'available scholarships',\n",
       "    'scholarship for computer engineering',\n",
       "    'scholarship for IT engineering',\n",
       "    'scholarship for mechanical engineering',\n",
       "    'scholarship for civil engineering',\n",
       "    'scholarship for chemical engineering',\n",
       "    'list of scholarship',\n",
       "    'comps scholarship',\n",
       "    'IT scholarship',\n",
       "    'mechanical scholarship',\n",
       "    'civil scholarship',\n",
       "    'chemical scholarship',\n",
       "    'automobile scholarship',\n",
       "    'first year scholarship',\n",
       "    'second year scholarship',\n",
       "    'third year scholarship',\n",
       "    'fourth year scholarship'],\n",
       "   'responses': ['Many government scholarships are supported by our university. For details and updates visit <a target=\"_blank\" href=\"(SCHOLARSHIP DETAILS LINK)\">here</a>'],\n",
       "   'context_set': ''},\n",
       "  {'tag': 'facilities',\n",
       "   'patterns': ['What facilities college provide',\n",
       "    'College facility',\n",
       "    'What are college facilities',\n",
       "    'facilities',\n",
       "    'facilities provided'],\n",
       "   'responses': [\"Our university's Engineering department provides fully AC Lab with internet connection, smart classroom, Auditorium, library,canteen\"],\n",
       "   'context_set': ''},\n",
       "  {'tag': 'college intake',\n",
       "   'patterns': ['max number of students',\n",
       "    'number of seats per branch',\n",
       "    'number of seats in each branch',\n",
       "    'maximum number of seats',\n",
       "    'maximum students intake',\n",
       "    'What is college intake',\n",
       "    'how many stundent are taken in each branch',\n",
       "    'seat allotment',\n",
       "    'seats'],\n",
       "   'responses': ['For IT, Computer and extc 60 per branch and seat may be differ for different department.'],\n",
       "   'context_set': ''},\n",
       "  {'tag': 'uniform',\n",
       "   'patterns': ['college dress code',\n",
       "    'college dresscode',\n",
       "    'what is the uniform',\n",
       "    'can we wear casuals',\n",
       "    'Does college have an uniform',\n",
       "    'Is there any uniform',\n",
       "    'uniform',\n",
       "    'what about uniform',\n",
       "    'do we have to wear uniform'],\n",
       "   'responses': ['ENTER YOUR OWN UNIVERSITY UNIFORM CIRCULER'],\n",
       "   'context_set': ''},\n",
       "  {'tag': 'committee',\n",
       "   'patterns': ['what are the different committe in college',\n",
       "    'different committee in college',\n",
       "    'Are there any committee in college',\n",
       "    'Give me committee details',\n",
       "    'committee',\n",
       "    'how many committee are there in college'],\n",
       "   'responses': ['For the various committe in college contact this number: ADD NUMBER'],\n",
       "   'context_set': ''},\n",
       "  {'tag': 'random',\n",
       "   'patterns': ['I love you', 'Will you marry me', 'Do you love me'],\n",
       "   'responses': ['I am not program for this, please ask appropriate query'],\n",
       "   'context_set': ''},\n",
       "  {'tag': 'swear',\n",
       "   'patterns': ['fuck',\n",
       "    'bitch',\n",
       "    'shut up',\n",
       "    'hell',\n",
       "    'stupid',\n",
       "    'idiot',\n",
       "    'dumb ass',\n",
       "    'asshole',\n",
       "    'fucker'],\n",
       "   'responses': ['please use appropriate language',\n",
       "    'Maintaining decency would be appreciated'],\n",
       "   'context_set': ''},\n",
       "  {'tag': 'vacation',\n",
       "   'patterns': ['holidays',\n",
       "    'when will semester starts',\n",
       "    'when will semester end',\n",
       "    'when is the holidays',\n",
       "    'list of holidays',\n",
       "    'Holiday in these year',\n",
       "    'holiday list',\n",
       "    'about vacations',\n",
       "    'about holidays',\n",
       "    'When is vacation',\n",
       "    'When is holidays',\n",
       "    'how long will be the vacation'],\n",
       "   'responses': ['Academic calender is given to you by your class-soordinators after you join your respective classes'],\n",
       "   'context_set': ''},\n",
       "  {'tag': 'sports',\n",
       "   'patterns': ['sports and games',\n",
       "    'give sports details',\n",
       "    'sports infrastructure',\n",
       "    'sports facilities',\n",
       "    'information about sports',\n",
       "    'Sports activities',\n",
       "    'please provide sports and games information'],\n",
       "   'responses': ['Our university encourages all-round development of students and hence provides sports facilities in the campus. For more details visit<a target=\"_blank\" href=/\"(LINK IF HAVE)\">here</a>'],\n",
       "   'context_set': ''},\n",
       "  {'tag': 'salutaion',\n",
       "   'patterns': ['okk',\n",
       "    'okie',\n",
       "    'nice work',\n",
       "    'well done',\n",
       "    'good job',\n",
       "    'thanks for the help',\n",
       "    'Thank You',\n",
       "    'its ok',\n",
       "    'Thanks',\n",
       "    'Good work',\n",
       "    'k',\n",
       "    'ok',\n",
       "    'okay'],\n",
       "   'responses': ['I am glad I helped you',\n",
       "    'welcome, anything else i can assist you with?'],\n",
       "   'context_set': ''},\n",
       "  {'tag': 'task',\n",
       "   'patterns': ['what can you do',\n",
       "    'what are the thing you can do',\n",
       "    'things you can do',\n",
       "    'what can u do for me',\n",
       "    'how u can help me',\n",
       "    'why i should use you'],\n",
       "   'responses': ['I can answer to low-intermediate questions regarding college',\n",
       "    'You can ask me questions regarding college, and i will try to answer them'],\n",
       "   'context_set': ''},\n",
       "  {'tag': 'ragging',\n",
       "   'patterns': ['ragging',\n",
       "    'is ragging practice active in college',\n",
       "    'does college have any antiragging facility',\n",
       "    'is there any ragging cases',\n",
       "    'is ragging done here',\n",
       "    'ragging against',\n",
       "    'antiragging facility',\n",
       "    'ragging juniors',\n",
       "    'ragging history',\n",
       "    'ragging incidents'],\n",
       "   'responses': ['We are Proud to tell you that our college provides ragging free environment, and we have strict rules against ragging'],\n",
       "   'context_set': ''},\n",
       "  {'tag': 'hod',\n",
       "   'patterns': ['hod', 'hod name', 'who is the hod'],\n",
       "   'responses': ['HODs differ for each branch, please be more specific like: (HOD it)'],\n",
       "   'context_set': ''},\n",
       "  {'tag': 'eligibility',\n",
       "   'patterns': ['What are the eligibility criteria for admission?',\n",
       "    'Am I eligible to apply?',\n",
       "    'Qualifications required for admission',\n",
       "    'Tell me about admission requirements',\n",
       "    'Is there a minimum GPA for admission?'],\n",
       "   'responses': ['Eligibility criteria vary by program. You can find detailed information on our website or contact the admission office.'],\n",
       "   'context_set': ''},\n",
       "  {'tag': 'application_process',\n",
       "   'patterns': ['How do I apply?',\n",
       "    'Steps for admission application',\n",
       "    'What documents are needed for the application?',\n",
       "    'Can I submit my application online?',\n",
       "    'Guide me through the application process'],\n",
       "   'responses': ['To apply, visit our official website and follow the instructions. Required documents include academic transcripts, ID proof, and passport-sized photos.'],\n",
       "   'context_set': ''},\n",
       "  {'tag': 'admission_deadlines',\n",
       "   'patterns': ['What are the admission deadlines?',\n",
       "    'When is the application deadline?',\n",
       "    'Important dates for admission',\n",
       "    'Can I apply after the deadline?',\n",
       "    'Tell me about early admission options'],\n",
       "   'responses': ['Admission deadlines can vary. Check our website for the latest information on application deadlines for each program.'],\n",
       "   'context_set': ''},\n",
       "  {'tag': 'financial_aid',\n",
       "   'patterns': ['Is financial aid available?',\n",
       "    'Scholarships offered by the university',\n",
       "    'Financial assistance for students',\n",
       "    'Tell me about merit-based scholarships',\n",
       "    'How can I apply for financial aid?'],\n",
       "   'responses': ['We offer various scholarships and financial aid options. Explore our scholarship programs on the official website.'],\n",
       "   'context_set': ''},\n",
       "  {'tag': 'campus_facilities',\n",
       "   'patterns': ['Tell me about campus facilities',\n",
       "    'What facilities does the campus have?',\n",
       "    'Campus amenities',\n",
       "    'Are there computer labs on campus?',\n",
       "    'Describe the sports facilities'],\n",
       "   'responses': ['Our campus features state-of-the-art facilities including modern classrooms, laboratories, recreational areas, and sports facilities.'],\n",
       "   'context_set': ''},\n",
       "  {'tag': 'extracurricular_activities',\n",
       "   'patterns': ['What extracurricular activities are available?',\n",
       "    'Clubs and societies on campus',\n",
       "    'Sports and cultural activities',\n",
       "    'Tell me about student clubs',\n",
       "    'Can I participate in drama or music clubs?'],\n",
       "   'responses': ['Get involved in our vibrant campus life! We have a range of clubs, sports teams, and cultural activities to suit various interests.'],\n",
       "   'context_set': ''},\n",
       "  {'tag': 'student_support_services',\n",
       "   'patterns': ['What support services are available for students?',\n",
       "    'Counseling services',\n",
       "    'Career guidance',\n",
       "    'Tell me about academic tutoring services',\n",
       "    'Are there services for students with disabilities?'],\n",
       "   'responses': ['We prioritize the well-being of our students. Explore our support services, including counseling, career guidance, and academic assistance.'],\n",
       "   'context_set': ''},\n",
       "  {'tag': 'internship_opportunities',\n",
       "   'patterns': ['Are there internship opportunities?',\n",
       "    'Internship programs for students',\n",
       "    'Industry connections',\n",
       "    'Tell me about engineering internships',\n",
       "    'Can I get assistance in finding internships?'],\n",
       "   'responses': ['Our university fosters strong industry ties, providing students with valuable internship opportunities. Explore career development programs on our website.'],\n",
       "   'context_set': ''},\n",
       "  {'tag': 'research_opportunities',\n",
       "   'patterns': ['Research programs at the university',\n",
       "    'How can I get involved in research?',\n",
       "    'Research facilities',\n",
       "    'Tell me about ongoing research projects',\n",
       "    'Are there opportunities for undergraduate research?'],\n",
       "   'responses': ['We encourage students to engage in research. Learn about ongoing research projects and opportunities to collaborate with faculty.'],\n",
       "   'context_set': ''},\n",
       "  {'tag': 'alumni_success_stories',\n",
       "   'patterns': ['Tell me about successful alumni',\n",
       "    'Alumni achievements',\n",
       "    'Notable graduates',\n",
       "    'Can I connect with alumni for mentorship?',\n",
       "    'Share inspiring stories of graduates'],\n",
       "   'responses': ['Discover inspiring stories of our successful alumni who have made significant contributions in their respective fields.'],\n",
       "   'context_set': ''},\n",
       "  {'tag': 'admission_requirements',\n",
       "   'patterns': ['What are the minimum GPA requirements for admission?',\n",
       "    'Can you explain the admission eligibility criteria in detail?',\n",
       "    'Are there specific language proficiency tests required?',\n",
       "    'Tell me more about the portfolio submission requirements.',\n",
       "    'Do I need to submit standardized test scores for admission?'],\n",
       "   'responses': ['Admission requirements may vary by program. Check our website or contact the admissions office for detailed information.'],\n",
       "   'context_set': ''},\n",
       "  {'tag': 'application_submission',\n",
       "   'patterns': ['How can I pay the application fee online?',\n",
       "    'Is there a common application form for all programs?',\n",
       "    'Tell me about the submission deadline for recommendation letters.',\n",
       "    'Can I track the status of my application online?',\n",
       "    'Any tips for a successful online application submission?'],\n",
       "   'responses': ['Submit your application through our official online portal. Ensure all required documents are uploaded before the deadline.'],\n",
       "   'context_set': ''},\n",
       "  {'tag': 'admission_decisions',\n",
       "   'patterns': ['What types of admission decisions can I expect?',\n",
       "    'Is there an appeals process for admission decisions?',\n",
       "    'Can I defer my admission to a later term?',\n",
       "    'Tell me about the timeline for admission decisions.',\n",
       "    'Are there conditional admission offers for certain programs?'],\n",
       "   'responses': ['Admission decisions are typically communicated by email or through the online application portal. Check your status regularly for updates.'],\n",
       "   'context_set': ''},\n",
       "  {'tag': 'financial_aid_options',\n",
       "   'patterns': ['How do I apply for departmental scholarships?',\n",
       "    'Tell me about the process of applying for grants.',\n",
       "    'Are there work-study opportunities available?',\n",
       "    'Describe the renewal criteria for merit-based scholarships.',\n",
       "    'Tell me about external scholarships accepted by the university.'],\n",
       "   'responses': ['Explore our diverse financial aid options, including scholarships, grants, and work-study programs. Check the eligibility criteria on our website.'],\n",
       "   'context_set': ''},\n",
       "  {'tag': 'accommodation_options',\n",
       "   'patterns': ['How do I apply for on-campus housing?',\n",
       "    'Tell me about off-campus accommodation resources.',\n",
       "    'Are there gender-specific housing options?',\n",
       "    'Describe the amenities in on-campus housing.',\n",
       "    'Tell me about roommate matching services.'],\n",
       "   'responses': ['Our university offers a range of accommodation options, including on-campus dormitories. Explore our housing facilities and application process on our website.'],\n",
       "   'context_set': ''}]}"
      ]
     },
     "execution_count": 7,
     "metadata": {},
     "output_type": "execute_result"
    }
   ],
   "source": [
    "filename = './../../data/intents_generated.json'\n",
    "\n",
    "with open(filename) as f:\n",
    "    intents = json.load(f)\n",
    "\n",
    "intents"
   ]
  },
  {
   "cell_type": "code",
   "execution_count": 9,
   "metadata": {},
   "outputs": [
    {
     "data": {
      "text/html": [
       "<div>\n",
       "<style scoped>\n",
       "    .dataframe tbody tr th:only-of-type {\n",
       "        vertical-align: middle;\n",
       "    }\n",
       "\n",
       "    .dataframe tbody tr th {\n",
       "        vertical-align: top;\n",
       "    }\n",
       "\n",
       "    .dataframe thead th {\n",
       "        text-align: right;\n",
       "    }\n",
       "</style>\n",
       "<table border=\"1\" class=\"dataframe\">\n",
       "  <thead>\n",
       "    <tr style=\"text-align: right;\">\n",
       "      <th></th>\n",
       "      <th>Pattern</th>\n",
       "      <th>Tag</th>\n",
       "    </tr>\n",
       "  </thead>\n",
       "  <tbody>\n",
       "    <tr>\n",
       "      <th>0</th>\n",
       "      <td>Hi</td>\n",
       "      <td>greeting</td>\n",
       "    </tr>\n",
       "    <tr>\n",
       "      <th>1</th>\n",
       "      <td>How are you?</td>\n",
       "      <td>greeting</td>\n",
       "    </tr>\n",
       "    <tr>\n",
       "      <th>2</th>\n",
       "      <td>Is anyone there?</td>\n",
       "      <td>greeting</td>\n",
       "    </tr>\n",
       "    <tr>\n",
       "      <th>3</th>\n",
       "      <td>Hello</td>\n",
       "      <td>greeting</td>\n",
       "    </tr>\n",
       "    <tr>\n",
       "      <th>4</th>\n",
       "      <td>Good day</td>\n",
       "      <td>greeting</td>\n",
       "    </tr>\n",
       "  </tbody>\n",
       "</table>\n",
       "</div>"
      ],
      "text/plain": [
       "            Pattern       Tag\n",
       "0                Hi  greeting\n",
       "1      How are you?  greeting\n",
       "2  Is anyone there?  greeting\n",
       "3             Hello  greeting\n",
       "4          Good day  greeting"
      ]
     },
     "execution_count": 9,
     "metadata": {},
     "output_type": "execute_result"
    }
   ],
   "source": [
    "def create_and_extract_info(json_file):\n",
    "    df = pd.DataFrame({\n",
    "        'Pattern' : [],\n",
    "        'Tag' : []\n",
    "    })\n",
    "\n",
    "    for intent in json_file['intents']:\n",
    "        for pattern in intent['patterns']:\n",
    "            sentence_tag = [pattern, intent['tag']]\n",
    "            df.loc[len(df.index)] = sentence_tag\n",
    "\n",
    "    return df\n",
    "\n",
    "df = create_and_extract_info(intents)\n",
    "df2 = df.copy()\n",
    "df.head()"
   ]
  },
  {
   "cell_type": "markdown",
   "metadata": {},
   "source": [
    "**About the data**:"
   ]
  },
  {
   "cell_type": "code",
   "execution_count": 11,
   "metadata": {},
   "outputs": [
    {
     "data": {
      "text/plain": [
       "(480, 2)"
      ]
     },
     "execution_count": 11,
     "metadata": {},
     "output_type": "execute_result"
    }
   ],
   "source": [
    "df.shape"
   ]
  },
  {
   "cell_type": "code",
   "execution_count": 12,
   "metadata": {},
   "outputs": [
    {
     "name": "stdout",
     "output_type": "stream",
     "text": [
      "<class 'pandas.core.frame.DataFrame'>\n",
      "Index: 480 entries, 0 to 479\n",
      "Data columns (total 2 columns):\n",
      " #   Column   Non-Null Count  Dtype \n",
      "---  ------   --------------  ----- \n",
      " 0   Pattern  480 non-null    object\n",
      " 1   Tag      480 non-null    object\n",
      "dtypes: object(2)\n",
      "memory usage: 11.2+ KB\n"
     ]
    }
   ],
   "source": [
    "df.info()"
   ]
  },
  {
   "cell_type": "markdown",
   "metadata": {},
   "source": [
    "**Number of classes**:"
   ]
  },
  {
   "cell_type": "code",
   "execution_count": 13,
   "metadata": {},
   "outputs": [
    {
     "data": {
      "text/plain": [
       "53"
      ]
     },
     "execution_count": 13,
     "metadata": {},
     "output_type": "execute_result"
    }
   ],
   "source": [
    "len(df['Tag'].unique())"
   ]
  },
  {
   "cell_type": "code",
   "execution_count": 14,
   "metadata": {},
   "outputs": [
    {
     "data": {
      "text/plain": [
       "Pattern    0\n",
       "Tag        0\n",
       "dtype: int64"
      ]
     },
     "execution_count": 14,
     "metadata": {},
     "output_type": "execute_result"
    }
   ],
   "source": [
    "df.isnull().sum()"
   ]
  },
  {
   "cell_type": "code",
   "execution_count": 16,
   "metadata": {},
   "outputs": [
    {
     "data": {
      "image/png": "[encoded data removed]",
      "text/plain": [
       "<Figure size 2000x1000 with 1 Axes>"
      ]
     },
     "metadata": {},
     "output_type": "display_data"
    }
   ],
   "source": [
    "def count_plot(x, df, title, xlabel, ylabel, width, height, order = None, rotation=False, palette='winter', hue=None):\n",
    "    ncount = len(df)\n",
    "    plt.figure(figsize=(width,height))\n",
    "    ax = sns.countplot(x = x, palette=palette, order = order, hue=hue)\n",
    "    plt.title(title, fontsize=20)\n",
    "    if rotation:\n",
    "        plt.xticks(rotation = 'vertical')\n",
    "    plt.xlabel(xlabel, fontsize=25)\n",
    "    plt.ylabel(ylabel, fontsize=25)\n",
    "\n",
    "    ax.yaxis.set_label_position('left')\n",
    "    for p in ax.patches:\n",
    "        x=p.get_bbox().get_points()[:,0]\n",
    "        y=p.get_bbox().get_points()[1,1]\n",
    "        ax.annotate('{:.1f}%'.format(100.*y/ncount), (x.mean(), y),\n",
    "                ha='center', va='bottom') # set the alignment of the text\n",
    "\n",
    "    plt.show()\n",
    "\n",
    "sns.set(font_scale = 1.2)\n",
    "order = df['Tag'].value_counts().index\n",
    "count_plot(df['Tag'], df, \"Chatbot Tags distrbution\", \"Tags\", \"Frequency\", 20,10, order=order,rotation=True, palette=\"summer\")"
   ]
  },
  {
   "cell_type": "code",
   "execution_count": 17,
   "metadata": {},
   "outputs": [
    {
     "data": {
      "text/html": [
       "<div>\n",
       "<style scoped>\n",
       "    .dataframe tbody tr th:only-of-type {\n",
       "        vertical-align: middle;\n",
       "    }\n",
       "\n",
       "    .dataframe tbody tr th {\n",
       "        vertical-align: top;\n",
       "    }\n",
       "\n",
       "    .dataframe thead th {\n",
       "        text-align: right;\n",
       "    }\n",
       "</style>\n",
       "<table border=\"1\" class=\"dataframe\">\n",
       "  <thead>\n",
       "    <tr style=\"text-align: right;\">\n",
       "      <th></th>\n",
       "      <th>Pattern</th>\n",
       "      <th>Tag</th>\n",
       "    </tr>\n",
       "  </thead>\n",
       "  <tbody>\n",
       "    <tr>\n",
       "      <th>0</th>\n",
       "      <td>hi</td>\n",
       "      <td>greeting</td>\n",
       "    </tr>\n",
       "    <tr>\n",
       "      <th>1</th>\n",
       "      <td>how are you</td>\n",
       "      <td>greeting</td>\n",
       "    </tr>\n",
       "    <tr>\n",
       "      <th>2</th>\n",
       "      <td>is anyon there</td>\n",
       "      <td>greeting</td>\n",
       "    </tr>\n",
       "    <tr>\n",
       "      <th>3</th>\n",
       "      <td>hello</td>\n",
       "      <td>greeting</td>\n",
       "    </tr>\n",
       "    <tr>\n",
       "      <th>4</th>\n",
       "      <td>good day</td>\n",
       "      <td>greeting</td>\n",
       "    </tr>\n",
       "  </tbody>\n",
       "</table>\n",
       "</div>"
      ],
      "text/plain": [
       "          Pattern       Tag\n",
       "0              hi  greeting\n",
       "1     how are you  greeting\n",
       "2  is anyon there  greeting\n",
       "3           hello  greeting\n",
       "4        good day  greeting"
      ]
     },
     "execution_count": 17,
     "metadata": {},
     "output_type": "execute_result"
    }
   ],
   "source": [
    "stemmer = PorterStemmer()\n",
    "ignore_words=['?', '!', ',', '.']\n",
    "\n",
    "def preprocess_pattern(pattern):\n",
    "    words = word_tokenize(pattern.lower())\n",
    "    stemmed_words = [stemmer.stem(word) for word in words if word not in ignore_words]\n",
    "    return \" \".join(stemmed_words)\n",
    "\n",
    "df['Pattern'] = df['Pattern'].apply(preprocess_pattern)\n",
    "df.head()"
   ]
  },
  {
   "cell_type": "markdown",
   "metadata": {},
   "source": [
    "**Pre-processing**:"
   ]
  },
  {
   "cell_type": "code",
   "execution_count": 18,
   "metadata": {},
   "outputs": [
    {
     "data": {
      "text/plain": [
       "['greeting',\n",
       " 'goodbye',\n",
       " 'creator',\n",
       " 'name',\n",
       " 'hours',\n",
       " 'number',\n",
       " 'course',\n",
       " 'fees',\n",
       " 'location',\n",
       " 'hostel',\n",
       " 'event',\n",
       " 'document',\n",
       " 'floors',\n",
       " 'syllabus',\n",
       " 'library',\n",
       " 'infrastructure',\n",
       " 'canteen',\n",
       " 'menu',\n",
       " 'placement',\n",
       " 'ithod',\n",
       " 'computerhod',\n",
       " 'extchod',\n",
       " 'principal',\n",
       " 'sem',\n",
       " 'admission',\n",
       " 'scholarship',\n",
       " 'facilities',\n",
       " 'college intake',\n",
       " 'uniform',\n",
       " 'committee',\n",
       " 'random',\n",
       " 'swear',\n",
       " 'vacation',\n",
       " 'sports',\n",
       " 'salutaion',\n",
       " 'task',\n",
       " 'ragging',\n",
       " 'hod',\n",
       " 'eligibility',\n",
       " 'application_process',\n",
       " 'admission_deadlines',\n",
       " 'financial_aid',\n",
       " 'campus_facilities',\n",
       " 'extracurricular_activities',\n",
       " 'student_support_services',\n",
       " 'internship_opportunities',\n",
       " 'research_opportunities',\n",
       " 'alumni_success_stories',\n",
       " 'admission_requirements',\n",
       " 'application_submission',\n",
       " 'admission_decisions',\n",
       " 'financial_aid_options',\n",
       " 'accommodation_options']"
      ]
     },
     "execution_count": 18,
     "metadata": {},
     "output_type": "execute_result"
    }
   ],
   "source": [
    "labels = df2['Tag'].unique().tolist()\n",
    "labels = [s.strip() for s in labels]\n",
    "labels"
   ]
  },
  {
   "cell_type": "code",
   "execution_count": 19,
   "metadata": {},
   "outputs": [
    {
     "data": {
      "text/plain": [
       "{0: 'greeting',\n",
       " 1: 'goodbye',\n",
       " 2: 'creator',\n",
       " 3: 'name',\n",
       " 4: 'hours',\n",
       " 5: 'number',\n",
       " 6: 'course',\n",
       " 7: 'fees',\n",
       " 8: 'location',\n",
       " 9: 'hostel',\n",
       " 10: 'event',\n",
       " 11: 'document',\n",
       " 12: 'floors',\n",
       " 13: 'syllabus',\n",
       " 14: 'library',\n",
       " 15: 'infrastructure',\n",
       " 16: 'canteen',\n",
       " 17: 'menu',\n",
       " 18: 'placement',\n",
       " 19: 'ithod',\n",
       " 20: 'computerhod',\n",
       " 21: 'extchod',\n",
       " 22: 'principal',\n",
       " 23: 'sem',\n",
       " 24: 'admission',\n",
       " 25: 'scholarship',\n",
       " 26: 'facilities',\n",
       " 27: 'college intake',\n",
       " 28: 'uniform',\n",
       " 29: 'committee',\n",
       " 30: 'random',\n",
       " 31: 'swear',\n",
       " 32: 'vacation',\n",
       " 33: 'sports',\n",
       " 34: 'salutaion',\n",
       " 35: 'task',\n",
       " 36: 'ragging',\n",
       " 37: 'hod',\n",
       " 38: 'eligibility',\n",
       " 39: 'application_process',\n",
       " 40: 'admission_deadlines',\n",
       " 41: 'financial_aid',\n",
       " 42: 'campus_facilities',\n",
       " 43: 'extracurricular_activities',\n",
       " 44: 'student_support_services',\n",
       " 45: 'internship_opportunities',\n",
       " 46: 'research_opportunities',\n",
       " 47: 'alumni_success_stories',\n",
       " 48: 'admission_requirements',\n",
       " 49: 'application_submission',\n",
       " 50: 'admission_decisions',\n",
       " 51: 'financial_aid_options',\n",
       " 52: 'accommodation_options'}"
      ]
     },
     "execution_count": 19,
     "metadata": {},
     "output_type": "execute_result"
    }
   ],
   "source": [
    "num_labels = len(labels)\n",
    "id2label = {id:label for id, label in enumerate(labels)}\n",
    "label2id = {label:id for id, label in enumerate(labels)}\n",
    "id2label"
   ]
  },
  {
   "cell_type": "code",
   "execution_count": 20,
   "metadata": {},
   "outputs": [
    {
     "data": {
      "text/plain": [
       "{'greeting': 0,\n",
       " 'goodbye': 1,\n",
       " 'creator': 2,\n",
       " 'name': 3,\n",
       " 'hours': 4,\n",
       " 'number': 5,\n",
       " 'course': 6,\n",
       " 'fees': 7,\n",
       " 'location': 8,\n",
       " 'hostel': 9,\n",
       " 'event': 10,\n",
       " 'document': 11,\n",
       " 'floors': 12,\n",
       " 'syllabus': 13,\n",
       " 'library': 14,\n",
       " 'infrastructure': 15,\n",
       " 'canteen': 16,\n",
       " 'menu': 17,\n",
       " 'placement': 18,\n",
       " 'ithod': 19,\n",
       " 'computerhod': 20,\n",
       " 'extchod': 21,\n",
       " 'principal': 22,\n",
       " 'sem': 23,\n",
       " 'admission': 24,\n",
       " 'scholarship': 25,\n",
       " 'facilities': 26,\n",
       " 'college intake': 27,\n",
       " 'uniform': 28,\n",
       " 'committee': 29,\n",
       " 'random': 30,\n",
       " 'swear': 31,\n",
       " 'vacation': 32,\n",
       " 'sports': 33,\n",
       " 'salutaion': 34,\n",
       " 'task': 35,\n",
       " 'ragging': 36,\n",
       " 'hod': 37,\n",
       " 'eligibility': 38,\n",
       " 'application_process': 39,\n",
       " 'admission_deadlines': 40,\n",
       " 'financial_aid': 41,\n",
       " 'campus_facilities': 42,\n",
       " 'extracurricular_activities': 43,\n",
       " 'student_support_services': 44,\n",
       " 'internship_opportunities': 45,\n",
       " 'research_opportunities': 46,\n",
       " 'alumni_success_stories': 47,\n",
       " 'admission_requirements': 48,\n",
       " 'application_submission': 49,\n",
       " 'admission_decisions': 50,\n",
       " 'financial_aid_options': 51,\n",
       " 'accommodation_options': 52}"
      ]
     },
     "execution_count": 20,
     "metadata": {},
     "output_type": "execute_result"
    }
   ],
   "source": [
    "label2id"
   ]
  },
  {
   "cell_type": "code",
   "execution_count": 21,
   "metadata": {},
   "outputs": [
    {
     "data": {
      "text/html": [
       "<div>\n",
       "<style scoped>\n",
       "    .dataframe tbody tr th:only-of-type {\n",
       "        vertical-align: middle;\n",
       "    }\n",
       "\n",
       "    .dataframe tbody tr th {\n",
       "        vertical-align: top;\n",
       "    }\n",
       "\n",
       "    .dataframe thead th {\n",
       "        text-align: right;\n",
       "    }\n",
       "</style>\n",
       "<table border=\"1\" class=\"dataframe\">\n",
       "  <thead>\n",
       "    <tr style=\"text-align: right;\">\n",
       "      <th></th>\n",
       "      <th>Pattern</th>\n",
       "      <th>Tag</th>\n",
       "      <th>labels</th>\n",
       "    </tr>\n",
       "  </thead>\n",
       "  <tbody>\n",
       "    <tr>\n",
       "      <th>0</th>\n",
       "      <td>Hi</td>\n",
       "      <td>greeting</td>\n",
       "      <td>0</td>\n",
       "    </tr>\n",
       "    <tr>\n",
       "      <th>1</th>\n",
       "      <td>How are you?</td>\n",
       "      <td>greeting</td>\n",
       "      <td>0</td>\n",
       "    </tr>\n",
       "    <tr>\n",
       "      <th>2</th>\n",
       "      <td>Is anyone there?</td>\n",
       "      <td>greeting</td>\n",
       "      <td>0</td>\n",
       "    </tr>\n",
       "    <tr>\n",
       "      <th>3</th>\n",
       "      <td>Hello</td>\n",
       "      <td>greeting</td>\n",
       "      <td>0</td>\n",
       "    </tr>\n",
       "    <tr>\n",
       "      <th>4</th>\n",
       "      <td>Good day</td>\n",
       "      <td>greeting</td>\n",
       "      <td>0</td>\n",
       "    </tr>\n",
       "  </tbody>\n",
       "</table>\n",
       "</div>"
      ],
      "text/plain": [
       "            Pattern       Tag  labels\n",
       "0                Hi  greeting       0\n",
       "1      How are you?  greeting       0\n",
       "2  Is anyone there?  greeting       0\n",
       "3             Hello  greeting       0\n",
       "4          Good day  greeting       0"
      ]
     },
     "execution_count": 21,
     "metadata": {},
     "output_type": "execute_result"
    }
   ],
   "source": [
    "df2['labels'] = df2['Tag'].map(lambda x: label2id[x.strip()])\n",
    "df2.head()"
   ]
  },
  {
   "cell_type": "code",
   "execution_count": 22,
   "metadata": {},
   "outputs": [
    {
     "data": {
      "text/plain": [
       "['Hi', 'How are you?', 'Is anyone there?', 'Hello', 'Good day']"
      ]
     },
     "execution_count": 22,
     "metadata": {},
     "output_type": "execute_result"
    }
   ],
   "source": [
    "X = list(df2['Pattern'])\n",
    "X[:5]"
   ]
  },
  {
   "cell_type": "code",
   "execution_count": 23,
   "metadata": {},
   "outputs": [
    {
     "data": {
      "text/plain": [
       "[0, 0, 0, 0, 0]"
      ]
     },
     "execution_count": 23,
     "metadata": {},
     "output_type": "execute_result"
    }
   ],
   "source": [
    "y = list(df2['labels'])\n",
    "y[:5]"
   ]
  },
  {
   "cell_type": "markdown",
   "metadata": {},
   "source": [
    "**Preparing benchmark data**"
   ]
  },
  {
   "cell_type": "code",
   "execution_count": 31,
   "metadata": {},
   "outputs": [
    {
     "name": "stdout",
     "output_type": "stream",
     "text": [
      "['Hello!', 'Hey there!', \"Hi, how's it going?\", 'Goodbye!', 'See you later!', 'Farewell!', 'Who created you?', 'Tell me about your creator.', 'Who made this bot?', \"What's your university's name?\", 'Tell me the name of your college.', 'University name?', 'What are your working hours?', 'When are you open?', 'Office hours?', 'Can I get the contact number?', 'Give me the phone number.', 'Contact details?', 'Tell me about engineering courses.', 'Information on computer science program?', 'Engineering details.', 'How much are the fees?', 'Tell me about the costs.', 'Fees for engineering program?', 'Where is your university located?', 'Give me the location.', 'University address?', 'Tell me about hostel facilities.', 'Information on accommodation?', 'Hostel details.', 'Are there any upcoming events?', 'Tell me about university events.', 'Any events for new students?', 'Which documents are required?', 'Documents for admission?', 'Required paperwork?', 'How many floors does the building have?', 'Number of floors?', 'Building levels?', \"What's on the syllabus?\", 'Tell me about the first-semester syllabus.', 'Syllabus details.', 'Give me library details.', 'Tell me about the library facilities.', 'Library information.', \"Describe the university's infrastructure.\", 'Tell me about the campus.', 'Infrastructure details.', \"What's on the canteen menu?\", 'Canteen details.', 'Food options in the canteen?', 'Can you provide the hostel canteen menu?', 'Hostel canteen details.', 'Menu for hostel canteen?', 'Tell me about placement opportunities.', 'How are placements?', 'Job placement details.', 'Who is the Head of the IT department?', 'IT department HoD.', 'Head of IT details.', 'Who is the Computer Science department head?', 'Computer Science HoD.', 'Head of Computer Science details.', 'Who is the Head of the Electronics and Telecommunication department?', 'ExTC department HoD.', 'Head of ExTC details.', 'Who is the current principal?', 'Principal details.', 'Tell me about the principal.', 'How many semesters in a year?', 'Semester details.', 'Number of semesters?', 'What is the admission process?', 'Tell me about admission.', 'Admission details.', 'Are there any scholarships?', 'Tell me about scholarships.', 'Scholarship opportunities.', 'What facilities does the university offer?', 'University facilities.', 'Facilities details.', 'How many students does the college intake?', 'College intake details.', 'Number of students admitted.', 'Is there a specific uniform?', 'Tell me about the uniform.', 'Uniform details.', 'Tell me about the student committee.', 'Student committee details.', 'Committee information.', 'Ask me a random question about the university.', 'Give me a random fact.', 'Random university info.', '(Intentionally offensive input for handling inappropriate language)', 'When is the vacation period?', 'Tell me about vacations.', 'Holiday details.', 'What sports facilities are available?', 'Sports facilities details.', 'Athletic facilities information.', 'How should I address the professors?', 'Salutation for professors.', 'Professor address details.', 'What tasks should new students complete?', 'Tasks for new students.', 'New student checklist.', 'Is ragging allowed?', 'Tell me about ragging.', 'Ragging details.', 'Who is the Head of the university?', 'University Head details.', 'Head of the university.']\n",
      "[0, 0, 0, 1, 1, 1, 2, 2, 2, 3, 3, 3, 4, 4, 4, 5, 5, 5, 6, 6, 6, 7, 7, 7, 8, 8, 8, 9, 9, 9, 10, 10, 10, 11, 11, 11, 12, 12, 12, 13, 13, 13, 14, 14, 14, 15, 15, 15, 16, 16, 16, 17, 17, 17, 18, 18, 18, 19, 19, 19, 20, 20, 20, 21, 21, 21, 22, 22, 22, 23, 23, 23, 24, 24, 24, 25, 25, 25, 26, 26, 26, 27, 27, 27, 28, 28, 28, 29, 29, 29, 30, 30, 30, 31, 32, 32, 32, 33, 33, 33, 34, 34, 34, 35, 35, 35, 36, 36, 36, 37, 37, 37]\n"
     ]
    }
   ],
   "source": [
    "json_data = json.load(open('../../data/benchmarkData.json'))\n",
    "\n",
    "label2id = {key: i for i, key in enumerate(json_data.keys())}\n",
    "\n",
    "X_test = []\n",
    "Y_test = []\n",
    "\n",
    "for key, values in json_data.items():\n",
    "    for value in values:\n",
    "        X_test.append(value)\n",
    "        Y_test.append(label2id[key])\n",
    "\n",
    "print(X_test)\n",
    "print(Y_test)"
   ]
  },
  {
   "cell_type": "markdown",
   "metadata": {},
   "source": [
    "**Load BERT**"
   ]
  },
  {
   "cell_type": "code",
   "execution_count": null,
   "metadata": {},
   "outputs": [],
   "source": [
    "model_name = \"bert-base-uncased\"\n",
    "max_len = 256\n",
    "\n",
    "tokenizer = BertTokenizer.from_pretrained(model_name, max_length=max_len)\n",
    "\n",
    "model = BertForSequenceClassification.from_pretrained(\n",
    "    model_name, num_labels=num_labels, id2label=id2label, label2id=label2id\n",
    ")"
   ]
  },
  {
   "cell_type": "code",
   "execution_count": 32,
   "metadata": {},
   "outputs": [],
   "source": [
    "train_encoding = tokenizer(X, truncation=True, padding=True)\n",
    "test_encoding = tokenizer(X_test, truncation=True, padding=True)"
   ]
  },
  {
   "cell_type": "code",
   "execution_count": 33,
   "metadata": {},
   "outputs": [],
   "source": [
    "full_data = tokenizer(X, truncation=True, padding=True)"
   ]
  },
  {
   "cell_type": "markdown",
   "metadata": {},
   "source": [
    "**Data loader**"
   ]
  },
  {
   "cell_type": "code",
   "execution_count": 34,
   "metadata": {},
   "outputs": [],
   "source": [
    "class DataLoader(Dataset):\n",
    "\n",
    "    def __init__(self, encodings, labels):\n",
    "\n",
    "        self.encodings = encodings\n",
    "        self.labels = labels\n",
    "\n",
    "    def __getitem__(self, idx):\n",
    "\n",
    "        item = {key: torch.tensor(val[idx]) for key, val in self.encodings.items()}\n",
    "        item[\"labels\"] = torch.tensor(self.labels[idx])\n",
    "        return item\n",
    "\n",
    "    def __len__(self):\n",
    "\n",
    "        return len(self.labels)"
   ]
  },
  {
   "cell_type": "code",
   "execution_count": 36,
   "metadata": {},
   "outputs": [],
   "source": [
    "train_dataloader = DataLoader(train_encoding, y)\n",
    "test_dataloader = DataLoader(test_encoding, Y_test)\n"
   ]
  },
  {
   "cell_type": "code",
   "execution_count": 38,
   "metadata": {},
   "outputs": [],
   "source": [
    "fullDataLoader = DataLoader(full_data, y)"
   ]
  },
  {
   "cell_type": "markdown",
   "metadata": {},
   "source": [
    "**Defining benchmarks**:"
   ]
  },
  {
   "cell_type": "code",
   "execution_count": 39,
   "metadata": {},
   "outputs": [],
   "source": [
    "def compute_metrics(pred):\n",
    "\n",
    "    labels = pred.label_ids\n",
    "    preds = pred.predictions.argmax(-1)\n",
    "    precision, recall, f1, _ = precision_recall_fscore_support(labels, preds, average='macro')\n",
    "    acc = accuracy_score(labels, preds)\n",
    "\n",
    "    return {\n",
    "        'Accuracy': acc,\n",
    "        'F1': f1,\n",
    "        'Precision': precision,\n",
    "        'Recall': recall\n",
    "    }"
   ]
  },
  {
   "cell_type": "markdown",
   "metadata": {},
   "source": [
    "**Training**"
   ]
  },
  {
   "cell_type": "code",
   "execution_count": 40,
   "metadata": {},
   "outputs": [],
   "source": [
    "training_args = TrainingArguments(\n",
    "    output_dir='./output',\n",
    "    do_train=True,\n",
    "    do_eval=True,\n",
    "    num_train_epochs=100,\n",
    "    per_device_train_batch_size=32,\n",
    "    per_device_eval_batch_size=16,\n",
    "    warmup_steps=100,\n",
    "    weight_decay=0.05,\n",
    "    logging_strategy='steps',\n",
    "    logging_dir='./multi-class-logs',\n",
    "    logging_steps=50,\n",
    "    evaluation_strategy=\"steps\",\n",
    "    eval_steps=50,\n",
    "    save_strategy=\"steps\",\n",
    "    load_best_model_at_end=True\n",
    ")"
   ]
  },
  {
   "cell_type": "code",
   "execution_count": 42,
   "metadata": {},
   "outputs": [
    {
     "data": {
      "application/vnd.jupyter.widget-view+json": {
       "model_id": "6dfcd4ff4d6a42238090105b561a8722",
       "version_major": 2,
       "version_minor": 0
      },
      "text/plain": [
       "  0%|          | 0/1500 [00:00<?, ?it/s]"
      ]
     },
     "metadata": {},
     "output_type": "display_data"
    },
    {
     "name": "stdout",
     "output_type": "stream",
     "text": [
      "{'loss': 3.7628, 'learning_rate': 2.5e-05, 'epoch': 3.33}\n"
     ]
    },
    {
     "data": {
      "application/vnd.jupyter.widget-view+json": {
       "model_id": "ae1912ec306e4ba7809a57fe32d2628c",
       "version_major": 2,
       "version_minor": 0
      },
      "text/plain": [
       "  0%|          | 0/7 [00:00<?, ?it/s]"
      ]
     },
     "metadata": {},
     "output_type": "display_data"
    },
    {
     "name": "stdout",
     "output_type": "stream",
     "text": [
      "{'eval_loss': 3.881092071533203, 'eval_Accuracy': 0.08928571428571429, 'eval_F1': 0.05318019930208296, 'eval_Precision': 0.06505862558494137, 'eval_Recall': 0.08771929824561403, 'eval_runtime': 2.2985, 'eval_samples_per_second': 48.728, 'eval_steps_per_second': 3.045, 'epoch': 3.33}\n",
      "{'loss': 3.1132, 'learning_rate': 5e-05, 'epoch': 6.67}\n"
     ]
    },
    {
     "data": {
      "application/vnd.jupyter.widget-view+json": {
       "model_id": "a9f44d2e228c410999fe4f00b795c272",
       "version_major": 2,
       "version_minor": 0
      },
      "text/plain": [
       "  0%|          | 0/7 [00:00<?, ?it/s]"
      ]
     },
     "metadata": {},
     "output_type": "display_data"
    },
    {
     "name": "stdout",
     "output_type": "stream",
     "text": [
      "{'eval_loss': 3.3517706394195557, 'eval_Accuracy': 0.25, 'eval_F1': 0.19675583188741083, 'eval_Precision': 0.23511181012364632, 'eval_Recall': 0.2456140350877193, 'eval_runtime': 2.3533, 'eval_samples_per_second': 47.593, 'eval_steps_per_second': 2.975, 'epoch': 6.67}\n",
      "{'loss': 1.8044, 'learning_rate': 4.8214285714285716e-05, 'epoch': 10.0}\n"
     ]
    },
    {
     "data": {
      "application/vnd.jupyter.widget-view+json": {
       "model_id": "ccb6d6b10f7042dea1512fbc348df012",
       "version_major": 2,
       "version_minor": 0
      },
      "text/plain": [
       "  0%|          | 0/7 [00:00<?, ?it/s]"
      ]
     },
     "metadata": {},
     "output_type": "display_data"
    },
    {
     "name": "stdout",
     "output_type": "stream",
     "text": [
      "{'eval_loss': 2.0754826068878174, 'eval_Accuracy': 0.6428571428571429, 'eval_F1': 0.5181985972683647, 'eval_Precision': 0.52984496124031, 'eval_Recall': 0.5581395348837209, 'eval_runtime': 2.3754, 'eval_samples_per_second': 47.149, 'eval_steps_per_second': 2.947, 'epoch': 10.0}\n",
      "{'loss': 0.8281, 'learning_rate': 4.642857142857143e-05, 'epoch': 13.33}\n"
     ]
    },
    {
     "data": {
      "application/vnd.jupyter.widget-view+json": {
       "model_id": "608246158d384c718ec2ff21331422ed",
       "version_major": 2,
       "version_minor": 0
      },
      "text/plain": [
       "  0%|          | 0/7 [00:00<?, ?it/s]"
      ]
     },
     "metadata": {},
     "output_type": "display_data"
    },
    {
     "name": "stdout",
     "output_type": "stream",
     "text": [
      "{'eval_loss': 1.5972334146499634, 'eval_Accuracy': 0.6875, 'eval_F1': 0.5617473435655254, 'eval_Precision': 0.5943993506493507, 'eval_Recall': 0.5833333333333333, 'eval_runtime': 4.0107, 'eval_samples_per_second': 27.926, 'eval_steps_per_second': 1.745, 'epoch': 13.33}\n",
      "{'loss': 0.3711, 'learning_rate': 4.464285714285715e-05, 'epoch': 16.67}\n"
     ]
    },
    {
     "data": {
      "application/vnd.jupyter.widget-view+json": {
       "model_id": "1ae68aa79f6c4f4784801bdfccd58adb",
       "version_major": 2,
       "version_minor": 0
      },
      "text/plain": [
       "  0%|          | 0/7 [00:00<?, ?it/s]"
      ]
     },
     "metadata": {},
     "output_type": "display_data"
    },
    {
     "name": "stdout",
     "output_type": "stream",
     "text": [
      "{'eval_loss': 1.4841912984848022, 'eval_Accuracy': 0.6964285714285714, 'eval_F1': 0.5781230674087817, 'eval_Precision': 0.5925453514739228, 'eval_Recall': 0.6190476190476191, 'eval_runtime': 4.7417, 'eval_samples_per_second': 23.62, 'eval_steps_per_second': 1.476, 'epoch': 16.67}\n",
      "{'loss': 0.1725, 'learning_rate': 4.2857142857142856e-05, 'epoch': 20.0}\n"
     ]
    },
    {
     "data": {
      "application/vnd.jupyter.widget-view+json": {
       "model_id": "71a4bf5ced93400fb670fe391db322a7",
       "version_major": 2,
       "version_minor": 0
      },
      "text/plain": [
       "  0%|          | 0/7 [00:00<?, ?it/s]"
      ]
     },
     "metadata": {},
     "output_type": "display_data"
    },
    {
     "name": "stdout",
     "output_type": "stream",
     "text": [
      "{'eval_loss': 1.5402761697769165, 'eval_Accuracy': 0.6785714285714286, 'eval_F1': 0.5481601731601732, 'eval_Precision': 0.5699675324675325, 'eval_Recall': 0.5757575757575757, 'eval_runtime': 2.751, 'eval_samples_per_second': 40.712, 'eval_steps_per_second': 2.544, 'epoch': 20.0}\n",
      "{'loss': 0.0875, 'learning_rate': 4.107142857142857e-05, 'epoch': 23.33}\n"
     ]
    },
    {
     "data": {
      "application/vnd.jupyter.widget-view+json": {
       "model_id": "bae3248765194a8488f33da23e7d0a44",
       "version_major": 2,
       "version_minor": 0
      },
      "text/plain": [
       "  0%|          | 0/7 [00:00<?, ?it/s]"
      ]
     },
     "metadata": {},
     "output_type": "display_data"
    },
    {
     "name": "stdout",
     "output_type": "stream",
     "text": [
      "{'eval_loss': 1.5519462823867798, 'eval_Accuracy': 0.6696428571428571, 'eval_F1': 0.5240730284208546, 'eval_Precision': 0.5515269151138716, 'eval_Recall': 0.5434782608695652, 'eval_runtime': 3.5994, 'eval_samples_per_second': 31.116, 'eval_steps_per_second': 1.945, 'epoch': 23.33}\n",
      "{'loss': 0.0557, 'learning_rate': 3.928571428571429e-05, 'epoch': 26.67}\n"
     ]
    },
    {
     "data": {
      "application/vnd.jupyter.widget-view+json": {
       "model_id": "5c630c7300d84bb1addede64864eca66",
       "version_major": 2,
       "version_minor": 0
      },
      "text/plain": [
       "  0%|          | 0/7 [00:00<?, ?it/s]"
      ]
     },
     "metadata": {},
     "output_type": "display_data"
    },
    {
     "name": "stdout",
     "output_type": "stream",
     "text": [
      "{'eval_loss': 1.5303804874420166, 'eval_Accuracy': 0.7053571428571429, 'eval_F1': 0.5728945297127116, 'eval_Precision': 0.5993235930735931, 'eval_Recall': 0.5984848484848485, 'eval_runtime': 3.9726, 'eval_samples_per_second': 28.193, 'eval_steps_per_second': 1.762, 'epoch': 26.67}\n",
      "{'loss': 0.0403, 'learning_rate': 3.7500000000000003e-05, 'epoch': 30.0}\n"
     ]
    },
    {
     "data": {
      "application/vnd.jupyter.widget-view+json": {
       "model_id": "9136307a51054413afbd6c4ec13310d6",
       "version_major": 2,
       "version_minor": 0
      },
      "text/plain": [
       "  0%|          | 0/7 [00:00<?, ?it/s]"
      ]
     },
     "metadata": {},
     "output_type": "display_data"
    },
    {
     "name": "stdout",
     "output_type": "stream",
     "text": [
      "{'eval_loss': 1.5732542276382446, 'eval_Accuracy': 0.6964285714285714, 'eval_F1': 0.5583116883116883, 'eval_Precision': 0.5935185185185186, 'eval_Recall': 0.5777777777777777, 'eval_runtime': 2.6384, 'eval_samples_per_second': 42.45, 'eval_steps_per_second': 2.653, 'epoch': 30.0}\n",
      "{'loss': 0.0295, 'learning_rate': 3.571428571428572e-05, 'epoch': 33.33}\n"
     ]
    },
    {
     "data": {
      "application/vnd.jupyter.widget-view+json": {
       "model_id": "4d7e138f18a64eb6b41eb86db18ed3b6",
       "version_major": 2,
       "version_minor": 0
      },
      "text/plain": [
       "  0%|          | 0/7 [00:00<?, ?it/s]"
      ]
     },
     "metadata": {},
     "output_type": "display_data"
    },
    {
     "name": "stdout",
     "output_type": "stream",
     "text": [
      "{'eval_loss': 1.610016942024231, 'eval_Accuracy': 0.7053571428571429, 'eval_F1': 0.5735487996851633, 'eval_Precision': 0.6003787878787878, 'eval_Recall': 0.5984848484848485, 'eval_runtime': 4.0338, 'eval_samples_per_second': 27.766, 'eval_steps_per_second': 1.735, 'epoch': 33.33}\n",
      "{'loss': 0.0261, 'learning_rate': 3.392857142857143e-05, 'epoch': 36.67}\n"
     ]
    },
    {
     "data": {
      "application/vnd.jupyter.widget-view+json": {
       "model_id": "59675a90e3cb4749885a6f8413185459",
       "version_major": 2,
       "version_minor": 0
      },
      "text/plain": [
       "  0%|          | 0/7 [00:00<?, ?it/s]"
      ]
     },
     "metadata": {},
     "output_type": "display_data"
    },
    {
     "name": "stdout",
     "output_type": "stream",
     "text": [
      "{'eval_loss': 1.660509705543518, 'eval_Accuracy': 0.6964285714285714, 'eval_F1': 0.568349075167257, 'eval_Precision': 0.5993235930735931, 'eval_Recall': 0.5909090909090909, 'eval_runtime': 2.6036, 'eval_samples_per_second': 43.017, 'eval_steps_per_second': 2.689, 'epoch': 36.67}\n",
      "{'loss': 0.0212, 'learning_rate': 3.2142857142857144e-05, 'epoch': 40.0}\n"
     ]
    },
    {
     "data": {
      "application/vnd.jupyter.widget-view+json": {
       "model_id": "84f77cfc2e6742e29993e8f2de5d1f23",
       "version_major": 2,
       "version_minor": 0
      },
      "text/plain": [
       "  0%|          | 0/7 [00:00<?, ?it/s]"
      ]
     },
     "metadata": {},
     "output_type": "display_data"
    },
    {
     "name": "stdout",
     "output_type": "stream",
     "text": [
      "{'eval_loss': 1.6549888849258423, 'eval_Accuracy': 0.6964285714285714, 'eval_F1': 0.5681326249508067, 'eval_Precision': 0.6012175324675325, 'eval_Recall': 0.5909090909090909, 'eval_runtime': 2.5082, 'eval_samples_per_second': 44.654, 'eval_steps_per_second': 2.791, 'epoch': 40.0}\n",
      "{'loss': 0.0196, 'learning_rate': 3.0357142857142857e-05, 'epoch': 43.33}\n"
     ]
    },
    {
     "data": {
      "application/vnd.jupyter.widget-view+json": {
       "model_id": "85157b50f2dc42aca94db3d2ee218be3",
       "version_major": 2,
       "version_minor": 0
      },
      "text/plain": [
       "  0%|          | 0/7 [00:00<?, ?it/s]"
      ]
     },
     "metadata": {},
     "output_type": "display_data"
    },
    {
     "name": "stdout",
     "output_type": "stream",
     "text": [
      "{'eval_loss': 1.6474778652191162, 'eval_Accuracy': 0.6964285714285714, 'eval_F1': 0.5634248327430146, 'eval_Precision': 0.5788690476190476, 'eval_Recall': 0.5909090909090909, 'eval_runtime': 2.4879, 'eval_samples_per_second': 45.019, 'eval_steps_per_second': 2.814, 'epoch': 43.33}\n",
      "{'loss': 0.0179, 'learning_rate': 2.857142857142857e-05, 'epoch': 46.67}\n"
     ]
    },
    {
     "data": {
      "application/vnd.jupyter.widget-view+json": {
       "model_id": "280b8b6d2cf74183bd746fdbcbcd2bda",
       "version_major": 2,
       "version_minor": 0
      },
      "text/plain": [
       "  0%|          | 0/7 [00:00<?, ?it/s]"
      ]
     },
     "metadata": {},
     "output_type": "display_data"
    },
    {
     "name": "stdout",
     "output_type": "stream",
     "text": [
      "{'eval_loss': 1.68394935131073, 'eval_Accuracy': 0.7053571428571429, 'eval_F1': 0.5726780794962614, 'eval_Precision': 0.6012175324675325, 'eval_Recall': 0.5984848484848485, 'eval_runtime': 2.4115, 'eval_samples_per_second': 46.444, 'eval_steps_per_second': 2.903, 'epoch': 46.67}\n",
      "{'loss': 0.0153, 'learning_rate': 2.6785714285714288e-05, 'epoch': 50.0}\n"
     ]
    },
    {
     "data": {
      "application/vnd.jupyter.widget-view+json": {
       "model_id": "f08be664633143d6b87200fd7066978b",
       "version_major": 2,
       "version_minor": 0
      },
      "text/plain": [
       "  0%|          | 0/7 [00:00<?, ?it/s]"
      ]
     },
     "metadata": {},
     "output_type": "display_data"
    },
    {
     "name": "stdout",
     "output_type": "stream",
     "text": [
      "{'eval_loss': 1.7109616994857788, 'eval_Accuracy': 0.6964285714285714, 'eval_F1': 0.5488407888407889, 'eval_Precision': 0.5656349206349206, 'eval_Recall': 0.5777777777777777, 'eval_runtime': 2.4036, 'eval_samples_per_second': 46.597, 'eval_steps_per_second': 2.912, 'epoch': 50.0}\n",
      "{'loss': 0.0147, 'learning_rate': 2.5e-05, 'epoch': 53.33}\n"
     ]
    },
    {
     "data": {
      "application/vnd.jupyter.widget-view+json": {
       "model_id": "be3597d4615742be848bdd2a501b5a7a",
       "version_major": 2,
       "version_minor": 0
      },
      "text/plain": [
       "  0%|          | 0/7 [00:00<?, ?it/s]"
      ]
     },
     "metadata": {},
     "output_type": "display_data"
    },
    {
     "name": "stdout",
     "output_type": "stream",
     "text": [
      "{'eval_loss': 1.7131423950195312, 'eval_Accuracy': 0.7053571428571429, 'eval_F1': 0.5561471861471862, 'eval_Precision': 0.5666666666666667, 'eval_Recall': 0.5851851851851853, 'eval_runtime': 2.4053, 'eval_samples_per_second': 46.563, 'eval_steps_per_second': 2.91, 'epoch': 53.33}\n",
      "{'loss': 0.0132, 'learning_rate': 2.3214285714285715e-05, 'epoch': 56.67}\n"
     ]
    },
    {
     "data": {
      "application/vnd.jupyter.widget-view+json": {
       "model_id": "ead20a97f2fd481d95a2dac2b928e2e1",
       "version_major": 2,
       "version_minor": 0
      },
      "text/plain": [
       "  0%|          | 0/7 [00:00<?, ?it/s]"
      ]
     },
     "metadata": {},
     "output_type": "display_data"
    },
    {
     "name": "stdout",
     "output_type": "stream",
     "text": [
      "{'eval_loss': 1.7541561126708984, 'eval_Accuracy': 0.7053571428571429, 'eval_F1': 0.5555074555074555, 'eval_Precision': 0.5656349206349206, 'eval_Recall': 0.5851851851851853, 'eval_runtime': 2.4304, 'eval_samples_per_second': 46.083, 'eval_steps_per_second': 2.88, 'epoch': 56.67}\n",
      "{'loss': 0.0135, 'learning_rate': 2.1428571428571428e-05, 'epoch': 60.0}\n"
     ]
    },
    {
     "data": {
      "application/vnd.jupyter.widget-view+json": {
       "model_id": "a764cf72a8b947389e50e1e9b8901af5",
       "version_major": 2,
       "version_minor": 0
      },
      "text/plain": [
       "  0%|          | 0/7 [00:00<?, ?it/s]"
      ]
     },
     "metadata": {},
     "output_type": "display_data"
    },
    {
     "name": "stdout",
     "output_type": "stream",
     "text": [
      "{'eval_loss': 1.7654396295547485, 'eval_Accuracy': 0.7053571428571429, 'eval_F1': 0.5573593073593074, 'eval_Precision': 0.567857142857143, 'eval_Recall': 0.5851851851851853, 'eval_runtime': 2.561, 'eval_samples_per_second': 43.733, 'eval_steps_per_second': 2.733, 'epoch': 60.0}\n",
      "{'loss': 0.0127, 'learning_rate': 1.9642857142857145e-05, 'epoch': 63.33}\n"
     ]
    },
    {
     "data": {
      "application/vnd.jupyter.widget-view+json": {
       "model_id": "17c1904366e54801b69996cd19e9379e",
       "version_major": 2,
       "version_minor": 0
      },
      "text/plain": [
       "  0%|          | 0/7 [00:00<?, ?it/s]"
      ]
     },
     "metadata": {},
     "output_type": "display_data"
    },
    {
     "name": "stdout",
     "output_type": "stream",
     "text": [
      "{'eval_loss': 1.7745935916900635, 'eval_Accuracy': 0.7142857142857143, 'eval_F1': 0.5684704184704185, 'eval_Precision': 0.5900793650793651, 'eval_Recall': 0.5925925925925927, 'eval_runtime': 2.5497, 'eval_samples_per_second': 43.927, 'eval_steps_per_second': 2.745, 'epoch': 63.33}\n",
      "{'loss': 0.0113, 'learning_rate': 1.785714285714286e-05, 'epoch': 66.67}\n"
     ]
    },
    {
     "data": {
      "application/vnd.jupyter.widget-view+json": {
       "model_id": "b80ba66c487e45cab51c28f4b758ea9e",
       "version_major": 2,
       "version_minor": 0
      },
      "text/plain": [
       "  0%|          | 0/7 [00:00<?, ?it/s]"
      ]
     },
     "metadata": {},
     "output_type": "display_data"
    },
    {
     "name": "stdout",
     "output_type": "stream",
     "text": [
      "{'eval_loss': 1.7547807693481445, 'eval_Accuracy': 0.7142857142857143, 'eval_F1': 0.5672582972582972, 'eval_Precision': 0.5888888888888889, 'eval_Recall': 0.5925925925925927, 'eval_runtime': 2.5237, 'eval_samples_per_second': 44.38, 'eval_steps_per_second': 2.774, 'epoch': 66.67}\n",
      "{'loss': 0.0119, 'learning_rate': 1.6071428571428572e-05, 'epoch': 70.0}\n"
     ]
    },
    {
     "data": {
      "application/vnd.jupyter.widget-view+json": {
       "model_id": "c9d5ddc8b1b64fb99a72bcc3eb423d0f",
       "version_major": 2,
       "version_minor": 0
      },
      "text/plain": [
       "  0%|          | 0/7 [00:00<?, ?it/s]"
      ]
     },
     "metadata": {},
     "output_type": "display_data"
    },
    {
     "name": "stdout",
     "output_type": "stream",
     "text": [
      "{'eval_loss': 1.7749165296554565, 'eval_Accuracy': 0.7142857142857143, 'eval_F1': 0.5672582972582972, 'eval_Precision': 0.5888888888888889, 'eval_Recall': 0.5925925925925927, 'eval_runtime': 4.4699, 'eval_samples_per_second': 25.057, 'eval_steps_per_second': 1.566, 'epoch': 70.0}\n",
      "{'loss': 0.011, 'learning_rate': 1.4285714285714285e-05, 'epoch': 73.33}\n"
     ]
    },
    {
     "data": {
      "application/vnd.jupyter.widget-view+json": {
       "model_id": "833f10db46d143dcb417bf3c0c1f1063",
       "version_major": 2,
       "version_minor": 0
      },
      "text/plain": [
       "  0%|          | 0/7 [00:00<?, ?it/s]"
      ]
     },
     "metadata": {},
     "output_type": "display_data"
    },
    {
     "name": "stdout",
     "output_type": "stream",
     "text": [
      "{'eval_loss': 1.7688649892807007, 'eval_Accuracy': 0.7142857142857143, 'eval_F1': 0.5672582972582972, 'eval_Precision': 0.5888888888888889, 'eval_Recall': 0.5925925925925927, 'eval_runtime': 4.2131, 'eval_samples_per_second': 26.584, 'eval_steps_per_second': 1.661, 'epoch': 73.33}\n",
      "{'loss': 0.0098, 'learning_rate': 1.25e-05, 'epoch': 76.67}\n"
     ]
    },
    {
     "data": {
      "application/vnd.jupyter.widget-view+json": {
       "model_id": "3d5942c1b23e4e1f87814e06d1524799",
       "version_major": 2,
       "version_minor": 0
      },
      "text/plain": [
       "  0%|          | 0/7 [00:00<?, ?it/s]"
      ]
     },
     "metadata": {},
     "output_type": "display_data"
    },
    {
     "name": "stdout",
     "output_type": "stream",
     "text": [
      "{'eval_loss': 1.7831999063491821, 'eval_Accuracy': 0.7142857142857143, 'eval_F1': 0.5672582972582972, 'eval_Precision': 0.5888888888888889, 'eval_Recall': 0.5925925925925927, 'eval_runtime': 2.3308, 'eval_samples_per_second': 48.051, 'eval_steps_per_second': 3.003, 'epoch': 76.67}\n",
      "{'loss': 0.011, 'learning_rate': 1.0714285714285714e-05, 'epoch': 80.0}\n"
     ]
    },
    {
     "data": {
      "application/vnd.jupyter.widget-view+json": {
       "model_id": "8a803e9d547f4566a93fa7200764496f",
       "version_major": 2,
       "version_minor": 0
      },
      "text/plain": [
       "  0%|          | 0/7 [00:00<?, ?it/s]"
      ]
     },
     "metadata": {},
     "output_type": "display_data"
    },
    {
     "name": "stdout",
     "output_type": "stream",
     "text": [
      "{'eval_loss': 1.7884587049484253, 'eval_Accuracy': 0.7053571428571429, 'eval_F1': 0.5561471861471862, 'eval_Precision': 0.5666666666666667, 'eval_Recall': 0.5851851851851853, 'eval_runtime': 2.708, 'eval_samples_per_second': 41.36, 'eval_steps_per_second': 2.585, 'epoch': 80.0}\n",
      "{'loss': 0.0097, 'learning_rate': 8.92857142857143e-06, 'epoch': 83.33}\n"
     ]
    },
    {
     "data": {
      "application/vnd.jupyter.widget-view+json": {
       "model_id": "abc57373cd5f47168088d44b31b02a41",
       "version_major": 2,
       "version_minor": 0
      },
      "text/plain": [
       "  0%|          | 0/7 [00:00<?, ?it/s]"
      ]
     },
     "metadata": {},
     "output_type": "display_data"
    },
    {
     "name": "stdout",
     "output_type": "stream",
     "text": [
      "{'eval_loss': 1.7741962671279907, 'eval_Accuracy': 0.7142857142857143, 'eval_F1': 0.5672582972582972, 'eval_Precision': 0.5888888888888889, 'eval_Recall': 0.5925925925925927, 'eval_runtime': 2.7294, 'eval_samples_per_second': 41.034, 'eval_steps_per_second': 2.565, 'epoch': 83.33}\n",
      "{'loss': 0.0098, 'learning_rate': 7.142857142857143e-06, 'epoch': 86.67}\n"
     ]
    },
    {
     "data": {
      "application/vnd.jupyter.widget-view+json": {
       "model_id": "13ce6332710b435883ae7a1178516dc9",
       "version_major": 2,
       "version_minor": 0
      },
      "text/plain": [
       "  0%|          | 0/7 [00:00<?, ?it/s]"
      ]
     },
     "metadata": {},
     "output_type": "display_data"
    },
    {
     "name": "stdout",
     "output_type": "stream",
     "text": [
      "{'eval_loss': 1.7765884399414062, 'eval_Accuracy': 0.7142857142857143, 'eval_F1': 0.5666185666185666, 'eval_Precision': 0.5878571428571429, 'eval_Recall': 0.5925925925925927, 'eval_runtime': 2.6272, 'eval_samples_per_second': 42.632, 'eval_steps_per_second': 2.664, 'epoch': 86.67}\n",
      "{'loss': 0.0097, 'learning_rate': 5.357142857142857e-06, 'epoch': 90.0}\n"
     ]
    },
    {
     "data": {
      "application/vnd.jupyter.widget-view+json": {
       "model_id": "23cb16909c3d4c6abfbcada61c1e0276",
       "version_major": 2,
       "version_minor": 0
      },
      "text/plain": [
       "  0%|          | 0/7 [00:00<?, ?it/s]"
      ]
     },
     "metadata": {},
     "output_type": "display_data"
    },
    {
     "name": "stdout",
     "output_type": "stream",
     "text": [
      "{'eval_loss': 1.7788952589035034, 'eval_Accuracy': 0.7142857142857143, 'eval_F1': 0.5672582972582972, 'eval_Precision': 0.5888888888888889, 'eval_Recall': 0.5925925925925927, 'eval_runtime': 2.6699, 'eval_samples_per_second': 41.949, 'eval_steps_per_second': 2.622, 'epoch': 90.0}\n",
      "{'loss': 0.0094, 'learning_rate': 3.5714285714285714e-06, 'epoch': 93.33}\n"
     ]
    },
    {
     "data": {
      "application/vnd.jupyter.widget-view+json": {
       "model_id": "120e18e2cc5f42ecbedbcf917d5be3e4",
       "version_major": 2,
       "version_minor": 0
      },
      "text/plain": [
       "  0%|          | 0/7 [00:00<?, ?it/s]"
      ]
     },
     "metadata": {},
     "output_type": "display_data"
    },
    {
     "name": "stdout",
     "output_type": "stream",
     "text": [
      "{'eval_loss': 1.7851511240005493, 'eval_Accuracy': 0.7142857142857143, 'eval_F1': 0.5666185666185666, 'eval_Precision': 0.5878571428571429, 'eval_Recall': 0.5925925925925927, 'eval_runtime': 5.0187, 'eval_samples_per_second': 22.316, 'eval_steps_per_second': 1.395, 'epoch': 93.33}\n",
      "{'loss': 0.009, 'learning_rate': 1.7857142857142857e-06, 'epoch': 96.67}\n"
     ]
    },
    {
     "data": {
      "application/vnd.jupyter.widget-view+json": {
       "model_id": "b351b4b60cb64765ac3648bde4bec1fd",
       "version_major": 2,
       "version_minor": 0
      },
      "text/plain": [
       "  0%|          | 0/7 [00:00<?, ?it/s]"
      ]
     },
     "metadata": {},
     "output_type": "display_data"
    },
    {
     "name": "stdout",
     "output_type": "stream",
     "text": [
      "{'eval_loss': 1.7922941446304321, 'eval_Accuracy': 0.7142857142857143, 'eval_F1': 0.5666185666185666, 'eval_Precision': 0.5878571428571429, 'eval_Recall': 0.5925925925925927, 'eval_runtime': 2.4954, 'eval_samples_per_second': 44.882, 'eval_steps_per_second': 2.805, 'epoch': 96.67}\n",
      "{'loss': 0.0095, 'learning_rate': 0.0, 'epoch': 100.0}\n"
     ]
    },
    {
     "data": {
      "application/vnd.jupyter.widget-view+json": {
       "model_id": "d8a9df20f7f045cb9d069b1db7fcfe3a",
       "version_major": 2,
       "version_minor": 0
      },
      "text/plain": [
       "  0%|          | 0/7 [00:00<?, ?it/s]"
      ]
     },
     "metadata": {},
     "output_type": "display_data"
    },
    {
     "name": "stdout",
     "output_type": "stream",
     "text": [
      "{'eval_loss': 1.7940393686294556, 'eval_Accuracy': 0.7142857142857143, 'eval_F1': 0.5666185666185666, 'eval_Precision': 0.5878571428571429, 'eval_Recall': 0.5925925925925927, 'eval_runtime': 2.5569, 'eval_samples_per_second': 43.802, 'eval_steps_per_second': 2.738, 'epoch': 100.0}\n",
      "{'train_runtime': 5907.6097, 'train_samples_per_second': 8.125, 'train_steps_per_second': 0.254, 'train_loss': 0.3510466123620669, 'epoch': 100.0}\n"
     ]
    },
    {
     "data": {
      "text/plain": [
       "TrainOutput(global_step=1500, training_loss=0.3510466123620669, metrics={'train_runtime': 5907.6097, 'train_samples_per_second': 8.125, 'train_steps_per_second': 0.254, 'train_loss': 0.3510466123620669, 'epoch': 100.0})"
      ]
     },
     "execution_count": 42,
     "metadata": {},
     "output_type": "execute_result"
    }
   ],
   "source": [
    "trainer = Trainer(\n",
    "    model=model,\n",
    "    args=training_args,\n",
    "    train_dataset=train_dataloader,\n",
    "    eval_dataset=test_dataloader,\n",
    "    compute_metrics= compute_metrics\n",
    ")\n",
    "trainer.train()"
   ]
  },
  {
   "cell_type": "markdown",
   "metadata": {},
   "source": [
    "**Benchmarks**"
   ]
  },
  {
   "cell_type": "code",
   "execution_count": 43,
   "metadata": {},
   "outputs": [
    {
     "data": {
      "application/vnd.jupyter.widget-view+json": {
       "model_id": "3198f3a7621449358263095816b1ef9d",
       "version_major": 2,
       "version_minor": 0
      },
      "text/plain": [
       "  0%|          | 0/30 [00:00<?, ?it/s]"
      ]
     },
     "metadata": {},
     "output_type": "display_data"
    },
    {
     "data": {
      "application/vnd.jupyter.widget-view+json": {
       "model_id": "82ada2b29281473b80172330c8ceb501",
       "version_major": 2,
       "version_minor": 0
      },
      "text/plain": [
       "  0%|          | 0/7 [00:00<?, ?it/s]"
      ]
     },
     "metadata": {},
     "output_type": "display_data"
    },
    {
     "data": {
      "text/html": [
       "<div>\n",
       "<style scoped>\n",
       "    .dataframe tbody tr th:only-of-type {\n",
       "        vertical-align: middle;\n",
       "    }\n",
       "\n",
       "    .dataframe tbody tr th {\n",
       "        vertical-align: top;\n",
       "    }\n",
       "\n",
       "    .dataframe thead th {\n",
       "        text-align: right;\n",
       "    }\n",
       "</style>\n",
       "<table border=\"1\" class=\"dataframe\">\n",
       "  <thead>\n",
       "    <tr style=\"text-align: right;\">\n",
       "      <th></th>\n",
       "      <th>eval_loss</th>\n",
       "      <th>eval_Accuracy</th>\n",
       "      <th>eval_F1</th>\n",
       "      <th>eval_Precision</th>\n",
       "      <th>eval_Recall</th>\n",
       "    </tr>\n",
       "  </thead>\n",
       "  <tbody>\n",
       "    <tr>\n",
       "      <th>train</th>\n",
       "      <td>0.019423</td>\n",
       "      <td>0.997917</td>\n",
       "      <td>0.999160</td>\n",
       "      <td>0.999214</td>\n",
       "      <td>0.999142</td>\n",
       "    </tr>\n",
       "    <tr>\n",
       "      <th>test</th>\n",
       "      <td>1.610017</td>\n",
       "      <td>0.705357</td>\n",
       "      <td>0.573549</td>\n",
       "      <td>0.600379</td>\n",
       "      <td>0.598485</td>\n",
       "    </tr>\n",
       "  </tbody>\n",
       "</table>\n",
       "</div>"
      ],
      "text/plain": [
       "       eval_loss  eval_Accuracy   eval_F1  eval_Precision  eval_Recall\n",
       "train   0.019423       0.997917  0.999160        0.999214     0.999142\n",
       "test    1.610017       0.705357  0.573549        0.600379     0.598485"
      ]
     },
     "execution_count": 43,
     "metadata": {},
     "output_type": "execute_result"
    }
   ],
   "source": [
    "q=[trainer.evaluate(eval_dataset=df2) for df2 in [train_dataloader, test_dataloader]]\n",
    "\n",
    "pd.DataFrame(q, index=[\"train\",\"test\"]).iloc[:,:5]\n"
   ]
  },
  {
   "cell_type": "markdown",
   "metadata": {},
   "source": [
    "**Testing**:"
   ]
  },
  {
   "cell_type": "code",
   "execution_count": 46,
   "metadata": {},
   "outputs": [],
   "source": [
    "def predict(text):\n",
    "\n",
    "    inputs = tokenizer(text, padding=True, truncation=True, max_length=512, return_tensors=\"pt\")\n",
    "    outputs = model(**inputs)\n",
    "\n",
    "    probs = outputs[0].softmax(1)\n",
    "    pred_label_idx = probs.argmax()\n",
    "    pred_label = model.config.id2label[pred_label_idx.item()]\n",
    "\n",
    "    return probs, pred_label_idx, pred_label\n"
   ]
  },
  {
   "cell_type": "code",
   "execution_count": 47,
   "metadata": {},
   "outputs": [
    {
     "data": {
      "text/plain": [
       "(tensor([[9.8368e-01, 5.1718e-04, 1.9854e-04, 1.0556e-03, 1.1273e-03, 4.8115e-04,\n",
       "          3.5865e-04, 1.7812e-04, 1.8270e-04, 6.2488e-05, 6.8618e-04, 1.1292e-04,\n",
       "          4.6455e-04, 2.5601e-04, 3.5142e-04, 4.3897e-05, 1.1325e-04, 3.0353e-04,\n",
       "          1.9892e-04, 1.2220e-04, 4.3065e-04, 5.7678e-05, 3.6618e-04, 7.9158e-05,\n",
       "          2.4947e-05, 1.5731e-04, 6.8521e-05, 5.4451e-05, 2.6307e-04, 1.5276e-04,\n",
       "          2.7185e-04, 2.7927e-04, 7.9553e-04, 1.7189e-04, 1.4135e-03, 1.5893e-04,\n",
       "          5.4597e-04, 1.0143e-04, 1.5498e-04, 4.6485e-04, 3.4106e-04, 4.1937e-05,\n",
       "          1.3371e-04, 9.6837e-05, 9.2120e-05, 5.0723e-05, 3.9958e-04, 1.1959e-04,\n",
       "          1.3861e-04, 5.2403e-04, 3.1688e-04, 4.4479e-04, 7.9203e-04]],\n",
       "        grad_fn=<SoftmaxBackward0>),\n",
       " tensor(0),\n",
       " 'greeting')"
      ]
     },
     "execution_count": 47,
     "metadata": {},
     "output_type": "execute_result"
    }
   ],
   "source": [
    "text = \"Hello\"\n",
    "predict(text)"
   ]
  },
  {
   "cell_type": "markdown",
   "metadata": {},
   "source": [
    "**Compile**:"
   ]
  },
  {
   "cell_type": "code",
   "execution_count": 49,
   "metadata": {},
   "outputs": [
    {
     "data": {
      "text/plain": [
       "('./bin\\\\tokenizer_config.json',\n",
       " './bin\\\\special_tokens_map.json',\n",
       " './bin\\\\vocab.txt',\n",
       " './bin\\\\added_tokens.json')"
      ]
     },
     "execution_count": 49,
     "metadata": {},
     "output_type": "execute_result"
    }
   ],
   "source": [
    "model_path = \"./bin\"\n",
    "trainer.save_model(model_path)\n",
    "tokenizer.save_pretrained(model_path)"
   ]
  },
  {
   "cell_type": "markdown",
   "metadata": {},
   "source": [
    "**A test drive**"
   ]
  },
  {
   "cell_type": "code",
   "execution_count": 50,
   "metadata": {},
   "outputs": [],
   "source": [
    "model_path = \"./bin\"\n",
    "\n",
    "\n",
    "model = BertForSequenceClassification.from_pretrained(model_path)\n",
    "tokenizer= BertTokenizerFast.from_pretrained(model_path)\n",
    "chatbot= pipeline(\"sentiment-analysis\", model=model, tokenizer=tokenizer)"
   ]
  },
  {
   "cell_type": "code",
   "execution_count": 51,
   "metadata": {},
   "outputs": [],
   "source": [
    "def chat(chatbot, text):\n",
    "    text = text.strip().lower()\n",
    "    score = chatbot(text)[0]['score']\n",
    "\n",
    "    if score < 0.8:\n",
    "        return \"Sorry I can't answer that\"\n",
    "\n",
    "    label = label2id[chatbot(text)[0]['label']]\n",
    "    response = random.choice(intents['intents'][label]['responses'])\n",
    "\n",
    "    return response"
   ]
  },
  {
   "cell_type": "code",
   "execution_count": 53,
   "metadata": {},
   "outputs": [
    {
     "data": {
      "text/plain": [
       "'Hi there, how can I help?'"
      ]
     },
     "execution_count": 53,
     "metadata": {},
     "output_type": "execute_result"
    }
   ],
   "source": [
    "chat(chatbot, 'hello')"
   ]
  }
 ],
 "metadata": {
  "kernelspec": {
   "display_name": "AI-ML",
   "language": "python",
   "name": "python3"
  },
  "language_info": {
   "codemirror_mode": {
    "name": "ipython",
    "version": 3
   },
   "file_extension": ".py",
   "mimetype": "text/x-python",
   "name": "python",
   "nbconvert_exporter": "python",
   "pygments_lexer": "ipython3",
   "version": "3.10.9"
  }
 },
 "nbformat": 4,
 "nbformat_minor": 2
}
