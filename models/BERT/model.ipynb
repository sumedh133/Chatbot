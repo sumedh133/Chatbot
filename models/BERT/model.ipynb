{
 "cells": [
  {
   "cell_type": "markdown",
   "metadata": {},
   "source": [
    "**Install Dependencies**"
   ]
  },
  {
   "cell_type": "code",
<<<<<<< HEAD
   "execution_count": 35,
   "metadata": {},
   "outputs": [
    {
     "name": "stdout",
     "output_type": "stream",
     "text": [
      "Note: you may need to restart the kernel to use updated packages.Requirement already satisfied: missingno in c:\\users\\sumed\\anaconda3\\lib\\site-packages (0.5.2)\n",
      "Requirement already satisfied: seaborn in c:\\users\\sumed\\anaconda3\\lib\\site-packages (from missingno) (0.12.2)\n",
      "Requirement already satisfied: matplotlib in c:\\users\\sumed\\anaconda3\\lib\\site-packages (from missingno) (3.5.3)\n",
      "Requirement already satisfied: scipy in c:\\users\\sumed\\anaconda3\\lib\\site-packages (from missingno) (1.10.0)\n",
      "Requirement already satisfied: numpy in c:\\users\\sumed\\anaconda3\\lib\\site-packages (from missingno) (1.23.5)\n",
      "Requirement already satisfied: pyparsing>=2.2.1 in c:\\users\\sumed\\anaconda3\\lib\\site-packages (from matplotlib->missingno) (3.0.9)\n",
      "Requirement already satisfied: packaging>=20.0 in c:\\users\\sumed\\anaconda3\\lib\\site-packages (from matplotlib->missingno) (20.9)\n",
      "Requirement already satisfied: pillow>=6.2.0 in c:\\users\\sumed\\anaconda3\\lib\\site-packages (from matplotlib->missingno) (9.4.0)\n",
      "Requirement already satisfied: python-dateutil>=2.7 in c:\\users\\sumed\\anaconda3\\lib\\site-packages (from matplotlib->missingno) (2.8.2)\n",
      "Requirement already satisfied: kiwisolver>=1.0.1 in c:\\users\\sumed\\anaconda3\\lib\\site-packages (from matplotlib->missingno) (1.4.4)\n",
      "Requirement already satisfied: fonttools>=4.22.0 in c:\\users\\sumed\\anaconda3\\lib\\site-packages (from matplotlib->missingno) (4.25.0)\n",
      "Requirement already satisfied: cycler>=0.10 in c:\\users\\sumed\\anaconda3\\lib\\site-packages (from matplotlib->missingno) (0.11.0)\n",
      "Requirement already satisfied: pandas>=0.25 in c:\\users\\sumed\\anaconda3\\lib\\site-packages (from seaborn->missingno) (1.5.3)\n",
      "Requirement already satisfied: pytz>=2020.1 in c:\\users\\sumed\\anaconda3\\lib\\site-packages (from pandas>=0.25->seaborn->missingno) (2022.7)\n",
      "Requirement already satisfied: six>=1.5 in c:\\users\\sumed\\anaconda3\\lib\\site-packages (from python-dateutil>=2.7->matplotlib->missingno) (1.16.0)\n",
      "\n"
     ]
    },
    {
     "name": "stderr",
     "output_type": "stream",
     "text": [
      "WARNING: Ignoring invalid distribution -ensorflow-intel (c:\\users\\sumed\\anaconda3\\lib\\site-packages)\n",
      "WARNING: Ignoring invalid distribution -ensorflow-intel (c:\\users\\sumed\\anaconda3\\lib\\site-packages)\n",
      "WARNING: Ignoring invalid distribution -ensorflow-intel (c:\\users\\sumed\\anaconda3\\lib\\site-packages)\n",
      "WARNING: Ignoring invalid distribution -ensorflow-intel (c:\\users\\sumed\\anaconda3\\lib\\site-packages)\n",
      "WARNING: Ignoring invalid distribution -ensorflow-intel (c:\\users\\sumed\\anaconda3\\lib\\site-packages)\n",
      "WARNING: Ignoring invalid distribution -ensorflow-intel (c:\\users\\sumed\\anaconda3\\lib\\site-packages)\n"
     ]
    }
   ],
   "source": [
    "%pip install missingno"
=======
   "execution_count": null,
   "metadata": {},
   "outputs": [],
   "source": [
    "!pip install missingno"
>>>>>>> 50262099ac8229654f527918422eeac919275509
   ]
  },
  {
   "cell_type": "markdown",
   "metadata": {},
   "source": [
    "**Imports**"
   ]
  },
  {
   "cell_type": "code",
<<<<<<< HEAD
   "execution_count": 36,
=======
   "execution_count": 6,
>>>>>>> 50262099ac8229654f527918422eeac919275509
   "metadata": {},
   "outputs": [],
   "source": [
    "import warnings\n",
    "warnings.filterwarnings('ignore')\n",
    "import json\n",
    "import numpy as np\n",
    "import pandas as pd\n",
    "import random\n",
    "from matplotlib import pyplot as plt\n",
    "import seaborn as sns\n",
    "import missingno as msno\n",
    "\n",
    "from sklearn.feature_extraction.text import CountVectorizer\n",
    "from sklearn.model_selection import train_test_split\n",
    "from sklearn.metrics import accuracy_score, precision_recall_fscore_support\n",
    "\n",
    "from keras.preprocessing import text\n",
    "import keras\n",
    "from keras.models import Sequential\n",
    "from keras.layers import Dense,Embedding,LSTM,Dropout\n",
    "from keras.callbacks import ReduceLROnPlateau\n",
    "\n",
    "from tensorflow.keras.preprocessing.sequence import pad_sequences\n",
    "import nltk\n",
    "from nltk import word_tokenize\n",
    "from nltk.stem import PorterStemmer\n",
    "\n",
    "import torch\n",
    "from torch.utils.data import Dataset\n",
    "\n",
    "from transformers import AutoTokenizer, TFAutoModelForSequenceClassification\n",
    "from transformers import pipeline\n",
    "from transformers import DistilBertTokenizerFast\n",
    "from transformers import BertForSequenceClassification, BertTokenizerFast\n",
    "from transformers import TFDistilBertForSequenceClassification, TFTrainer, TFTrainingArguments\n",
    "from transformers import BertTokenizer, TFBertForSequenceClassification, BertConfig\n",
    "from transformers import TrainingArguments, Trainer"
   ]
  },
  {
   "cell_type": "markdown",
   "metadata": {},
   "source": [
    "**Load Data:**"
   ]
  },
  {
   "cell_type": "code",
<<<<<<< HEAD
   "execution_count": 37,
=======
   "execution_count": 7,
>>>>>>> 50262099ac8229654f527918422eeac919275509
   "metadata": {},
   "outputs": [
    {
     "data": {
      "text/plain": [
       "{'intents': [{'tag': 'greeting',\n",
       "   'patterns': ['Hi',\n",
       "    'How are you?',\n",
       "    'Is anyone there?',\n",
       "    'Hello',\n",
       "    'Good day',\n",
       "    \"What's up\",\n",
       "    'how are ya',\n",
       "    'heyy',\n",
       "    'whatsup',\n",
       "    '??? ??? ??'],\n",
       "   'responses': ['Hello!',\n",
       "    'Good to see you again!',\n",
       "    'Hi there, how can I help?'],\n",
       "   'context_set': ''},\n",
       "  {'tag': 'goodbye',\n",
       "   'patterns': ['cya',\n",
       "    'see you',\n",
       "    'bye bye',\n",
       "    'See you later',\n",
       "    'Goodbye',\n",
       "    'I am Leaving',\n",
       "    'Bye',\n",
       "    'Have a Good day',\n",
       "    'talk to you later',\n",
       "    'ttyl',\n",
       "    'i got to go',\n",
       "    'gtg'],\n",
       "   'responses': ['Sad to see you go :(',\n",
       "    'Talk to you later',\n",
       "    'Goodbye!',\n",
       "    'Come back soon'],\n",
       "   'context_set': ''},\n",
       "  {'tag': 'creator',\n",
       "   'patterns': ['what is the name of your developers',\n",
       "    'what is the name of your creators',\n",
       "    'what is the name of the developers',\n",
       "    'what is the name of the creators',\n",
       "    'who created you',\n",
       "    'your developers',\n",
       "    'your creators',\n",
       "    'who are your developers',\n",
       "    'developers',\n",
       "    'you are made by',\n",
       "    'you are made by whom',\n",
       "    'who created you',\n",
       "    'who create you',\n",
       "    'creators',\n",
       "    'who made you',\n",
       "    'who designed you'],\n",
       "   'responses': ['College students'],\n",
       "   'context_set': ''},\n",
       "  {'tag': 'name',\n",
       "   'patterns': ['name',\n",
       "    'your name',\n",
       "    'do you have a name',\n",
       "    'what are you called',\n",
       "    'what is your name',\n",
       "    'what should I call you',\n",
       "    'whats your name?',\n",
       "    'what are you',\n",
       "    'who are you',\n",
       "    'who is this',\n",
       "    'what am i chatting to',\n",
       "    'who am i taking to',\n",
       "    'what are you'],\n",
       "   'responses': ['You can call me Mind Reader.',\n",
       "    \"I'm Mind Reader\",\n",
       "    'I am a Chatbot.',\n",
       "    'I am your helper'],\n",
       "   'context_set': ''},\n",
       "  {'tag': 'hours',\n",
       "   'patterns': ['timing of college',\n",
       "    'what is college timing',\n",
       "    'working days',\n",
       "    'when are you guys open',\n",
       "    'what are your hours',\n",
       "    'hours of operation',\n",
       "    'when is the college open',\n",
       "    'college timing',\n",
       "    'what about college timing',\n",
       "    'is college open on saturday',\n",
       "    'tell something about college timing',\n",
       "    'what is the college  hours',\n",
       "    'when should i come to college',\n",
       "    'when should i attend college',\n",
       "    'what is my college time',\n",
       "    'college timing',\n",
       "    'timing college'],\n",
       "   'responses': ['College is open 8am-5pm Monday-Saturday!'],\n",
       "   'context_set': ''},\n",
       "  {'tag': 'number',\n",
       "   'patterns': ['more info',\n",
       "    'contact info',\n",
       "    'how to contact college',\n",
       "    'college telephone number',\n",
       "    'college number',\n",
       "    'What is your contact no',\n",
       "    'Contact number?',\n",
       "    'how to call you',\n",
       "    'College phone no?',\n",
       "    'how can i contact you',\n",
       "    'Can i get your phone number',\n",
       "    'how can i call you',\n",
       "    'phone number',\n",
       "    'phone no',\n",
       "    'call'],\n",
       "   'responses': ['You can contact at: NUMBER'],\n",
       "   'context_set': ''},\n",
       "  {'tag': 'course',\n",
       "   'patterns': ['list of courses',\n",
       "    'list of courses offered',\n",
       "    'list of courses offered in',\n",
       "    'what are the courses offered in your college?',\n",
       "    'courses?',\n",
       "    'courses offered',\n",
       "    'courses offered in (your univrsity(UNI) name)',\n",
       "    'courses you offer',\n",
       "    'branches?',\n",
       "    'courses available at UNI?',\n",
       "    'branches available at your college?',\n",
       "    'what are the courses in UNI?',\n",
       "    'what are branches in UNI?',\n",
       "    'what are courses in UNI?',\n",
       "    'branches available in UNI?',\n",
       "    'can you tell me the courses available in UNI?',\n",
       "    'can you tell me the branches available in UNI?',\n",
       "    'computer engineering?',\n",
       "    'computer',\n",
       "    'Computer engineering?',\n",
       "    'it',\n",
       "    'IT',\n",
       "    'Information Technology',\n",
       "    'AI/Ml',\n",
       "    'Mechanical engineering',\n",
       "    'Chemical engineering',\n",
       "    'Civil engineering'],\n",
       "   'responses': ['Our university offers Information Technology, computer Engineering, Mechanical engineering,Chemical engineering, Civil engineering and extc Engineering.'],\n",
       "   'context_set': ''},\n",
       "  {'tag': 'fees',\n",
       "   'patterns': ['information about fee',\n",
       "    'information on fee',\n",
       "    'tell me the fee',\n",
       "    'college fee',\n",
       "    'fee per semester',\n",
       "    'what is the fee of each semester',\n",
       "    'what is the fees of each year',\n",
       "    'what is fee',\n",
       "    'what is the fees',\n",
       "    'how much is the fees',\n",
       "    'fees for first year',\n",
       "    'fees',\n",
       "    'about the fees',\n",
       "    'tell me something about the fees',\n",
       "    'What is the fees of hostel',\n",
       "    'how much is the fees',\n",
       "    'hostel fees',\n",
       "    'fees for AC room',\n",
       "    'fees for non-AC room',\n",
       "    'fees for Ac room for girls',\n",
       "    'fees for non-Ac room for girls',\n",
       "    'fees for Ac room for boys',\n",
       "    'fees for non-Ac room for boys'],\n",
       "   'responses': ['For Fee detail visit <a target=\"_blank\" href=\"LINK\"> here</a>'],\n",
       "   'context_set': ''},\n",
       "  {'tag': 'location',\n",
       "   'patterns': ['where is the college located',\n",
       "    'college is located at',\n",
       "    'where is college',\n",
       "    'where is college located',\n",
       "    'address of college',\n",
       "    'how to reach college',\n",
       "    'college location',\n",
       "    'college address',\n",
       "    'wheres the college',\n",
       "    'how can I reach college',\n",
       "    'whats is the college address',\n",
       "    'what is the address of college',\n",
       "    'address',\n",
       "    'location'],\n",
       "   'responses': ['<a target=\"_blank\" href=\"ADD YOU GOOGLE MAP LINK HERE\"> here</a>'],\n",
       "   'context_set': ''},\n",
       "  {'tag': 'hostel',\n",
       "   'patterns': ['hostel facility',\n",
       "    'hostel servive',\n",
       "    'hostel location',\n",
       "    'hostel address',\n",
       "    'hostel facilities',\n",
       "    'hostel fees',\n",
       "    'Does college provide hostel',\n",
       "    'Is there any hostel',\n",
       "    'Where is hostel',\n",
       "    'do you have hostel',\n",
       "    'do you guys have hostel',\n",
       "    'hostel',\n",
       "    'hostel capacity',\n",
       "    'what is the hostel fee',\n",
       "    'how to get in hostel',\n",
       "    'what is the hostel address',\n",
       "    'how far is hostel from college',\n",
       "    'hostel college distance',\n",
       "    'where is the hostel',\n",
       "    'how big is the hostel',\n",
       "    'distance between college and hostel',\n",
       "    'distance between hostel and college'],\n",
       "   'responses': ['For hostel detail visit <a target=\"_blank\" href=\"ADD YOUR HOSTEL DETAIL PDF LINK OR ANY INFORMATION LINK OR ADD YOU OWN ANSWERS\"> here</a>'],\n",
       "   'context_set': ''},\n",
       "  {'tag': 'event',\n",
       "   'patterns': ['events organised',\n",
       "    'list of events',\n",
       "    'list of events organised in college',\n",
       "    'list of events conducted in college',\n",
       "    'What events are conducted in college',\n",
       "    'Are there any event held at college',\n",
       "    'Events?',\n",
       "    'functions',\n",
       "    'what are the events',\n",
       "    'tell me about events',\n",
       "    'what about events'],\n",
       "   'responses': ['For event detail visit <a target=\"_blank\" href=\"ADD YOUR FUNCTIONS LINK OR YOUR OWN RESPONSE\"> here</a>'],\n",
       "   'context_set': ''},\n",
       "  {'tag': 'document',\n",
       "   'patterns': ['document to bring',\n",
       "    'documents needed for admision',\n",
       "    'documents needed at the time of admission',\n",
       "    'documents needed during admission',\n",
       "    'documents required for admision',\n",
       "    'documents required at the time of admission',\n",
       "    'documents required during admission',\n",
       "    'What document are required for admission',\n",
       "    'Which document to bring for admission',\n",
       "    'documents',\n",
       "    'what documents do i need',\n",
       "    'what documents do I need for admission',\n",
       "    'documents needed'],\n",
       "   'responses': ['To know more about document required visit <a target=\"_blank\" href=\"ADD LINK OF ADMISSION GUIDANCE DOCUMENT FROM YOUR UNIVERSITY WEBSITE\"> here</a>'],\n",
       "   'context_set': ''},\n",
       "  {'tag': 'floors',\n",
       "   'patterns': ['size of campus',\n",
       "    'building size',\n",
       "    'How many floors does college have',\n",
       "    'floors in college',\n",
       "    'floors in college',\n",
       "    \"how tall is UNI's College of Engineering college building\",\n",
       "    'floors'],\n",
       "   'responses': ['My College has total 2 floors '],\n",
       "   'context_set': ''},\n",
       "  {'tag': 'syllabus',\n",
       "   'patterns': ['Syllabus for IT',\n",
       "    'what is the Information Technology syllabus',\n",
       "    'syllabus',\n",
       "    'timetable',\n",
       "    'what is IT syllabus',\n",
       "    'syllabus',\n",
       "    'What is next lecture'],\n",
       "   'responses': ['Timetable provide direct to the students OR To know about syllabus visit <a target=\"_blank\" href=\"TIMETABLE LINK\"> here</a>'],\n",
       "   'context_set': ''},\n",
       "  {'tag': 'library',\n",
       "   'patterns': ['is there any library',\n",
       "    'library facility',\n",
       "    'library facilities',\n",
       "    'do you have library',\n",
       "    'does the college have library facility',\n",
       "    'college library',\n",
       "    'where can i get books',\n",
       "    'book facility',\n",
       "    'Where is library',\n",
       "    'Library',\n",
       "    'Library information',\n",
       "    'Library books information',\n",
       "    'Tell me about library',\n",
       "    'how many libraries'],\n",
       "   'responses': ['There is one huge and spacious library.timings are 8am to 6pm and for more visit <a target=\"blank\" href=\"ADD LIBRARY DETAIL LINK\">here</a>'],\n",
       "   'context_set': ''},\n",
       "  {'tag': 'infrastructure',\n",
       "   'patterns': ['how is college infrastructure',\n",
       "    'infrastructure',\n",
       "    'college infrastructure'],\n",
       "   'responses': ['Our University has Excellent Infrastructure. Campus is clean. Good IT Labs With Good Speed of Internet connection'],\n",
       "   'context_set': ''},\n",
       "  {'tag': 'canteen',\n",
       "   'patterns': ['food facilities',\n",
       "    'canteen facilities',\n",
       "    'canteen facility',\n",
       "    'is there any canteen',\n",
       "    'Is there a cafetaria in college',\n",
       "    'Does college have canteen',\n",
       "    'Where is canteen',\n",
       "    'where is cafetaria',\n",
       "    'canteen',\n",
       "    'Food',\n",
       "    'Cafetaria'],\n",
       "   'responses': ['Our university has canteen with variety of food available'],\n",
       "   'context_set': ''},\n",
       "  {'tag': 'menu',\n",
       "   'patterns': ['food menu',\n",
       "    'food in canteen',\n",
       "    'Whats there on menu',\n",
       "    'what is available in college canteen',\n",
       "    'what foods can we get in college canteen',\n",
       "    'food variety',\n",
       "    'What is there to eat?'],\n",
       "   'responses': ['we serve Franky, Locho, Alu-puri, Kachori, Khavsa, Thaali and many more on menu'],\n",
       "   'context_set': ''},\n",
       "  {'tag': 'placement',\n",
       "   'patterns': ['What is college placement',\n",
       "    'Which companies visit in college',\n",
       "    'What is average package',\n",
       "    'companies visit',\n",
       "    'package',\n",
       "    'About placement',\n",
       "    'placement',\n",
       "    'recruitment',\n",
       "    'companies'],\n",
       "   'responses': ['To know about placement visit <a target=\"_blank\" href=\"PLACEMENT INFORMATION LINK FROM YOUR UNIVERSITY WEBSITE IF THEY HAVE\">here</a>'],\n",
       "   'context_set': ''},\n",
       "  {'tag': 'ithod',\n",
       "   'patterns': ['Who is HOD', 'Where is HOD', 'it hod', 'name of it hod'],\n",
       "   'responses': ['All engineering departments have only one hod XYZ who available on (Place name)'],\n",
       "   'context_set': ''},\n",
       "  {'tag': 'computerhod',\n",
       "   'patterns': ['Who is computer HOD',\n",
       "    'Where is computer HOD',\n",
       "    'computer hod',\n",
       "    'name of computer hod'],\n",
       "   'responses': ['All engineering departments have only one hod XYZ who available on (PLACE NAME)'],\n",
       "   'context_set': ''},\n",
       "  {'tag': 'extchod',\n",
       "   'patterns': ['Who is extc HOD',\n",
       "    'Where is  extc HOD',\n",
       "    'extc hod',\n",
       "    'name of extc hod'],\n",
       "   'responses': ['Different school wise hod are different.So be more clear with your school or department'],\n",
       "   'context_set': ''},\n",
       "  {'tag': 'principal',\n",
       "   'patterns': ['what is the name of principal',\n",
       "    'whatv is the principal name',\n",
       "    'principal name',\n",
       "    'Who is college principal',\n",
       "    \"Where is principal's office\",\n",
       "    'principal',\n",
       "    'name of principal'],\n",
       "   'responses': ['XYZ is college principal and if you need any help then call your branch hod first.That is more appropriate'],\n",
       "   'context_set': ''},\n",
       "  {'tag': 'sem',\n",
       "   'patterns': ['exam dates',\n",
       "    'exam schedule',\n",
       "    'When is semester exam',\n",
       "    'Semester exam timetable',\n",
       "    'sem',\n",
       "    'semester',\n",
       "    'exam',\n",
       "    'when is exam',\n",
       "    'exam timetable',\n",
       "    'exam dates',\n",
       "    'when is semester'],\n",
       "   'responses': ['Here is the Academic Calendar  <a target=\"_blank\" href=\"YOUR ACADEMIC CALENDER\">website</a>'],\n",
       "   'context_set': ''},\n",
       "  {'tag': 'admission',\n",
       "   'patterns': ['what is the process of admission',\n",
       "    'what is the admission process',\n",
       "    'How to take admission in your college',\n",
       "    'What is the process for admission',\n",
       "    'admission',\n",
       "    'admission process'],\n",
       "   'responses': ['Application can also be submitted online through the Unversity\\'s  <a target=\"_blank\" href=\"LINK OF ADMISSION DOCUMENT\">website</a>'],\n",
       "   'context_set': ''},\n",
       "  {'tag': 'scholarship',\n",
       "   'patterns': ['scholarship',\n",
       "    'Is scholarship available',\n",
       "    'scholarship engineering',\n",
       "    'scholarship it',\n",
       "    'scholarship ce',\n",
       "    'scholarship mechanical',\n",
       "    'scholarship civil',\n",
       "    'scholarship chemical',\n",
       "    'scholarship for AI/ML',\n",
       "    'available scholarships',\n",
       "    'scholarship for computer engineering',\n",
       "    'scholarship for IT engineering',\n",
       "    'scholarship for mechanical engineering',\n",
       "    'scholarship for civil engineering',\n",
       "    'scholarship for chemical engineering',\n",
       "    'list of scholarship',\n",
       "    'comps scholarship',\n",
       "    'IT scholarship',\n",
       "    'mechanical scholarship',\n",
       "    'civil scholarship',\n",
       "    'chemical scholarship',\n",
       "    'automobile scholarship',\n",
       "    'first year scholarship',\n",
       "    'second year scholarship',\n",
       "    'third year scholarship',\n",
       "    'fourth year scholarship'],\n",
       "   'responses': ['Many government scholarships are supported by our university. For details and updates visit <a target=\"_blank\" href=\"(SCHOLARSHIP DETAILS LINK)\">here</a>'],\n",
       "   'context_set': ''},\n",
       "  {'tag': 'facilities',\n",
       "   'patterns': ['What facilities college provide',\n",
       "    'College facility',\n",
       "    'What are college facilities',\n",
       "    'facilities',\n",
       "    'facilities provided'],\n",
       "   'responses': [\"Our university's Engineering department provides fully AC Lab with internet connection, smart classroom, Auditorium, library,canteen\"],\n",
       "   'context_set': ''},\n",
       "  {'tag': 'college intake',\n",
       "   'patterns': ['max number of students',\n",
       "    'number of seats per branch',\n",
       "    'number of seats in each branch',\n",
       "    'maximum number of seats',\n",
       "    'maximum students intake',\n",
       "    'What is college intake',\n",
       "    'how many stundent are taken in each branch',\n",
       "    'seat allotment',\n",
       "    'seats'],\n",
       "   'responses': ['For IT, Computer and extc 60 per branch and seat may be differ for different department.'],\n",
       "   'context_set': ''},\n",
       "  {'tag': 'uniform',\n",
       "   'patterns': ['college dress code',\n",
       "    'college dresscode',\n",
       "    'what is the uniform',\n",
       "    'can we wear casuals',\n",
       "    'Does college have an uniform',\n",
       "    'Is there any uniform',\n",
       "    'uniform',\n",
       "    'what about uniform',\n",
       "    'do we have to wear uniform'],\n",
       "   'responses': ['ENTER YOUR OWN UNIVERSITY UNIFORM CIRCULER'],\n",
       "   'context_set': ''},\n",
       "  {'tag': 'committee',\n",
       "   'patterns': ['what are the different committe in college',\n",
       "    'different committee in college',\n",
       "    'Are there any committee in college',\n",
       "    'Give me committee details',\n",
       "    'committee',\n",
       "    'how many committee are there in college'],\n",
       "   'responses': ['For the various committe in college contact this number: ADD NUMBER'],\n",
       "   'context_set': ''},\n",
       "  {'tag': 'random',\n",
       "   'patterns': ['I love you', 'Will you marry me', 'Do you love me'],\n",
       "   'responses': ['I am not program for this, please ask appropriate query'],\n",
       "   'context_set': ''},\n",
       "  {'tag': 'swear',\n",
       "   'patterns': ['fuck',\n",
       "    'bitch',\n",
       "    'shut up',\n",
       "    'hell',\n",
       "    'stupid',\n",
       "    'idiot',\n",
       "    'dumb ass',\n",
       "    'asshole',\n",
       "    'fucker'],\n",
       "   'responses': ['please use appropriate language',\n",
       "    'Maintaining decency would be appreciated'],\n",
       "   'context_set': ''},\n",
       "  {'tag': 'vacation',\n",
       "   'patterns': ['holidays',\n",
       "    'when will semester starts',\n",
       "    'when will semester end',\n",
       "    'when is the holidays',\n",
       "    'list of holidays',\n",
       "    'Holiday in these year',\n",
       "    'holiday list',\n",
       "    'about vacations',\n",
       "    'about holidays',\n",
       "    'When is vacation',\n",
       "    'When is holidays',\n",
       "    'how long will be the vacation'],\n",
       "   'responses': ['Academic calender is given to you by your class-soordinators after you join your respective classes'],\n",
       "   'context_set': ''},\n",
       "  {'tag': 'sports',\n",
       "   'patterns': ['sports and games',\n",
       "    'give sports details',\n",
       "    'sports infrastructure',\n",
       "    'sports facilities',\n",
       "    'information about sports',\n",
       "    'Sports activities',\n",
       "    'please provide sports and games information'],\n",
       "   'responses': ['Our university encourages all-round development of students and hence provides sports facilities in the campus. For more details visit<a target=\"_blank\" href=/\"(LINK IF HAVE)\">here</a>'],\n",
       "   'context_set': ''},\n",
       "  {'tag': 'salutaion',\n",
       "   'patterns': ['okk',\n",
       "    'okie',\n",
       "    'nice work',\n",
       "    'well done',\n",
       "    'good job',\n",
       "    'thanks for the help',\n",
       "    'Thank You',\n",
       "    'its ok',\n",
       "    'Thanks',\n",
       "    'Good work',\n",
       "    'k',\n",
       "    'ok',\n",
       "    'okay'],\n",
       "   'responses': ['I am glad I helped you',\n",
       "    'welcome, anything else i can assist you with?'],\n",
       "   'context_set': ''},\n",
       "  {'tag': 'task',\n",
       "   'patterns': ['what can you do',\n",
       "    'what are the thing you can do',\n",
       "    'things you can do',\n",
       "    'what can u do for me',\n",
       "    'how u can help me',\n",
       "    'why i should use you'],\n",
       "   'responses': ['I can answer to low-intermediate questions regarding college',\n",
       "    'You can ask me questions regarding college, and i will try to answer them'],\n",
       "   'context_set': ''},\n",
       "  {'tag': 'ragging',\n",
       "   'patterns': ['ragging',\n",
       "    'is ragging practice active in college',\n",
       "    'does college have any antiragging facility',\n",
       "    'is there any ragging cases',\n",
       "    'is ragging done here',\n",
       "    'ragging against',\n",
       "    'antiragging facility',\n",
       "    'ragging juniors',\n",
       "    'ragging history',\n",
       "    'ragging incidents'],\n",
       "   'responses': ['We are Proud to tell you that our college provides ragging free environment, and we have strict rules against ragging'],\n",
       "   'context_set': ''},\n",
       "  {'tag': 'hod',\n",
       "   'patterns': ['hod', 'hod name', 'who is the hod'],\n",
       "   'responses': ['HODs differ for each branch, please be more specific like: (HOD it)'],\n",
       "   'context_set': ''},\n",
       "  {'tag': 'eligibility',\n",
       "   'patterns': ['What are the eligibility criteria for admission?',\n",
       "    'Am I eligible to apply?',\n",
       "    'Qualifications required for admission',\n",
       "    'Tell me about admission requirements',\n",
       "    'Is there a minimum GPA for admission?'],\n",
       "   'responses': ['Eligibility criteria vary by program. You can find detailed information on our website or contact the admission office.'],\n",
       "   'context_set': ''},\n",
       "  {'tag': 'application_process',\n",
       "   'patterns': ['How do I apply?',\n",
       "    'Steps for admission application',\n",
       "    'What documents are needed for the application?',\n",
       "    'Can I submit my application online?',\n",
       "    'Guide me through the application process'],\n",
       "   'responses': ['To apply, visit our official website and follow the instructions. Required documents include academic transcripts, ID proof, and passport-sized photos.'],\n",
       "   'context_set': ''},\n",
       "  {'tag': 'admission_deadlines',\n",
       "   'patterns': ['What are the admission deadlines?',\n",
       "    'When is the application deadline?',\n",
       "    'Important dates for admission',\n",
       "    'Can I apply after the deadline?',\n",
       "    'Tell me about early admission options'],\n",
       "   'responses': ['Admission deadlines can vary. Check our website for the latest information on application deadlines for each program.'],\n",
       "   'context_set': ''},\n",
       "  {'tag': 'financial_aid',\n",
       "   'patterns': ['Is financial aid available?',\n",
       "    'Scholarships offered by the university',\n",
       "    'Financial assistance for students',\n",
       "    'Tell me about merit-based scholarships',\n",
       "    'How can I apply for financial aid?'],\n",
       "   'responses': ['We offer various scholarships and financial aid options. Explore our scholarship programs on the official website.'],\n",
       "   'context_set': ''},\n",
       "  {'tag': 'campus_facilities',\n",
       "   'patterns': ['Tell me about campus facilities',\n",
       "    'What facilities does the campus have?',\n",
       "    'Campus amenities',\n",
       "    'Are there computer labs on campus?',\n",
       "    'Describe the sports facilities'],\n",
       "   'responses': ['Our campus features state-of-the-art facilities including modern classrooms, laboratories, recreational areas, and sports facilities.'],\n",
       "   'context_set': ''},\n",
       "  {'tag': 'extracurricular_activities',\n",
       "   'patterns': ['What extracurricular activities are available?',\n",
       "    'Clubs and societies on campus',\n",
       "    'Sports and cultural activities',\n",
       "    'Tell me about student clubs',\n",
       "    'Can I participate in drama or music clubs?'],\n",
       "   'responses': ['Get involved in our vibrant campus life! We have a range of clubs, sports teams, and cultural activities to suit various interests.'],\n",
       "   'context_set': ''},\n",
       "  {'tag': 'student_support_services',\n",
       "   'patterns': ['What support services are available for students?',\n",
       "    'Counseling services',\n",
       "    'Career guidance',\n",
       "    'Tell me about academic tutoring services',\n",
       "    'Are there services for students with disabilities?'],\n",
       "   'responses': ['We prioritize the well-being of our students. Explore our support services, including counseling, career guidance, and academic assistance.'],\n",
       "   'context_set': ''},\n",
       "  {'tag': 'internship_opportunities',\n",
       "   'patterns': ['Are there internship opportunities?',\n",
       "    'Internship programs for students',\n",
       "    'Industry connections',\n",
       "    'Tell me about engineering internships',\n",
       "    'Can I get assistance in finding internships?'],\n",
       "   'responses': ['Our university fosters strong industry ties, providing students with valuable internship opportunities. Explore career development programs on our website.'],\n",
       "   'context_set': ''},\n",
       "  {'tag': 'research_opportunities',\n",
       "   'patterns': ['Research programs at the university',\n",
       "    'How can I get involved in research?',\n",
       "    'Research facilities',\n",
       "    'Tell me about ongoing research projects',\n",
       "    'Are there opportunities for undergraduate research?'],\n",
       "   'responses': ['We encourage students to engage in research. Learn about ongoing research projects and opportunities to collaborate with faculty.'],\n",
       "   'context_set': ''},\n",
       "  {'tag': 'alumni_success_stories',\n",
       "   'patterns': ['Tell me about successful alumni',\n",
       "    'Alumni achievements',\n",
       "    'Notable graduates',\n",
       "    'Can I connect with alumni for mentorship?',\n",
       "    'Share inspiring stories of graduates'],\n",
       "   'responses': ['Discover inspiring stories of our successful alumni who have made significant contributions in their respective fields.'],\n",
       "   'context_set': ''},\n",
       "  {'tag': 'admission_requirements',\n",
       "   'patterns': ['What are the minimum GPA requirements for admission?',\n",
       "    'Can you explain the admission eligibility criteria in detail?',\n",
       "    'Are there specific language proficiency tests required?',\n",
       "    'Tell me more about the portfolio submission requirements.',\n",
       "    'Do I need to submit standardized test scores for admission?'],\n",
       "   'responses': ['Admission requirements may vary by program. Check our website or contact the admissions office for detailed information.'],\n",
       "   'context_set': ''},\n",
       "  {'tag': 'application_submission',\n",
       "   'patterns': ['How can I pay the application fee online?',\n",
       "    'Is there a common application form for all programs?',\n",
       "    'Tell me about the submission deadline for recommendation letters.',\n",
       "    'Can I track the status of my application online?',\n",
       "    'Any tips for a successful online application submission?'],\n",
       "   'responses': ['Submit your application through our official online portal. Ensure all required documents are uploaded before the deadline.'],\n",
       "   'context_set': ''},\n",
       "  {'tag': 'admission_decisions',\n",
       "   'patterns': ['What types of admission decisions can I expect?',\n",
       "    'Is there an appeals process for admission decisions?',\n",
       "    'Can I defer my admission to a later term?',\n",
       "    'Tell me about the timeline for admission decisions.',\n",
       "    'Are there conditional admission offers for certain programs?'],\n",
       "   'responses': ['Admission decisions are typically communicated by email or through the online application portal. Check your status regularly for updates.'],\n",
       "   'context_set': ''},\n",
       "  {'tag': 'financial_aid_options',\n",
       "   'patterns': ['How do I apply for departmental scholarships?',\n",
       "    'Tell me about the process of applying for grants.',\n",
       "    'Are there work-study opportunities available?',\n",
       "    'Describe the renewal criteria for merit-based scholarships.',\n",
       "    'Tell me about external scholarships accepted by the university.'],\n",
       "   'responses': ['Explore our diverse financial aid options, including scholarships, grants, and work-study programs. Check the eligibility criteria on our website.'],\n",
       "   'context_set': ''},\n",
       "  {'tag': 'accommodation_options',\n",
       "   'patterns': ['How do I apply for on-campus housing?',\n",
       "    'Tell me about off-campus accommodation resources.',\n",
       "    'Are there gender-specific housing options?',\n",
       "    'Describe the amenities in on-campus housing.',\n",
       "    'Tell me about roommate matching services.'],\n",
       "   'responses': ['Our university offers a range of accommodation options, including on-campus dormitories. Explore our housing facilities and application process on our website.'],\n",
       "   'context_set': ''}]}"
      ]
     },
<<<<<<< HEAD
     "execution_count": 37,
=======
     "execution_count": 7,
>>>>>>> 50262099ac8229654f527918422eeac919275509
     "metadata": {},
     "output_type": "execute_result"
    }
   ],
   "source": [
    "filename = '../../data/intents_generated.json'\n",
    "\n",
    "with open(filename) as f:\n",
    "    intents = json.load(f)\n",
    "\n",
    "intents"
   ]
  },
  {
   "cell_type": "code",
<<<<<<< HEAD
   "execution_count": 38,
=======
   "execution_count": 9,
>>>>>>> 50262099ac8229654f527918422eeac919275509
   "metadata": {},
   "outputs": [
    {
     "data": {
      "text/html": [
       "<div>\n",
       "<style scoped>\n",
       "    .dataframe tbody tr th:only-of-type {\n",
       "        vertical-align: middle;\n",
       "    }\n",
       "\n",
       "    .dataframe tbody tr th {\n",
       "        vertical-align: top;\n",
       "    }\n",
       "\n",
       "    .dataframe thead th {\n",
       "        text-align: right;\n",
       "    }\n",
       "</style>\n",
       "<table border=\"1\" class=\"dataframe\">\n",
       "  <thead>\n",
       "    <tr style=\"text-align: right;\">\n",
       "      <th></th>\n",
       "      <th>Pattern</th>\n",
       "      <th>Tag</th>\n",
       "    </tr>\n",
       "  </thead>\n",
       "  <tbody>\n",
       "    <tr>\n",
       "      <th>0</th>\n",
       "      <td>Hi</td>\n",
       "      <td>greeting</td>\n",
       "    </tr>\n",
       "    <tr>\n",
       "      <th>1</th>\n",
       "      <td>How are you?</td>\n",
       "      <td>greeting</td>\n",
       "    </tr>\n",
       "    <tr>\n",
       "      <th>2</th>\n",
       "      <td>Is anyone there?</td>\n",
       "      <td>greeting</td>\n",
       "    </tr>\n",
       "    <tr>\n",
       "      <th>3</th>\n",
       "      <td>Hello</td>\n",
       "      <td>greeting</td>\n",
       "    </tr>\n",
       "    <tr>\n",
       "      <th>4</th>\n",
       "      <td>Good day</td>\n",
       "      <td>greeting</td>\n",
       "    </tr>\n",
       "  </tbody>\n",
       "</table>\n",
       "</div>"
      ],
      "text/plain": [
       "            Pattern       Tag\n",
       "0                Hi  greeting\n",
       "1      How are you?  greeting\n",
       "2  Is anyone there?  greeting\n",
       "3             Hello  greeting\n",
       "4          Good day  greeting"
      ]
     },
<<<<<<< HEAD
     "execution_count": 38,
=======
     "execution_count": 9,
>>>>>>> 50262099ac8229654f527918422eeac919275509
     "metadata": {},
     "output_type": "execute_result"
    }
   ],
   "source": [
    "def create_and_extract_info(json_file):\n",
    "    df = pd.DataFrame({\n",
    "        'Pattern' : [],\n",
    "        'Tag' : []\n",
    "    })\n",
    "\n",
    "    for intent in json_file['intents']:\n",
    "        for pattern in intent['patterns']:\n",
    "            sentence_tag = [pattern, intent['tag']]\n",
    "            df.loc[len(df.index)] = sentence_tag\n",
    "\n",
    "    return df\n",
    "\n",
    "df = create_and_extract_info(intents)\n",
    "df2 = df.copy()\n",
    "df.head()"
   ]
  },
  {
   "cell_type": "markdown",
   "metadata": {},
   "source": [
    "**About the data**:"
   ]
  },
  {
   "cell_type": "code",
<<<<<<< HEAD
   "execution_count": 39,
=======
   "execution_count": 11,
>>>>>>> 50262099ac8229654f527918422eeac919275509
   "metadata": {},
   "outputs": [
    {
     "data": {
      "text/plain": [
       "(480, 2)"
      ]
     },
<<<<<<< HEAD
     "execution_count": 39,
=======
     "execution_count": 11,
>>>>>>> 50262099ac8229654f527918422eeac919275509
     "metadata": {},
     "output_type": "execute_result"
    }
   ],
   "source": [
    "df.shape"
   ]
  },
  {
   "cell_type": "code",
<<<<<<< HEAD
   "execution_count": 40,
=======
   "execution_count": 12,
>>>>>>> 50262099ac8229654f527918422eeac919275509
   "metadata": {},
   "outputs": [
    {
     "name": "stdout",
     "output_type": "stream",
     "text": [
      "<class 'pandas.core.frame.DataFrame'>\n",
<<<<<<< HEAD
      "Int64Index: 480 entries, 0 to 479\n",
=======
      "Index: 480 entries, 0 to 479\n",
>>>>>>> 50262099ac8229654f527918422eeac919275509
      "Data columns (total 2 columns):\n",
      " #   Column   Non-Null Count  Dtype \n",
      "---  ------   --------------  ----- \n",
      " 0   Pattern  480 non-null    object\n",
      " 1   Tag      480 non-null    object\n",
      "dtypes: object(2)\n",
      "memory usage: 11.2+ KB\n"
     ]
    }
   ],
   "source": [
    "df.info()"
   ]
  },
  {
   "cell_type": "markdown",
   "metadata": {},
   "source": [
    "**Number of classes**:"
   ]
  },
  {
   "cell_type": "code",
<<<<<<< HEAD
   "execution_count": 41,
=======
   "execution_count": 13,
>>>>>>> 50262099ac8229654f527918422eeac919275509
   "metadata": {},
   "outputs": [
    {
     "data": {
      "text/plain": [
       "53"
      ]
     },
<<<<<<< HEAD
     "execution_count": 41,
=======
     "execution_count": 13,
>>>>>>> 50262099ac8229654f527918422eeac919275509
     "metadata": {},
     "output_type": "execute_result"
    }
   ],
   "source": [
    "len(df['Tag'].unique())"
   ]
  },
  {
   "cell_type": "code",
<<<<<<< HEAD
   "execution_count": 42,
=======
   "execution_count": 14,
>>>>>>> 50262099ac8229654f527918422eeac919275509
   "metadata": {},
   "outputs": [
    {
     "data": {
      "text/plain": [
       "Pattern    0\n",
       "Tag        0\n",
       "dtype: int64"
      ]
     },
<<<<<<< HEAD
     "execution_count": 42,
=======
     "execution_count": 14,
>>>>>>> 50262099ac8229654f527918422eeac919275509
     "metadata": {},
     "output_type": "execute_result"
    }
   ],
   "source": [
    "df.isnull().sum()"
   ]
  },
  {
   "cell_type": "code",
<<<<<<< HEAD
   "execution_count": 43,
=======
   "execution_count": 16,
>>>>>>> 50262099ac8229654f527918422eeac919275509
   "metadata": {},
   "outputs": [
    {
     "data": {
<<<<<<< HEAD
      "image/png": "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",
=======
      "image/png": "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",
>>>>>>> 50262099ac8229654f527918422eeac919275509
      "text/plain": [
       "<Figure size 2000x1000 with 1 Axes>"
      ]
     },
     "metadata": {},
     "output_type": "display_data"
    }
   ],
   "source": [
    "def count_plot(x, df, title, xlabel, ylabel, width, height, order = None, rotation=False, palette='winter', hue=None):\n",
    "    ncount = len(df)\n",
    "    plt.figure(figsize=(width,height))\n",
    "    ax = sns.countplot(x = x, palette=palette, order = order, hue=hue)\n",
    "    plt.title(title, fontsize=20)\n",
    "    if rotation:\n",
    "        plt.xticks(rotation = 'vertical')\n",
    "    plt.xlabel(xlabel, fontsize=25)\n",
    "    plt.ylabel(ylabel, fontsize=25)\n",
    "\n",
    "    ax.yaxis.set_label_position('left')\n",
    "    for p in ax.patches:\n",
    "        x=p.get_bbox().get_points()[:,0]\n",
    "        y=p.get_bbox().get_points()[1,1]\n",
    "        ax.annotate('{:.1f}%'.format(100.*y/ncount), (x.mean(), y),\n",
    "                ha='center', va='bottom') # set the alignment of the text\n",
    "\n",
    "    plt.show()\n",
    "\n",
    "sns.set(font_scale = 1.2)\n",
    "order = df['Tag'].value_counts().index\n",
    "count_plot(df['Tag'], df, \"Chatbot Tags distrbution\", \"Tags\", \"Frequency\", 20,10, order=order,rotation=True, palette=\"summer\")"
   ]
  },
  {
   "cell_type": "code",
<<<<<<< HEAD
   "execution_count": 44,
=======
   "execution_count": 17,
>>>>>>> 50262099ac8229654f527918422eeac919275509
   "metadata": {},
   "outputs": [
    {
     "data": {
      "text/html": [
       "<div>\n",
       "<style scoped>\n",
       "    .dataframe tbody tr th:only-of-type {\n",
       "        vertical-align: middle;\n",
       "    }\n",
       "\n",
       "    .dataframe tbody tr th {\n",
       "        vertical-align: top;\n",
       "    }\n",
       "\n",
       "    .dataframe thead th {\n",
       "        text-align: right;\n",
       "    }\n",
       "</style>\n",
       "<table border=\"1\" class=\"dataframe\">\n",
       "  <thead>\n",
       "    <tr style=\"text-align: right;\">\n",
       "      <th></th>\n",
       "      <th>Pattern</th>\n",
       "      <th>Tag</th>\n",
       "    </tr>\n",
       "  </thead>\n",
       "  <tbody>\n",
       "    <tr>\n",
       "      <th>0</th>\n",
       "      <td>hi</td>\n",
       "      <td>greeting</td>\n",
       "    </tr>\n",
       "    <tr>\n",
       "      <th>1</th>\n",
       "      <td>how are you</td>\n",
       "      <td>greeting</td>\n",
       "    </tr>\n",
       "    <tr>\n",
       "      <th>2</th>\n",
       "      <td>is anyon there</td>\n",
       "      <td>greeting</td>\n",
       "    </tr>\n",
       "    <tr>\n",
       "      <th>3</th>\n",
       "      <td>hello</td>\n",
       "      <td>greeting</td>\n",
       "    </tr>\n",
       "    <tr>\n",
       "      <th>4</th>\n",
       "      <td>good day</td>\n",
       "      <td>greeting</td>\n",
       "    </tr>\n",
       "  </tbody>\n",
       "</table>\n",
       "</div>"
      ],
      "text/plain": [
       "          Pattern       Tag\n",
       "0              hi  greeting\n",
       "1     how are you  greeting\n",
       "2  is anyon there  greeting\n",
       "3           hello  greeting\n",
       "4        good day  greeting"
      ]
     },
<<<<<<< HEAD
     "execution_count": 44,
=======
     "execution_count": 17,
>>>>>>> 50262099ac8229654f527918422eeac919275509
     "metadata": {},
     "output_type": "execute_result"
    }
   ],
   "source": [
    "stemmer = PorterStemmer()\n",
    "ignore_words=['?', '!', ',', '.']\n",
    "\n",
    "def preprocess_pattern(pattern):\n",
    "    words = word_tokenize(pattern.lower())\n",
    "    stemmed_words = [stemmer.stem(word) for word in words if word not in ignore_words]\n",
    "    return \" \".join(stemmed_words)\n",
    "\n",
    "df['Pattern'] = df['Pattern'].apply(preprocess_pattern)\n",
    "df.head()"
   ]
  },
  {
   "cell_type": "markdown",
   "metadata": {},
   "source": [
    "**Pre-processing**:"
   ]
  },
  {
   "cell_type": "code",
<<<<<<< HEAD
   "execution_count": 45,
=======
   "execution_count": 18,
>>>>>>> 50262099ac8229654f527918422eeac919275509
   "metadata": {},
   "outputs": [
    {
     "data": {
      "text/plain": [
       "['greeting',\n",
       " 'goodbye',\n",
       " 'creator',\n",
       " 'name',\n",
       " 'hours',\n",
       " 'number',\n",
       " 'course',\n",
       " 'fees',\n",
       " 'location',\n",
       " 'hostel',\n",
       " 'event',\n",
       " 'document',\n",
       " 'floors',\n",
       " 'syllabus',\n",
       " 'library',\n",
       " 'infrastructure',\n",
       " 'canteen',\n",
       " 'menu',\n",
       " 'placement',\n",
       " 'ithod',\n",
       " 'computerhod',\n",
       " 'extchod',\n",
       " 'principal',\n",
       " 'sem',\n",
       " 'admission',\n",
       " 'scholarship',\n",
       " 'facilities',\n",
       " 'college intake',\n",
       " 'uniform',\n",
       " 'committee',\n",
       " 'random',\n",
       " 'swear',\n",
       " 'vacation',\n",
       " 'sports',\n",
       " 'salutaion',\n",
       " 'task',\n",
       " 'ragging',\n",
       " 'hod',\n",
       " 'eligibility',\n",
       " 'application_process',\n",
       " 'admission_deadlines',\n",
       " 'financial_aid',\n",
       " 'campus_facilities',\n",
       " 'extracurricular_activities',\n",
       " 'student_support_services',\n",
       " 'internship_opportunities',\n",
       " 'research_opportunities',\n",
       " 'alumni_success_stories',\n",
       " 'admission_requirements',\n",
       " 'application_submission',\n",
       " 'admission_decisions',\n",
       " 'financial_aid_options',\n",
       " 'accommodation_options']"
      ]
     },
<<<<<<< HEAD
     "execution_count": 45,
=======
     "execution_count": 18,
>>>>>>> 50262099ac8229654f527918422eeac919275509
     "metadata": {},
     "output_type": "execute_result"
    }
   ],
   "source": [
    "labels = df2['Tag'].unique().tolist()\n",
    "labels = [s.strip() for s in labels]\n",
    "labels"
   ]
  },
  {
   "cell_type": "code",
<<<<<<< HEAD
   "execution_count": 46,
=======
   "execution_count": 19,
>>>>>>> 50262099ac8229654f527918422eeac919275509
   "metadata": {},
   "outputs": [
    {
     "data": {
      "text/plain": [
       "{0: 'greeting',\n",
       " 1: 'goodbye',\n",
       " 2: 'creator',\n",
       " 3: 'name',\n",
       " 4: 'hours',\n",
       " 5: 'number',\n",
       " 6: 'course',\n",
       " 7: 'fees',\n",
       " 8: 'location',\n",
       " 9: 'hostel',\n",
       " 10: 'event',\n",
       " 11: 'document',\n",
       " 12: 'floors',\n",
       " 13: 'syllabus',\n",
       " 14: 'library',\n",
       " 15: 'infrastructure',\n",
       " 16: 'canteen',\n",
       " 17: 'menu',\n",
       " 18: 'placement',\n",
       " 19: 'ithod',\n",
       " 20: 'computerhod',\n",
       " 21: 'extchod',\n",
       " 22: 'principal',\n",
       " 23: 'sem',\n",
       " 24: 'admission',\n",
       " 25: 'scholarship',\n",
       " 26: 'facilities',\n",
       " 27: 'college intake',\n",
       " 28: 'uniform',\n",
       " 29: 'committee',\n",
       " 30: 'random',\n",
       " 31: 'swear',\n",
       " 32: 'vacation',\n",
       " 33: 'sports',\n",
       " 34: 'salutaion',\n",
       " 35: 'task',\n",
       " 36: 'ragging',\n",
       " 37: 'hod',\n",
       " 38: 'eligibility',\n",
       " 39: 'application_process',\n",
       " 40: 'admission_deadlines',\n",
       " 41: 'financial_aid',\n",
       " 42: 'campus_facilities',\n",
       " 43: 'extracurricular_activities',\n",
       " 44: 'student_support_services',\n",
       " 45: 'internship_opportunities',\n",
       " 46: 'research_opportunities',\n",
       " 47: 'alumni_success_stories',\n",
       " 48: 'admission_requirements',\n",
       " 49: 'application_submission',\n",
       " 50: 'admission_decisions',\n",
       " 51: 'financial_aid_options',\n",
       " 52: 'accommodation_options'}"
      ]
     },
<<<<<<< HEAD
     "execution_count": 46,
=======
     "execution_count": 19,
>>>>>>> 50262099ac8229654f527918422eeac919275509
     "metadata": {},
     "output_type": "execute_result"
    }
   ],
   "source": [
    "num_labels = len(labels)\n",
    "id2label = {id:label for id, label in enumerate(labels)}\n",
    "label2id = {label:id for id, label in enumerate(labels)}\n",
    "id2label"
   ]
  },
  {
   "cell_type": "code",
<<<<<<< HEAD
   "execution_count": 47,
=======
   "execution_count": 20,
>>>>>>> 50262099ac8229654f527918422eeac919275509
   "metadata": {},
   "outputs": [
    {
     "data": {
      "text/plain": [
       "{'greeting': 0,\n",
       " 'goodbye': 1,\n",
       " 'creator': 2,\n",
       " 'name': 3,\n",
       " 'hours': 4,\n",
       " 'number': 5,\n",
       " 'course': 6,\n",
       " 'fees': 7,\n",
       " 'location': 8,\n",
       " 'hostel': 9,\n",
       " 'event': 10,\n",
       " 'document': 11,\n",
       " 'floors': 12,\n",
       " 'syllabus': 13,\n",
       " 'library': 14,\n",
       " 'infrastructure': 15,\n",
       " 'canteen': 16,\n",
       " 'menu': 17,\n",
       " 'placement': 18,\n",
       " 'ithod': 19,\n",
       " 'computerhod': 20,\n",
       " 'extchod': 21,\n",
       " 'principal': 22,\n",
       " 'sem': 23,\n",
       " 'admission': 24,\n",
       " 'scholarship': 25,\n",
       " 'facilities': 26,\n",
       " 'college intake': 27,\n",
       " 'uniform': 28,\n",
       " 'committee': 29,\n",
       " 'random': 30,\n",
       " 'swear': 31,\n",
       " 'vacation': 32,\n",
       " 'sports': 33,\n",
       " 'salutaion': 34,\n",
       " 'task': 35,\n",
       " 'ragging': 36,\n",
       " 'hod': 37,\n",
       " 'eligibility': 38,\n",
       " 'application_process': 39,\n",
       " 'admission_deadlines': 40,\n",
       " 'financial_aid': 41,\n",
       " 'campus_facilities': 42,\n",
       " 'extracurricular_activities': 43,\n",
       " 'student_support_services': 44,\n",
       " 'internship_opportunities': 45,\n",
       " 'research_opportunities': 46,\n",
       " 'alumni_success_stories': 47,\n",
       " 'admission_requirements': 48,\n",
       " 'application_submission': 49,\n",
       " 'admission_decisions': 50,\n",
       " 'financial_aid_options': 51,\n",
       " 'accommodation_options': 52}"
      ]
     },
<<<<<<< HEAD
     "execution_count": 47,
=======
     "execution_count": 20,
>>>>>>> 50262099ac8229654f527918422eeac919275509
     "metadata": {},
     "output_type": "execute_result"
    }
   ],
   "source": [
    "label2id"
   ]
  },
  {
   "cell_type": "code",
<<<<<<< HEAD
   "execution_count": 48,
=======
   "execution_count": 21,
>>>>>>> 50262099ac8229654f527918422eeac919275509
   "metadata": {},
   "outputs": [
    {
     "data": {
      "text/html": [
       "<div>\n",
       "<style scoped>\n",
       "    .dataframe tbody tr th:only-of-type {\n",
       "        vertical-align: middle;\n",
       "    }\n",
       "\n",
       "    .dataframe tbody tr th {\n",
       "        vertical-align: top;\n",
       "    }\n",
       "\n",
       "    .dataframe thead th {\n",
       "        text-align: right;\n",
       "    }\n",
       "</style>\n",
       "<table border=\"1\" class=\"dataframe\">\n",
       "  <thead>\n",
       "    <tr style=\"text-align: right;\">\n",
       "      <th></th>\n",
       "      <th>Pattern</th>\n",
       "      <th>Tag</th>\n",
       "      <th>labels</th>\n",
       "    </tr>\n",
       "  </thead>\n",
       "  <tbody>\n",
       "    <tr>\n",
       "      <th>0</th>\n",
       "      <td>Hi</td>\n",
       "      <td>greeting</td>\n",
       "      <td>0</td>\n",
       "    </tr>\n",
       "    <tr>\n",
       "      <th>1</th>\n",
       "      <td>How are you?</td>\n",
       "      <td>greeting</td>\n",
       "      <td>0</td>\n",
       "    </tr>\n",
       "    <tr>\n",
       "      <th>2</th>\n",
       "      <td>Is anyone there?</td>\n",
       "      <td>greeting</td>\n",
       "      <td>0</td>\n",
       "    </tr>\n",
       "    <tr>\n",
       "      <th>3</th>\n",
       "      <td>Hello</td>\n",
       "      <td>greeting</td>\n",
       "      <td>0</td>\n",
       "    </tr>\n",
       "    <tr>\n",
       "      <th>4</th>\n",
       "      <td>Good day</td>\n",
       "      <td>greeting</td>\n",
       "      <td>0</td>\n",
       "    </tr>\n",
       "  </tbody>\n",
       "</table>\n",
       "</div>"
      ],
      "text/plain": [
       "            Pattern       Tag  labels\n",
       "0                Hi  greeting       0\n",
       "1      How are you?  greeting       0\n",
       "2  Is anyone there?  greeting       0\n",
       "3             Hello  greeting       0\n",
       "4          Good day  greeting       0"
      ]
     },
<<<<<<< HEAD
     "execution_count": 48,
=======
     "execution_count": 21,
>>>>>>> 50262099ac8229654f527918422eeac919275509
     "metadata": {},
     "output_type": "execute_result"
    }
   ],
   "source": [
    "df2['labels'] = df2['Tag'].map(lambda x: label2id[x.strip()])\n",
    "df2.head()"
   ]
  },
  {
   "cell_type": "code",
<<<<<<< HEAD
   "execution_count": 49,
=======
   "execution_count": 22,
>>>>>>> 50262099ac8229654f527918422eeac919275509
   "metadata": {},
   "outputs": [
    {
     "data": {
      "text/plain": [
       "['Hi', 'How are you?', 'Is anyone there?', 'Hello', 'Good day']"
      ]
     },
<<<<<<< HEAD
     "execution_count": 49,
=======
     "execution_count": 22,
>>>>>>> 50262099ac8229654f527918422eeac919275509
     "metadata": {},
     "output_type": "execute_result"
    }
   ],
   "source": [
    "X = list(df2['Pattern'])\n",
    "X[:5]"
   ]
  },
  {
   "cell_type": "code",
<<<<<<< HEAD
   "execution_count": 50,
=======
   "execution_count": 23,
>>>>>>> 50262099ac8229654f527918422eeac919275509
   "metadata": {},
   "outputs": [
    {
     "data": {
      "text/plain": [
       "[0, 0, 0, 0, 0]"
      ]
     },
<<<<<<< HEAD
     "execution_count": 50,
=======
     "execution_count": 23,
>>>>>>> 50262099ac8229654f527918422eeac919275509
     "metadata": {},
     "output_type": "execute_result"
    }
   ],
   "source": [
    "y = list(df2['labels'])\n",
    "y[:5]"
   ]
  },
  {
   "cell_type": "markdown",
   "metadata": {},
   "source": [
    "**Preparing benchmark data**"
   ]
  },
  {
   "cell_type": "code",
<<<<<<< HEAD
   "execution_count": 51,
=======
   "execution_count": 31,
>>>>>>> 50262099ac8229654f527918422eeac919275509
   "metadata": {},
   "outputs": [
    {
     "name": "stdout",
     "output_type": "stream",
     "text": [
      "['Hello!', 'Hey there!', \"Hi, how's it going?\", 'Goodbye!', 'See you later!', 'Farewell!', 'Who created you?', 'Tell me about your creator.', 'Who made this bot?', \"What's your university's name?\", 'Tell me the name of your college.', 'University name?', 'What are your working hours?', 'When are you open?', 'Office hours?', 'Can I get the contact number?', 'Give me the phone number.', 'Contact details?', 'Tell me about engineering courses.', 'Information on computer science program?', 'Engineering details.', 'How much are the fees?', 'Tell me about the costs.', 'Fees for engineering program?', 'Where is your university located?', 'Give me the location.', 'University address?', 'Tell me about hostel facilities.', 'Information on accommodation?', 'Hostel details.', 'Are there any upcoming events?', 'Tell me about university events.', 'Any events for new students?', 'Which documents are required?', 'Documents for admission?', 'Required paperwork?', 'How many floors does the building have?', 'Number of floors?', 'Building levels?', \"What's on the syllabus?\", 'Tell me about the first-semester syllabus.', 'Syllabus details.', 'Give me library details.', 'Tell me about the library facilities.', 'Library information.', \"Describe the university's infrastructure.\", 'Tell me about the campus.', 'Infrastructure details.', \"What's on the canteen menu?\", 'Canteen details.', 'Food options in the canteen?', 'Can you provide the hostel canteen menu?', 'Hostel canteen details.', 'Menu for hostel canteen?', 'Tell me about placement opportunities.', 'How are placements?', 'Job placement details.', 'Who is the Head of the IT department?', 'IT department HoD.', 'Head of IT details.', 'Who is the Computer Science department head?', 'Computer Science HoD.', 'Head of Computer Science details.', 'Who is the Head of the Electronics and Telecommunication department?', 'ExTC department HoD.', 'Head of ExTC details.', 'Who is the current principal?', 'Principal details.', 'Tell me about the principal.', 'How many semesters in a year?', 'Semester details.', 'Number of semesters?', 'What is the admission process?', 'Tell me about admission.', 'Admission details.', 'Are there any scholarships?', 'Tell me about scholarships.', 'Scholarship opportunities.', 'What facilities does the university offer?', 'University facilities.', 'Facilities details.', 'How many students does the college intake?', 'College intake details.', 'Number of students admitted.', 'Is there a specific uniform?', 'Tell me about the uniform.', 'Uniform details.', 'Tell me about the student committee.', 'Student committee details.', 'Committee information.', 'Ask me a random question about the university.', 'Give me a random fact.', 'Random university info.', '(Intentionally offensive input for handling inappropriate language)', 'When is the vacation period?', 'Tell me about vacations.', 'Holiday details.', 'What sports facilities are available?', 'Sports facilities details.', 'Athletic facilities information.', 'How should I address the professors?', 'Salutation for professors.', 'Professor address details.', 'What tasks should new students complete?', 'Tasks for new students.', 'New student checklist.', 'Is ragging allowed?', 'Tell me about ragging.', 'Ragging details.', 'Who is the Head of the university?', 'University Head details.', 'Head of the university.']\n",
      "[0, 0, 0, 1, 1, 1, 2, 2, 2, 3, 3, 3, 4, 4, 4, 5, 5, 5, 6, 6, 6, 7, 7, 7, 8, 8, 8, 9, 9, 9, 10, 10, 10, 11, 11, 11, 12, 12, 12, 13, 13, 13, 14, 14, 14, 15, 15, 15, 16, 16, 16, 17, 17, 17, 18, 18, 18, 19, 19, 19, 20, 20, 20, 21, 21, 21, 22, 22, 22, 23, 23, 23, 24, 24, 24, 25, 25, 25, 26, 26, 26, 27, 27, 27, 28, 28, 28, 29, 29, 29, 30, 30, 30, 31, 32, 32, 32, 33, 33, 33, 34, 34, 34, 35, 35, 35, 36, 36, 36, 37, 37, 37]\n"
     ]
    }
   ],
   "source": [
    "json_data = json.load(open('../../data/benchmarkData.json'))\n",
    "\n",
    "label2id = {key: i for i, key in enumerate(json_data.keys())}\n",
    "\n",
    "X_test = []\n",
    "Y_test = []\n",
    "\n",
    "for key, values in json_data.items():\n",
    "    for value in values:\n",
    "        X_test.append(value)\n",
    "        Y_test.append(label2id[key])\n",
    "\n",
    "print(X_test)\n",
    "print(Y_test)"
   ]
  },
  {
   "cell_type": "markdown",
   "metadata": {},
   "source": [
    "**Load BERT**"
   ]
  },
  {
   "cell_type": "code",
<<<<<<< HEAD
   "execution_count": 52,
   "metadata": {},
   "outputs": [
    {
     "name": "stderr",
     "output_type": "stream",
     "text": [
      "loading file vocab.txt from cache at C:\\Users\\sumed/.cache\\huggingface\\hub\\models--bert-base-uncased\\snapshots\\86b5e0934494bd15c9632b12f734a8a67f723594\\vocab.txt\n",
      "loading file added_tokens.json from cache at None\n",
      "loading file special_tokens_map.json from cache at None\n",
      "loading file tokenizer_config.json from cache at C:\\Users\\sumed/.cache\\huggingface\\hub\\models--bert-base-uncased\\snapshots\\86b5e0934494bd15c9632b12f734a8a67f723594\\tokenizer_config.json\n",
      "loading configuration file config.json from cache at C:\\Users\\sumed/.cache\\huggingface\\hub\\models--bert-base-uncased\\snapshots\\86b5e0934494bd15c9632b12f734a8a67f723594\\config.json\n",
      "Model config BertConfig {\n",
      "  \"_name_or_path\": \"bert-base-uncased\",\n",
      "  \"architectures\": [\n",
      "    \"BertForMaskedLM\"\n",
      "  ],\n",
      "  \"attention_probs_dropout_prob\": 0.1,\n",
      "  \"classifier_dropout\": null,\n",
      "  \"gradient_checkpointing\": false,\n",
      "  \"hidden_act\": \"gelu\",\n",
      "  \"hidden_dropout_prob\": 0.1,\n",
      "  \"hidden_size\": 768,\n",
      "  \"initializer_range\": 0.02,\n",
      "  \"intermediate_size\": 3072,\n",
      "  \"layer_norm_eps\": 1e-12,\n",
      "  \"max_position_embeddings\": 512,\n",
      "  \"model_type\": \"bert\",\n",
      "  \"num_attention_heads\": 12,\n",
      "  \"num_hidden_layers\": 12,\n",
      "  \"pad_token_id\": 0,\n",
      "  \"position_embedding_type\": \"absolute\",\n",
      "  \"transformers_version\": \"4.24.0\",\n",
      "  \"type_vocab_size\": 2,\n",
      "  \"use_cache\": true,\n",
      "  \"vocab_size\": 30522\n",
      "}\n",
      "\n",
      "loading configuration file config.json from cache at C:\\Users\\sumed/.cache\\huggingface\\hub\\models--bert-base-uncased\\snapshots\\86b5e0934494bd15c9632b12f734a8a67f723594\\config.json\n",
      "Model config BertConfig {\n",
      "  \"architectures\": [\n",
      "    \"BertForMaskedLM\"\n",
      "  ],\n",
      "  \"attention_probs_dropout_prob\": 0.1,\n",
      "  \"classifier_dropout\": null,\n",
      "  \"gradient_checkpointing\": false,\n",
      "  \"hidden_act\": \"gelu\",\n",
      "  \"hidden_dropout_prob\": 0.1,\n",
      "  \"hidden_size\": 768,\n",
      "  \"id2label\": {\n",
      "    \"0\": \"greeting\",\n",
      "    \"1\": \"goodbye\",\n",
      "    \"2\": \"creator\",\n",
      "    \"3\": \"name\",\n",
      "    \"4\": \"hours\",\n",
      "    \"5\": \"number\",\n",
      "    \"6\": \"course\",\n",
      "    \"7\": \"fees\",\n",
      "    \"8\": \"location\",\n",
      "    \"9\": \"hostel\",\n",
      "    \"10\": \"event\",\n",
      "    \"11\": \"document\",\n",
      "    \"12\": \"floors\",\n",
      "    \"13\": \"syllabus\",\n",
      "    \"14\": \"library\",\n",
      "    \"15\": \"infrastructure\",\n",
      "    \"16\": \"canteen\",\n",
      "    \"17\": \"menu\",\n",
      "    \"18\": \"placement\",\n",
      "    \"19\": \"ithod\",\n",
      "    \"20\": \"computerhod\",\n",
      "    \"21\": \"extchod\",\n",
      "    \"22\": \"principal\",\n",
      "    \"23\": \"sem\",\n",
      "    \"24\": \"admission\",\n",
      "    \"25\": \"scholarship\",\n",
      "    \"26\": \"facilities\",\n",
      "    \"27\": \"college intake\",\n",
      "    \"28\": \"uniform\",\n",
      "    \"29\": \"committee\",\n",
      "    \"30\": \"random\",\n",
      "    \"31\": \"swear\",\n",
      "    \"32\": \"vacation\",\n",
      "    \"33\": \"sports\",\n",
      "    \"34\": \"salutaion\",\n",
      "    \"35\": \"task\",\n",
      "    \"36\": \"ragging\",\n",
      "    \"37\": \"hod\",\n",
      "    \"38\": \"eligibility\",\n",
      "    \"39\": \"application_process\",\n",
      "    \"40\": \"admission_deadlines\",\n",
      "    \"41\": \"financial_aid\",\n",
      "    \"42\": \"campus_facilities\",\n",
      "    \"43\": \"extracurricular_activities\",\n",
      "    \"44\": \"student_support_services\",\n",
      "    \"45\": \"internship_opportunities\",\n",
      "    \"46\": \"research_opportunities\",\n",
      "    \"47\": \"alumni_success_stories\",\n",
      "    \"48\": \"admission_requirements\",\n",
      "    \"49\": \"application_submission\",\n",
      "    \"50\": \"admission_decisions\",\n",
      "    \"51\": \"financial_aid_options\",\n",
      "    \"52\": \"accommodation_options\"\n",
      "  },\n",
      "  \"initializer_range\": 0.02,\n",
      "  \"intermediate_size\": 3072,\n",
      "  \"label2id\": {\n",
      "    \"admission\": 24,\n",
      "    \"canteen\": 16,\n",
      "    \"college intake\": 27,\n",
      "    \"committee\": 29,\n",
      "    \"computerhod\": 20,\n",
      "    \"course\": 6,\n",
      "    \"creator\": 2,\n",
      "    \"document\": 11,\n",
      "    \"event\": 10,\n",
      "    \"extchod\": 21,\n",
      "    \"facilities\": 26,\n",
      "    \"fees\": 7,\n",
      "    \"floors\": 12,\n",
      "    \"goodbye\": 1,\n",
      "    \"greeting\": 0,\n",
      "    \"hod\": 37,\n",
      "    \"hostel\": 9,\n",
      "    \"hours\": 4,\n",
      "    \"infrastructure\": 15,\n",
      "    \"ithod\": 19,\n",
      "    \"library\": 14,\n",
      "    \"location\": 8,\n",
      "    \"menu\": 17,\n",
      "    \"name\": 3,\n",
      "    \"number\": 5,\n",
      "    \"placement\": 18,\n",
      "    \"principal\": 22,\n",
      "    \"ragging\": 36,\n",
      "    \"random\": 30,\n",
      "    \"salutation\": 34,\n",
      "    \"scholarship\": 25,\n",
      "    \"sem\": 23,\n",
      "    \"sports\": 33,\n",
      "    \"swear\": 31,\n",
      "    \"syllabus\": 13,\n",
      "    \"task\": 35,\n",
      "    \"uniform\": 28,\n",
      "    \"vacation\": 32\n",
      "  },\n",
      "  \"layer_norm_eps\": 1e-12,\n",
      "  \"max_position_embeddings\": 512,\n",
      "  \"model_type\": \"bert\",\n",
      "  \"num_attention_heads\": 12,\n",
      "  \"num_hidden_layers\": 12,\n",
      "  \"pad_token_id\": 0,\n",
      "  \"position_embedding_type\": \"absolute\",\n",
      "  \"transformers_version\": \"4.24.0\",\n",
      "  \"type_vocab_size\": 2,\n",
      "  \"use_cache\": true,\n",
      "  \"vocab_size\": 30522\n",
      "}\n",
      "\n",
      "loading weights file pytorch_model.bin from cache at C:\\Users\\sumed/.cache\\huggingface\\hub\\models--bert-base-uncased\\snapshots\\86b5e0934494bd15c9632b12f734a8a67f723594\\pytorch_model.bin\n",
      "Some weights of the model checkpoint at bert-base-uncased were not used when initializing BertForSequenceClassification: ['cls.predictions.bias', 'cls.predictions.transform.LayerNorm.weight', 'cls.predictions.transform.dense.weight', 'cls.predictions.transform.LayerNorm.bias', 'cls.predictions.transform.dense.bias', 'cls.seq_relationship.weight', 'cls.predictions.decoder.weight', 'cls.seq_relationship.bias']\n",
      "- This IS expected if you are initializing BertForSequenceClassification from the checkpoint of a model trained on another task or with another architecture (e.g. initializing a BertForSequenceClassification model from a BertForPreTraining model).\n",
      "- This IS NOT expected if you are initializing BertForSequenceClassification from the checkpoint of a model that you expect to be exactly identical (initializing a BertForSequenceClassification model from a BertForSequenceClassification model).\n",
      "Some weights of BertForSequenceClassification were not initialized from the model checkpoint at bert-base-uncased and are newly initialized: ['classifier.bias', 'classifier.weight']\n",
      "You should probably TRAIN this model on a down-stream task to be able to use it for predictions and inference.\n"
     ]
    }
   ],
=======
   "execution_count": null,
   "metadata": {},
   "outputs": [],
>>>>>>> 50262099ac8229654f527918422eeac919275509
   "source": [
    "model_name = \"bert-base-uncased\"\n",
    "max_len = 256\n",
    "\n",
    "tokenizer = BertTokenizer.from_pretrained(model_name, max_length=max_len)\n",
    "\n",
    "model = BertForSequenceClassification.from_pretrained(\n",
    "    model_name, num_labels=num_labels, id2label=id2label, label2id=label2id\n",
    ")"
   ]
  },
  {
   "cell_type": "code",
<<<<<<< HEAD
   "execution_count": 53,
=======
   "execution_count": 32,
>>>>>>> 50262099ac8229654f527918422eeac919275509
   "metadata": {},
   "outputs": [],
   "source": [
    "train_encoding = tokenizer(X, truncation=True, padding=True)\n",
    "test_encoding = tokenizer(X_test, truncation=True, padding=True)"
   ]
  },
  {
   "cell_type": "code",
<<<<<<< HEAD
   "execution_count": 54,
=======
   "execution_count": 33,
>>>>>>> 50262099ac8229654f527918422eeac919275509
   "metadata": {},
   "outputs": [],
   "source": [
    "full_data = tokenizer(X, truncation=True, padding=True)"
   ]
  },
  {
   "cell_type": "markdown",
   "metadata": {},
   "source": [
    "**Data loader**"
   ]
  },
  {
   "cell_type": "code",
<<<<<<< HEAD
   "execution_count": 55,
=======
   "execution_count": 34,
>>>>>>> 50262099ac8229654f527918422eeac919275509
   "metadata": {},
   "outputs": [],
   "source": [
    "class DataLoader(Dataset):\n",
    "\n",
    "    def __init__(self, encodings, labels):\n",
    "\n",
    "        self.encodings = encodings\n",
    "        self.labels = labels\n",
    "\n",
    "    def __getitem__(self, idx):\n",
    "\n",
    "        item = {key: torch.tensor(val[idx]) for key, val in self.encodings.items()}\n",
    "        item[\"labels\"] = torch.tensor(self.labels[idx])\n",
    "        return item\n",
    "\n",
    "    def __len__(self):\n",
    "\n",
    "        return len(self.labels)"
   ]
  },
  {
   "cell_type": "code",
<<<<<<< HEAD
   "execution_count": 56,
=======
   "execution_count": 36,
>>>>>>> 50262099ac8229654f527918422eeac919275509
   "metadata": {},
   "outputs": [],
   "source": [
    "train_dataloader = DataLoader(train_encoding, y)\n",
    "test_dataloader = DataLoader(test_encoding, Y_test)\n"
   ]
  },
  {
   "cell_type": "code",
<<<<<<< HEAD
   "execution_count": 57,
=======
   "execution_count": 38,
>>>>>>> 50262099ac8229654f527918422eeac919275509
   "metadata": {},
   "outputs": [],
   "source": [
    "fullDataLoader = DataLoader(full_data, y)"
   ]
  },
  {
   "cell_type": "markdown",
   "metadata": {},
   "source": [
    "**Defining benchmarks**:"
   ]
  },
  {
   "cell_type": "code",
<<<<<<< HEAD
   "execution_count": 58,
=======
   "execution_count": 39,
>>>>>>> 50262099ac8229654f527918422eeac919275509
   "metadata": {},
   "outputs": [],
   "source": [
    "def compute_metrics(pred):\n",
    "\n",
    "    labels = pred.label_ids\n",
    "    preds = pred.predictions.argmax(-1)\n",
    "    precision, recall, f1, _ = precision_recall_fscore_support(labels, preds, average='macro')\n",
    "    acc = accuracy_score(labels, preds)\n",
    "\n",
    "    return {\n",
    "        'Accuracy': acc,\n",
    "        'F1': f1,\n",
    "        'Precision': precision,\n",
    "        'Recall': recall\n",
    "    }"
   ]
  },
  {
   "cell_type": "markdown",
   "metadata": {},
   "source": [
    "**Training**"
   ]
  },
  {
   "cell_type": "code",
<<<<<<< HEAD
   "execution_count": 59,
   "metadata": {},
   "outputs": [
    {
     "name": "stderr",
     "output_type": "stream",
     "text": [
      "PyTorch: setting up devices\n",
      "The default value for the training argument `--report_to` will change in v5 (from all installed integrations to none). In v5, you will need to use `--report_to all` to get the same behavior as now. You should start updating your code and make this info disappear :-).\n"
     ]
    }
   ],
=======
   "execution_count": 40,
   "metadata": {},
   "outputs": [],
>>>>>>> 50262099ac8229654f527918422eeac919275509
   "source": [
    "training_args = TrainingArguments(\n",
    "    output_dir='./output',\n",
    "    do_train=True,\n",
    "    do_eval=True,\n",
<<<<<<< HEAD
    "    num_train_epochs=1,#\n",
    "    per_device_train_batch_size=32,\n",
    "    per_device_eval_batch_size=16,\n",
    "    warmup_steps=1,#\n",
=======
    "    num_train_epochs=100,\n",
    "    per_device_train_batch_size=32,\n",
    "    per_device_eval_batch_size=16,\n",
    "    warmup_steps=100,\n",
>>>>>>> 50262099ac8229654f527918422eeac919275509
    "    weight_decay=0.05,\n",
    "    logging_strategy='steps',\n",
    "    logging_dir='./multi-class-logs',\n",
    "    logging_steps=50,\n",
    "    evaluation_strategy=\"steps\",\n",
    "    eval_steps=50,\n",
    "    save_strategy=\"steps\",\n",
    "    load_best_model_at_end=True\n",
    ")"
   ]
  },
  {
   "cell_type": "code",
<<<<<<< HEAD
   "execution_count": 60,
   "metadata": {},
   "outputs": [
    {
     "name": "stderr",
     "output_type": "stream",
     "text": [
      "***** Running training *****\n",
      "  Num examples = 480\n",
      "  Num Epochs = 1\n",
      "  Instantaneous batch size per device = 32\n",
      "  Total train batch size (w. parallel, distributed & accumulation) = 32\n",
      "  Gradient Accumulation steps = 1\n",
      "  Total optimization steps = 15\n",
      "  Number of trainable parameters = 109522997\n"
     ]
    },
    {
     "data": {
      "application/vnd.jupyter.widget-view+json": {
       "model_id": "3702d2c4b4764f158104e61284185fa5",
=======
   "execution_count": 42,
   "metadata": {},
   "outputs": [
    {
     "data": {
      "application/vnd.jupyter.widget-view+json": {
       "model_id": "6dfcd4ff4d6a42238090105b561a8722",
>>>>>>> 50262099ac8229654f527918422eeac919275509
       "version_major": 2,
       "version_minor": 0
      },
      "text/plain": [
<<<<<<< HEAD
       "  0%|          | 0/15 [00:00<?, ?it/s]"
=======
       "  0%|          | 0/1500 [00:00<?, ?it/s]"
>>>>>>> 50262099ac8229654f527918422eeac919275509
      ]
     },
     "metadata": {},
     "output_type": "display_data"
    },
    {
<<<<<<< HEAD
     "name": "stderr",
     "output_type": "stream",
     "text": [
      "\n",
      "\n",
      "Training completed. Do not forget to share your model on huggingface.co/models =)\n",
      "\n",
      "\n"
     ]
    },
    {
     "name": "stdout",
     "output_type": "stream",
     "text": [
      "{'train_runtime': 1517.3603, 'train_samples_per_second': 0.316, 'train_steps_per_second': 0.01, 'train_loss': 4.003686014811198, 'epoch': 1.0}\n"
=======
     "name": "stdout",
     "output_type": "stream",
     "text": [
      "{'loss': 3.7628, 'learning_rate': 2.5e-05, 'epoch': 3.33}\n"
     ]
    },
    {
     "data": {
      "application/vnd.jupyter.widget-view+json": {
       "model_id": "ae1912ec306e4ba7809a57fe32d2628c",
       "version_major": 2,
       "version_minor": 0
      },
      "text/plain": [
       "  0%|          | 0/7 [00:00<?, ?it/s]"
      ]
     },
     "metadata": {},
     "output_type": "display_data"
    },
    {
     "name": "stdout",
     "output_type": "stream",
     "text": [
      "{'eval_loss': 3.881092071533203, 'eval_Accuracy': 0.08928571428571429, 'eval_F1': 0.05318019930208296, 'eval_Precision': 0.06505862558494137, 'eval_Recall': 0.08771929824561403, 'eval_runtime': 2.2985, 'eval_samples_per_second': 48.728, 'eval_steps_per_second': 3.045, 'epoch': 3.33}\n",
      "{'loss': 3.1132, 'learning_rate': 5e-05, 'epoch': 6.67}\n"
     ]
    },
    {
     "data": {
      "application/vnd.jupyter.widget-view+json": {
       "model_id": "a9f44d2e228c410999fe4f00b795c272",
       "version_major": 2,
       "version_minor": 0
      },
      "text/plain": [
       "  0%|          | 0/7 [00:00<?, ?it/s]"
      ]
     },
     "metadata": {},
     "output_type": "display_data"
    },
    {
     "name": "stdout",
     "output_type": "stream",
     "text": [
      "{'eval_loss': 3.3517706394195557, 'eval_Accuracy': 0.25, 'eval_F1': 0.19675583188741083, 'eval_Precision': 0.23511181012364632, 'eval_Recall': 0.2456140350877193, 'eval_runtime': 2.3533, 'eval_samples_per_second': 47.593, 'eval_steps_per_second': 2.975, 'epoch': 6.67}\n",
      "{'loss': 1.8044, 'learning_rate': 4.8214285714285716e-05, 'epoch': 10.0}\n"
     ]
    },
    {
     "data": {
      "application/vnd.jupyter.widget-view+json": {
       "model_id": "ccb6d6b10f7042dea1512fbc348df012",
       "version_major": 2,
       "version_minor": 0
      },
      "text/plain": [
       "  0%|          | 0/7 [00:00<?, ?it/s]"
      ]
     },
     "metadata": {},
     "output_type": "display_data"
    },
    {
     "name": "stdout",
     "output_type": "stream",
     "text": [
      "{'eval_loss': 2.0754826068878174, 'eval_Accuracy': 0.6428571428571429, 'eval_F1': 0.5181985972683647, 'eval_Precision': 0.52984496124031, 'eval_Recall': 0.5581395348837209, 'eval_runtime': 2.3754, 'eval_samples_per_second': 47.149, 'eval_steps_per_second': 2.947, 'epoch': 10.0}\n",
      "{'loss': 0.8281, 'learning_rate': 4.642857142857143e-05, 'epoch': 13.33}\n"
     ]
    },
    {
     "data": {
      "application/vnd.jupyter.widget-view+json": {
       "model_id": "608246158d384c718ec2ff21331422ed",
       "version_major": 2,
       "version_minor": 0
      },
      "text/plain": [
       "  0%|          | 0/7 [00:00<?, ?it/s]"
      ]
     },
     "metadata": {},
     "output_type": "display_data"
    },
    {
     "name": "stdout",
     "output_type": "stream",
     "text": [
      "{'eval_loss': 1.5972334146499634, 'eval_Accuracy': 0.6875, 'eval_F1': 0.5617473435655254, 'eval_Precision': 0.5943993506493507, 'eval_Recall': 0.5833333333333333, 'eval_runtime': 4.0107, 'eval_samples_per_second': 27.926, 'eval_steps_per_second': 1.745, 'epoch': 13.33}\n",
      "{'loss': 0.3711, 'learning_rate': 4.464285714285715e-05, 'epoch': 16.67}\n"
     ]
    },
    {
     "data": {
      "application/vnd.jupyter.widget-view+json": {
       "model_id": "1ae68aa79f6c4f4784801bdfccd58adb",
       "version_major": 2,
       "version_minor": 0
      },
      "text/plain": [
       "  0%|          | 0/7 [00:00<?, ?it/s]"
      ]
     },
     "metadata": {},
     "output_type": "display_data"
    },
    {
     "name": "stdout",
     "output_type": "stream",
     "text": [
      "{'eval_loss': 1.4841912984848022, 'eval_Accuracy': 0.6964285714285714, 'eval_F1': 0.5781230674087817, 'eval_Precision': 0.5925453514739228, 'eval_Recall': 0.6190476190476191, 'eval_runtime': 4.7417, 'eval_samples_per_second': 23.62, 'eval_steps_per_second': 1.476, 'epoch': 16.67}\n",
      "{'loss': 0.1725, 'learning_rate': 4.2857142857142856e-05, 'epoch': 20.0}\n"
     ]
    },
    {
     "data": {
      "application/vnd.jupyter.widget-view+json": {
       "model_id": "71a4bf5ced93400fb670fe391db322a7",
       "version_major": 2,
       "version_minor": 0
      },
      "text/plain": [
       "  0%|          | 0/7 [00:00<?, ?it/s]"
      ]
     },
     "metadata": {},
     "output_type": "display_data"
    },
    {
     "name": "stdout",
     "output_type": "stream",
     "text": [
      "{'eval_loss': 1.5402761697769165, 'eval_Accuracy': 0.6785714285714286, 'eval_F1': 0.5481601731601732, 'eval_Precision': 0.5699675324675325, 'eval_Recall': 0.5757575757575757, 'eval_runtime': 2.751, 'eval_samples_per_second': 40.712, 'eval_steps_per_second': 2.544, 'epoch': 20.0}\n",
      "{'loss': 0.0875, 'learning_rate': 4.107142857142857e-05, 'epoch': 23.33}\n"
     ]
    },
    {
     "data": {
      "application/vnd.jupyter.widget-view+json": {
       "model_id": "bae3248765194a8488f33da23e7d0a44",
       "version_major": 2,
       "version_minor": 0
      },
      "text/plain": [
       "  0%|          | 0/7 [00:00<?, ?it/s]"
      ]
     },
     "metadata": {},
     "output_type": "display_data"
    },
    {
     "name": "stdout",
     "output_type": "stream",
     "text": [
      "{'eval_loss': 1.5519462823867798, 'eval_Accuracy': 0.6696428571428571, 'eval_F1': 0.5240730284208546, 'eval_Precision': 0.5515269151138716, 'eval_Recall': 0.5434782608695652, 'eval_runtime': 3.5994, 'eval_samples_per_second': 31.116, 'eval_steps_per_second': 1.945, 'epoch': 23.33}\n",
      "{'loss': 0.0557, 'learning_rate': 3.928571428571429e-05, 'epoch': 26.67}\n"
     ]
    },
    {
     "data": {
      "application/vnd.jupyter.widget-view+json": {
       "model_id": "5c630c7300d84bb1addede64864eca66",
       "version_major": 2,
       "version_minor": 0
      },
      "text/plain": [
       "  0%|          | 0/7 [00:00<?, ?it/s]"
      ]
     },
     "metadata": {},
     "output_type": "display_data"
    },
    {
     "name": "stdout",
     "output_type": "stream",
     "text": [
      "{'eval_loss': 1.5303804874420166, 'eval_Accuracy': 0.7053571428571429, 'eval_F1': 0.5728945297127116, 'eval_Precision': 0.5993235930735931, 'eval_Recall': 0.5984848484848485, 'eval_runtime': 3.9726, 'eval_samples_per_second': 28.193, 'eval_steps_per_second': 1.762, 'epoch': 26.67}\n",
      "{'loss': 0.0403, 'learning_rate': 3.7500000000000003e-05, 'epoch': 30.0}\n"
     ]
    },
    {
     "data": {
      "application/vnd.jupyter.widget-view+json": {
       "model_id": "9136307a51054413afbd6c4ec13310d6",
       "version_major": 2,
       "version_minor": 0
      },
      "text/plain": [
       "  0%|          | 0/7 [00:00<?, ?it/s]"
      ]
     },
     "metadata": {},
     "output_type": "display_data"
    },
    {
     "name": "stdout",
     "output_type": "stream",
     "text": [
      "{'eval_loss': 1.5732542276382446, 'eval_Accuracy': 0.6964285714285714, 'eval_F1': 0.5583116883116883, 'eval_Precision': 0.5935185185185186, 'eval_Recall': 0.5777777777777777, 'eval_runtime': 2.6384, 'eval_samples_per_second': 42.45, 'eval_steps_per_second': 2.653, 'epoch': 30.0}\n",
      "{'loss': 0.0295, 'learning_rate': 3.571428571428572e-05, 'epoch': 33.33}\n"
     ]
    },
    {
     "data": {
      "application/vnd.jupyter.widget-view+json": {
       "model_id": "4d7e138f18a64eb6b41eb86db18ed3b6",
       "version_major": 2,
       "version_minor": 0
      },
      "text/plain": [
       "  0%|          | 0/7 [00:00<?, ?it/s]"
      ]
     },
     "metadata": {},
     "output_type": "display_data"
    },
    {
     "name": "stdout",
     "output_type": "stream",
     "text": [
      "{'eval_loss': 1.610016942024231, 'eval_Accuracy': 0.7053571428571429, 'eval_F1': 0.5735487996851633, 'eval_Precision': 0.6003787878787878, 'eval_Recall': 0.5984848484848485, 'eval_runtime': 4.0338, 'eval_samples_per_second': 27.766, 'eval_steps_per_second': 1.735, 'epoch': 33.33}\n",
      "{'loss': 0.0261, 'learning_rate': 3.392857142857143e-05, 'epoch': 36.67}\n"
     ]
    },
    {
     "data": {
      "application/vnd.jupyter.widget-view+json": {
       "model_id": "59675a90e3cb4749885a6f8413185459",
       "version_major": 2,
       "version_minor": 0
      },
      "text/plain": [
       "  0%|          | 0/7 [00:00<?, ?it/s]"
      ]
     },
     "metadata": {},
     "output_type": "display_data"
    },
    {
     "name": "stdout",
     "output_type": "stream",
     "text": [
      "{'eval_loss': 1.660509705543518, 'eval_Accuracy': 0.6964285714285714, 'eval_F1': 0.568349075167257, 'eval_Precision': 0.5993235930735931, 'eval_Recall': 0.5909090909090909, 'eval_runtime': 2.6036, 'eval_samples_per_second': 43.017, 'eval_steps_per_second': 2.689, 'epoch': 36.67}\n",
      "{'loss': 0.0212, 'learning_rate': 3.2142857142857144e-05, 'epoch': 40.0}\n"
     ]
    },
    {
     "data": {
      "application/vnd.jupyter.widget-view+json": {
       "model_id": "84f77cfc2e6742e29993e8f2de5d1f23",
       "version_major": 2,
       "version_minor": 0
      },
      "text/plain": [
       "  0%|          | 0/7 [00:00<?, ?it/s]"
      ]
     },
     "metadata": {},
     "output_type": "display_data"
    },
    {
     "name": "stdout",
     "output_type": "stream",
     "text": [
      "{'eval_loss': 1.6549888849258423, 'eval_Accuracy': 0.6964285714285714, 'eval_F1': 0.5681326249508067, 'eval_Precision': 0.6012175324675325, 'eval_Recall': 0.5909090909090909, 'eval_runtime': 2.5082, 'eval_samples_per_second': 44.654, 'eval_steps_per_second': 2.791, 'epoch': 40.0}\n",
      "{'loss': 0.0196, 'learning_rate': 3.0357142857142857e-05, 'epoch': 43.33}\n"
     ]
    },
    {
     "data": {
      "application/vnd.jupyter.widget-view+json": {
       "model_id": "85157b50f2dc42aca94db3d2ee218be3",
       "version_major": 2,
       "version_minor": 0
      },
      "text/plain": [
       "  0%|          | 0/7 [00:00<?, ?it/s]"
      ]
     },
     "metadata": {},
     "output_type": "display_data"
    },
    {
     "name": "stdout",
     "output_type": "stream",
     "text": [
      "{'eval_loss': 1.6474778652191162, 'eval_Accuracy': 0.6964285714285714, 'eval_F1': 0.5634248327430146, 'eval_Precision': 0.5788690476190476, 'eval_Recall': 0.5909090909090909, 'eval_runtime': 2.4879, 'eval_samples_per_second': 45.019, 'eval_steps_per_second': 2.814, 'epoch': 43.33}\n",
      "{'loss': 0.0179, 'learning_rate': 2.857142857142857e-05, 'epoch': 46.67}\n"
     ]
    },
    {
     "data": {
      "application/vnd.jupyter.widget-view+json": {
       "model_id": "280b8b6d2cf74183bd746fdbcbcd2bda",
       "version_major": 2,
       "version_minor": 0
      },
      "text/plain": [
       "  0%|          | 0/7 [00:00<?, ?it/s]"
      ]
     },
     "metadata": {},
     "output_type": "display_data"
    },
    {
     "name": "stdout",
     "output_type": "stream",
     "text": [
      "{'eval_loss': 1.68394935131073, 'eval_Accuracy': 0.7053571428571429, 'eval_F1': 0.5726780794962614, 'eval_Precision': 0.6012175324675325, 'eval_Recall': 0.5984848484848485, 'eval_runtime': 2.4115, 'eval_samples_per_second': 46.444, 'eval_steps_per_second': 2.903, 'epoch': 46.67}\n",
      "{'loss': 0.0153, 'learning_rate': 2.6785714285714288e-05, 'epoch': 50.0}\n"
     ]
    },
    {
     "data": {
      "application/vnd.jupyter.widget-view+json": {
       "model_id": "f08be664633143d6b87200fd7066978b",
       "version_major": 2,
       "version_minor": 0
      },
      "text/plain": [
       "  0%|          | 0/7 [00:00<?, ?it/s]"
      ]
     },
     "metadata": {},
     "output_type": "display_data"
    },
    {
     "name": "stdout",
     "output_type": "stream",
     "text": [
      "{'eval_loss': 1.7109616994857788, 'eval_Accuracy': 0.6964285714285714, 'eval_F1': 0.5488407888407889, 'eval_Precision': 0.5656349206349206, 'eval_Recall': 0.5777777777777777, 'eval_runtime': 2.4036, 'eval_samples_per_second': 46.597, 'eval_steps_per_second': 2.912, 'epoch': 50.0}\n",
      "{'loss': 0.0147, 'learning_rate': 2.5e-05, 'epoch': 53.33}\n"
     ]
    },
    {
     "data": {
      "application/vnd.jupyter.widget-view+json": {
       "model_id": "be3597d4615742be848bdd2a501b5a7a",
       "version_major": 2,
       "version_minor": 0
      },
      "text/plain": [
       "  0%|          | 0/7 [00:00<?, ?it/s]"
      ]
     },
     "metadata": {},
     "output_type": "display_data"
    },
    {
     "name": "stdout",
     "output_type": "stream",
     "text": [
      "{'eval_loss': 1.7131423950195312, 'eval_Accuracy': 0.7053571428571429, 'eval_F1': 0.5561471861471862, 'eval_Precision': 0.5666666666666667, 'eval_Recall': 0.5851851851851853, 'eval_runtime': 2.4053, 'eval_samples_per_second': 46.563, 'eval_steps_per_second': 2.91, 'epoch': 53.33}\n",
      "{'loss': 0.0132, 'learning_rate': 2.3214285714285715e-05, 'epoch': 56.67}\n"
     ]
    },
    {
     "data": {
      "application/vnd.jupyter.widget-view+json": {
       "model_id": "ead20a97f2fd481d95a2dac2b928e2e1",
       "version_major": 2,
       "version_minor": 0
      },
      "text/plain": [
       "  0%|          | 0/7 [00:00<?, ?it/s]"
      ]
     },
     "metadata": {},
     "output_type": "display_data"
    },
    {
     "name": "stdout",
     "output_type": "stream",
     "text": [
      "{'eval_loss': 1.7541561126708984, 'eval_Accuracy': 0.7053571428571429, 'eval_F1': 0.5555074555074555, 'eval_Precision': 0.5656349206349206, 'eval_Recall': 0.5851851851851853, 'eval_runtime': 2.4304, 'eval_samples_per_second': 46.083, 'eval_steps_per_second': 2.88, 'epoch': 56.67}\n",
      "{'loss': 0.0135, 'learning_rate': 2.1428571428571428e-05, 'epoch': 60.0}\n"
     ]
    },
    {
     "data": {
      "application/vnd.jupyter.widget-view+json": {
       "model_id": "a764cf72a8b947389e50e1e9b8901af5",
       "version_major": 2,
       "version_minor": 0
      },
      "text/plain": [
       "  0%|          | 0/7 [00:00<?, ?it/s]"
      ]
     },
     "metadata": {},
     "output_type": "display_data"
    },
    {
     "name": "stdout",
     "output_type": "stream",
     "text": [
      "{'eval_loss': 1.7654396295547485, 'eval_Accuracy': 0.7053571428571429, 'eval_F1': 0.5573593073593074, 'eval_Precision': 0.567857142857143, 'eval_Recall': 0.5851851851851853, 'eval_runtime': 2.561, 'eval_samples_per_second': 43.733, 'eval_steps_per_second': 2.733, 'epoch': 60.0}\n",
      "{'loss': 0.0127, 'learning_rate': 1.9642857142857145e-05, 'epoch': 63.33}\n"
     ]
    },
    {
     "data": {
      "application/vnd.jupyter.widget-view+json": {
       "model_id": "17c1904366e54801b69996cd19e9379e",
       "version_major": 2,
       "version_minor": 0
      },
      "text/plain": [
       "  0%|          | 0/7 [00:00<?, ?it/s]"
      ]
     },
     "metadata": {},
     "output_type": "display_data"
    },
    {
     "name": "stdout",
     "output_type": "stream",
     "text": [
      "{'eval_loss': 1.7745935916900635, 'eval_Accuracy': 0.7142857142857143, 'eval_F1': 0.5684704184704185, 'eval_Precision': 0.5900793650793651, 'eval_Recall': 0.5925925925925927, 'eval_runtime': 2.5497, 'eval_samples_per_second': 43.927, 'eval_steps_per_second': 2.745, 'epoch': 63.33}\n",
      "{'loss': 0.0113, 'learning_rate': 1.785714285714286e-05, 'epoch': 66.67}\n"
     ]
    },
    {
     "data": {
      "application/vnd.jupyter.widget-view+json": {
       "model_id": "b80ba66c487e45cab51c28f4b758ea9e",
       "version_major": 2,
       "version_minor": 0
      },
      "text/plain": [
       "  0%|          | 0/7 [00:00<?, ?it/s]"
      ]
     },
     "metadata": {},
     "output_type": "display_data"
    },
    {
     "name": "stdout",
     "output_type": "stream",
     "text": [
      "{'eval_loss': 1.7547807693481445, 'eval_Accuracy': 0.7142857142857143, 'eval_F1': 0.5672582972582972, 'eval_Precision': 0.5888888888888889, 'eval_Recall': 0.5925925925925927, 'eval_runtime': 2.5237, 'eval_samples_per_second': 44.38, 'eval_steps_per_second': 2.774, 'epoch': 66.67}\n",
      "{'loss': 0.0119, 'learning_rate': 1.6071428571428572e-05, 'epoch': 70.0}\n"
     ]
    },
    {
     "data": {
      "application/vnd.jupyter.widget-view+json": {
       "model_id": "c9d5ddc8b1b64fb99a72bcc3eb423d0f",
       "version_major": 2,
       "version_minor": 0
      },
      "text/plain": [
       "  0%|          | 0/7 [00:00<?, ?it/s]"
      ]
     },
     "metadata": {},
     "output_type": "display_data"
    },
    {
     "name": "stdout",
     "output_type": "stream",
     "text": [
      "{'eval_loss': 1.7749165296554565, 'eval_Accuracy': 0.7142857142857143, 'eval_F1': 0.5672582972582972, 'eval_Precision': 0.5888888888888889, 'eval_Recall': 0.5925925925925927, 'eval_runtime': 4.4699, 'eval_samples_per_second': 25.057, 'eval_steps_per_second': 1.566, 'epoch': 70.0}\n",
      "{'loss': 0.011, 'learning_rate': 1.4285714285714285e-05, 'epoch': 73.33}\n"
     ]
    },
    {
     "data": {
      "application/vnd.jupyter.widget-view+json": {
       "model_id": "833f10db46d143dcb417bf3c0c1f1063",
       "version_major": 2,
       "version_minor": 0
      },
      "text/plain": [
       "  0%|          | 0/7 [00:00<?, ?it/s]"
      ]
     },
     "metadata": {},
     "output_type": "display_data"
    },
    {
     "name": "stdout",
     "output_type": "stream",
     "text": [
      "{'eval_loss': 1.7688649892807007, 'eval_Accuracy': 0.7142857142857143, 'eval_F1': 0.5672582972582972, 'eval_Precision': 0.5888888888888889, 'eval_Recall': 0.5925925925925927, 'eval_runtime': 4.2131, 'eval_samples_per_second': 26.584, 'eval_steps_per_second': 1.661, 'epoch': 73.33}\n",
      "{'loss': 0.0098, 'learning_rate': 1.25e-05, 'epoch': 76.67}\n"
     ]
    },
    {
     "data": {
      "application/vnd.jupyter.widget-view+json": {
       "model_id": "3d5942c1b23e4e1f87814e06d1524799",
       "version_major": 2,
       "version_minor": 0
      },
      "text/plain": [
       "  0%|          | 0/7 [00:00<?, ?it/s]"
      ]
     },
     "metadata": {},
     "output_type": "display_data"
    },
    {
     "name": "stdout",
     "output_type": "stream",
     "text": [
      "{'eval_loss': 1.7831999063491821, 'eval_Accuracy': 0.7142857142857143, 'eval_F1': 0.5672582972582972, 'eval_Precision': 0.5888888888888889, 'eval_Recall': 0.5925925925925927, 'eval_runtime': 2.3308, 'eval_samples_per_second': 48.051, 'eval_steps_per_second': 3.003, 'epoch': 76.67}\n",
      "{'loss': 0.011, 'learning_rate': 1.0714285714285714e-05, 'epoch': 80.0}\n"
     ]
    },
    {
     "data": {
      "application/vnd.jupyter.widget-view+json": {
       "model_id": "8a803e9d547f4566a93fa7200764496f",
       "version_major": 2,
       "version_minor": 0
      },
      "text/plain": [
       "  0%|          | 0/7 [00:00<?, ?it/s]"
      ]
     },
     "metadata": {},
     "output_type": "display_data"
    },
    {
     "name": "stdout",
     "output_type": "stream",
     "text": [
      "{'eval_loss': 1.7884587049484253, 'eval_Accuracy': 0.7053571428571429, 'eval_F1': 0.5561471861471862, 'eval_Precision': 0.5666666666666667, 'eval_Recall': 0.5851851851851853, 'eval_runtime': 2.708, 'eval_samples_per_second': 41.36, 'eval_steps_per_second': 2.585, 'epoch': 80.0}\n",
      "{'loss': 0.0097, 'learning_rate': 8.92857142857143e-06, 'epoch': 83.33}\n"
     ]
    },
    {
     "data": {
      "application/vnd.jupyter.widget-view+json": {
       "model_id": "abc57373cd5f47168088d44b31b02a41",
       "version_major": 2,
       "version_minor": 0
      },
      "text/plain": [
       "  0%|          | 0/7 [00:00<?, ?it/s]"
      ]
     },
     "metadata": {},
     "output_type": "display_data"
    },
    {
     "name": "stdout",
     "output_type": "stream",
     "text": [
      "{'eval_loss': 1.7741962671279907, 'eval_Accuracy': 0.7142857142857143, 'eval_F1': 0.5672582972582972, 'eval_Precision': 0.5888888888888889, 'eval_Recall': 0.5925925925925927, 'eval_runtime': 2.7294, 'eval_samples_per_second': 41.034, 'eval_steps_per_second': 2.565, 'epoch': 83.33}\n",
      "{'loss': 0.0098, 'learning_rate': 7.142857142857143e-06, 'epoch': 86.67}\n"
     ]
    },
    {
     "data": {
      "application/vnd.jupyter.widget-view+json": {
       "model_id": "13ce6332710b435883ae7a1178516dc9",
       "version_major": 2,
       "version_minor": 0
      },
      "text/plain": [
       "  0%|          | 0/7 [00:00<?, ?it/s]"
      ]
     },
     "metadata": {},
     "output_type": "display_data"
    },
    {
     "name": "stdout",
     "output_type": "stream",
     "text": [
      "{'eval_loss': 1.7765884399414062, 'eval_Accuracy': 0.7142857142857143, 'eval_F1': 0.5666185666185666, 'eval_Precision': 0.5878571428571429, 'eval_Recall': 0.5925925925925927, 'eval_runtime': 2.6272, 'eval_samples_per_second': 42.632, 'eval_steps_per_second': 2.664, 'epoch': 86.67}\n",
      "{'loss': 0.0097, 'learning_rate': 5.357142857142857e-06, 'epoch': 90.0}\n"
     ]
    },
    {
     "data": {
      "application/vnd.jupyter.widget-view+json": {
       "model_id": "23cb16909c3d4c6abfbcada61c1e0276",
       "version_major": 2,
       "version_minor": 0
      },
      "text/plain": [
       "  0%|          | 0/7 [00:00<?, ?it/s]"
      ]
     },
     "metadata": {},
     "output_type": "display_data"
    },
    {
     "name": "stdout",
     "output_type": "stream",
     "text": [
      "{'eval_loss': 1.7788952589035034, 'eval_Accuracy': 0.7142857142857143, 'eval_F1': 0.5672582972582972, 'eval_Precision': 0.5888888888888889, 'eval_Recall': 0.5925925925925927, 'eval_runtime': 2.6699, 'eval_samples_per_second': 41.949, 'eval_steps_per_second': 2.622, 'epoch': 90.0}\n",
      "{'loss': 0.0094, 'learning_rate': 3.5714285714285714e-06, 'epoch': 93.33}\n"
     ]
    },
    {
     "data": {
      "application/vnd.jupyter.widget-view+json": {
       "model_id": "120e18e2cc5f42ecbedbcf917d5be3e4",
       "version_major": 2,
       "version_minor": 0
      },
      "text/plain": [
       "  0%|          | 0/7 [00:00<?, ?it/s]"
      ]
     },
     "metadata": {},
     "output_type": "display_data"
    },
    {
     "name": "stdout",
     "output_type": "stream",
     "text": [
      "{'eval_loss': 1.7851511240005493, 'eval_Accuracy': 0.7142857142857143, 'eval_F1': 0.5666185666185666, 'eval_Precision': 0.5878571428571429, 'eval_Recall': 0.5925925925925927, 'eval_runtime': 5.0187, 'eval_samples_per_second': 22.316, 'eval_steps_per_second': 1.395, 'epoch': 93.33}\n",
      "{'loss': 0.009, 'learning_rate': 1.7857142857142857e-06, 'epoch': 96.67}\n"
     ]
    },
    {
     "data": {
      "application/vnd.jupyter.widget-view+json": {
       "model_id": "b351b4b60cb64765ac3648bde4bec1fd",
       "version_major": 2,
       "version_minor": 0
      },
      "text/plain": [
       "  0%|          | 0/7 [00:00<?, ?it/s]"
      ]
     },
     "metadata": {},
     "output_type": "display_data"
    },
    {
     "name": "stdout",
     "output_type": "stream",
     "text": [
      "{'eval_loss': 1.7922941446304321, 'eval_Accuracy': 0.7142857142857143, 'eval_F1': 0.5666185666185666, 'eval_Precision': 0.5878571428571429, 'eval_Recall': 0.5925925925925927, 'eval_runtime': 2.4954, 'eval_samples_per_second': 44.882, 'eval_steps_per_second': 2.805, 'epoch': 96.67}\n",
      "{'loss': 0.0095, 'learning_rate': 0.0, 'epoch': 100.0}\n"
     ]
    },
    {
     "data": {
      "application/vnd.jupyter.widget-view+json": {
       "model_id": "d8a9df20f7f045cb9d069b1db7fcfe3a",
       "version_major": 2,
       "version_minor": 0
      },
      "text/plain": [
       "  0%|          | 0/7 [00:00<?, ?it/s]"
      ]
     },
     "metadata": {},
     "output_type": "display_data"
    },
    {
     "name": "stdout",
     "output_type": "stream",
     "text": [
      "{'eval_loss': 1.7940393686294556, 'eval_Accuracy': 0.7142857142857143, 'eval_F1': 0.5666185666185666, 'eval_Precision': 0.5878571428571429, 'eval_Recall': 0.5925925925925927, 'eval_runtime': 2.5569, 'eval_samples_per_second': 43.802, 'eval_steps_per_second': 2.738, 'epoch': 100.0}\n",
      "{'train_runtime': 5907.6097, 'train_samples_per_second': 8.125, 'train_steps_per_second': 0.254, 'train_loss': 0.3510466123620669, 'epoch': 100.0}\n"
>>>>>>> 50262099ac8229654f527918422eeac919275509
     ]
    },
    {
     "data": {
      "text/plain": [
<<<<<<< HEAD
       "TrainOutput(global_step=15, training_loss=4.003686014811198, metrics={'train_runtime': 1517.3603, 'train_samples_per_second': 0.316, 'train_steps_per_second': 0.01, 'train_loss': 4.003686014811198, 'epoch': 1.0})"
      ]
     },
     "execution_count": 60,
=======
       "TrainOutput(global_step=1500, training_loss=0.3510466123620669, metrics={'train_runtime': 5907.6097, 'train_samples_per_second': 8.125, 'train_steps_per_second': 0.254, 'train_loss': 0.3510466123620669, 'epoch': 100.0})"
      ]
     },
     "execution_count": 42,
>>>>>>> 50262099ac8229654f527918422eeac919275509
     "metadata": {},
     "output_type": "execute_result"
    }
   ],
   "source": [
    "trainer = Trainer(\n",
    "    model=model,\n",
    "    args=training_args,\n",
    "    train_dataset=train_dataloader,\n",
    "    eval_dataset=test_dataloader,\n",
    "    compute_metrics= compute_metrics\n",
    ")\n",
    "trainer.train()"
   ]
  },
  {
   "cell_type": "markdown",
   "metadata": {},
   "source": [
    "**Benchmarks**"
   ]
  },
  {
   "cell_type": "code",
<<<<<<< HEAD
   "execution_count": 61,
   "metadata": {},
   "outputs": [
    {
     "name": "stderr",
     "output_type": "stream",
     "text": [
      "***** Running Evaluation *****\n",
      "  Num examples = 480\n",
      "  Batch size = 16\n"
     ]
    },
    {
     "data": {
      "application/vnd.jupyter.widget-view+json": {
       "model_id": "0b4eecc3c5f64793b9c0566fc36a4427",
=======
   "execution_count": 43,
   "metadata": {},
   "outputs": [
    {
     "data": {
      "application/vnd.jupyter.widget-view+json": {
       "model_id": "3198f3a7621449358263095816b1ef9d",
>>>>>>> 50262099ac8229654f527918422eeac919275509
       "version_major": 2,
       "version_minor": 0
      },
      "text/plain": [
       "  0%|          | 0/30 [00:00<?, ?it/s]"
      ]
     },
     "metadata": {},
     "output_type": "display_data"
    },
    {
<<<<<<< HEAD
     "name": "stderr",
     "output_type": "stream",
     "text": [
      "***** Running Evaluation *****\n",
      "  Num examples = 112\n",
      "  Batch size = 16\n"
     ]
    },
    {
     "data": {
      "application/vnd.jupyter.widget-view+json": {
       "model_id": "e4df5c621b304c38b8aac1153725a93e",
=======
     "data": {
      "application/vnd.jupyter.widget-view+json": {
       "model_id": "82ada2b29281473b80172330c8ceb501",
>>>>>>> 50262099ac8229654f527918422eeac919275509
       "version_major": 2,
       "version_minor": 0
      },
      "text/plain": [
       "  0%|          | 0/7 [00:00<?, ?it/s]"
      ]
     },
     "metadata": {},
     "output_type": "display_data"
    },
    {
     "data": {
      "text/html": [
       "<div>\n",
       "<style scoped>\n",
       "    .dataframe tbody tr th:only-of-type {\n",
       "        vertical-align: middle;\n",
       "    }\n",
       "\n",
       "    .dataframe tbody tr th {\n",
       "        vertical-align: top;\n",
       "    }\n",
       "\n",
       "    .dataframe thead th {\n",
       "        text-align: right;\n",
       "    }\n",
       "</style>\n",
       "<table border=\"1\" class=\"dataframe\">\n",
       "  <thead>\n",
       "    <tr style=\"text-align: right;\">\n",
       "      <th></th>\n",
       "      <th>eval_loss</th>\n",
       "      <th>eval_Accuracy</th>\n",
       "      <th>eval_F1</th>\n",
       "      <th>eval_Precision</th>\n",
       "      <th>eval_Recall</th>\n",
       "    </tr>\n",
       "  </thead>\n",
       "  <tbody>\n",
       "    <tr>\n",
       "      <th>train</th>\n",
<<<<<<< HEAD
       "      <td>3.902372</td>\n",
       "      <td>0.052083</td>\n",
       "      <td>0.008315</td>\n",
       "      <td>0.004805</td>\n",
       "      <td>0.040088</td>\n",
       "    </tr>\n",
       "    <tr>\n",
       "      <th>test</th>\n",
       "      <td>3.977352</td>\n",
       "      <td>0.008929</td>\n",
       "      <td>0.001064</td>\n",
       "      <td>0.000568</td>\n",
       "      <td>0.008333</td>\n",
=======
       "      <td>0.019423</td>\n",
       "      <td>0.997917</td>\n",
       "      <td>0.999160</td>\n",
       "      <td>0.999214</td>\n",
       "      <td>0.999142</td>\n",
       "    </tr>\n",
       "    <tr>\n",
       "      <th>test</th>\n",
       "      <td>1.610017</td>\n",
       "      <td>0.705357</td>\n",
       "      <td>0.573549</td>\n",
       "      <td>0.600379</td>\n",
       "      <td>0.598485</td>\n",
>>>>>>> 50262099ac8229654f527918422eeac919275509
       "    </tr>\n",
       "  </tbody>\n",
       "</table>\n",
       "</div>"
      ],
      "text/plain": [
       "       eval_loss  eval_Accuracy   eval_F1  eval_Precision  eval_Recall\n",
<<<<<<< HEAD
       "train   3.902372       0.052083  0.008315        0.004805     0.040088\n",
       "test    3.977352       0.008929  0.001064        0.000568     0.008333"
      ]
     },
     "execution_count": 61,
=======
       "train   0.019423       0.997917  0.999160        0.999214     0.999142\n",
       "test    1.610017       0.705357  0.573549        0.600379     0.598485"
      ]
     },
     "execution_count": 43,
>>>>>>> 50262099ac8229654f527918422eeac919275509
     "metadata": {},
     "output_type": "execute_result"
    }
   ],
   "source": [
    "q=[trainer.evaluate(eval_dataset=df2) for df2 in [train_dataloader, test_dataloader]]\n",
    "\n",
    "pd.DataFrame(q, index=[\"train\",\"test\"]).iloc[:,:5]\n"
   ]
  },
  {
   "cell_type": "markdown",
   "metadata": {},
   "source": [
    "**Testing**:"
   ]
  },
  {
   "cell_type": "code",
<<<<<<< HEAD
   "execution_count": 62,
=======
   "execution_count": 46,
>>>>>>> 50262099ac8229654f527918422eeac919275509
   "metadata": {},
   "outputs": [],
   "source": [
    "def predict(text):\n",
    "\n",
    "    inputs = tokenizer(text, padding=True, truncation=True, max_length=512, return_tensors=\"pt\")\n",
    "    outputs = model(**inputs)\n",
    "\n",
    "    probs = outputs[0].softmax(1)\n",
    "    pred_label_idx = probs.argmax()\n",
    "    pred_label = model.config.id2label[pred_label_idx.item()]\n",
    "\n",
    "    return probs, pred_label_idx, pred_label\n"
   ]
  },
  {
   "cell_type": "code",
<<<<<<< HEAD
   "execution_count": 63,
=======
   "execution_count": 47,
>>>>>>> 50262099ac8229654f527918422eeac919275509
   "metadata": {},
   "outputs": [
    {
     "data": {
      "text/plain": [
<<<<<<< HEAD
       "(tensor([[0.0234, 0.0266, 0.0149, 0.0241, 0.0143, 0.0206, 0.0140, 0.0179, 0.0184,\n",
       "          0.0274, 0.0165, 0.0228, 0.0163, 0.0164, 0.0271, 0.0128, 0.0186, 0.0180,\n",
       "          0.0172, 0.0183, 0.0220, 0.0131, 0.0266, 0.0281, 0.0135, 0.0168, 0.0119,\n",
       "          0.0187, 0.0198, 0.0173, 0.0166, 0.0129, 0.0114, 0.0222, 0.0197, 0.0184,\n",
       "          0.0184, 0.0190, 0.0163, 0.0137, 0.0163, 0.0147, 0.0182, 0.0174, 0.0181,\n",
       "          0.0217, 0.0221, 0.0199, 0.0243, 0.0293, 0.0201, 0.0173, 0.0187]],\n",
       "        grad_fn=<SoftmaxBackward0>),\n",
       " tensor(49),\n",
       " 'application_submission')"
      ]
     },
     "execution_count": 63,
=======
       "(tensor([[9.8368e-01, 5.1718e-04, 1.9854e-04, 1.0556e-03, 1.1273e-03, 4.8115e-04,\n",
       "          3.5865e-04, 1.7812e-04, 1.8270e-04, 6.2488e-05, 6.8618e-04, 1.1292e-04,\n",
       "          4.6455e-04, 2.5601e-04, 3.5142e-04, 4.3897e-05, 1.1325e-04, 3.0353e-04,\n",
       "          1.9892e-04, 1.2220e-04, 4.3065e-04, 5.7678e-05, 3.6618e-04, 7.9158e-05,\n",
       "          2.4947e-05, 1.5731e-04, 6.8521e-05, 5.4451e-05, 2.6307e-04, 1.5276e-04,\n",
       "          2.7185e-04, 2.7927e-04, 7.9553e-04, 1.7189e-04, 1.4135e-03, 1.5893e-04,\n",
       "          5.4597e-04, 1.0143e-04, 1.5498e-04, 4.6485e-04, 3.4106e-04, 4.1937e-05,\n",
       "          1.3371e-04, 9.6837e-05, 9.2120e-05, 5.0723e-05, 3.9958e-04, 1.1959e-04,\n",
       "          1.3861e-04, 5.2403e-04, 3.1688e-04, 4.4479e-04, 7.9203e-04]],\n",
       "        grad_fn=<SoftmaxBackward0>),\n",
       " tensor(0),\n",
       " 'greeting')"
      ]
     },
     "execution_count": 47,
>>>>>>> 50262099ac8229654f527918422eeac919275509
     "metadata": {},
     "output_type": "execute_result"
    }
   ],
   "source": [
    "text = \"Hello\"\n",
    "predict(text)"
   ]
  },
  {
   "cell_type": "markdown",
   "metadata": {},
   "source": [
    "**Compile**:"
   ]
  },
  {
   "cell_type": "code",
<<<<<<< HEAD
   "execution_count": 64,
   "metadata": {},
   "outputs": [
    {
     "name": "stderr",
     "output_type": "stream",
     "text": [
      "Saving model checkpoint to ./bin\n",
      "Configuration saved in ./bin\\config.json\n",
      "Model weights saved in ./bin\\pytorch_model.bin\n",
      "tokenizer config file saved in ./bin\\tokenizer_config.json\n",
      "Special tokens file saved in ./bin\\special_tokens_map.json\n"
     ]
    },
    {
=======
   "execution_count": 49,
   "metadata": {},
   "outputs": [
    {
>>>>>>> 50262099ac8229654f527918422eeac919275509
     "data": {
      "text/plain": [
       "('./bin\\\\tokenizer_config.json',\n",
       " './bin\\\\special_tokens_map.json',\n",
       " './bin\\\\vocab.txt',\n",
       " './bin\\\\added_tokens.json')"
      ]
     },
<<<<<<< HEAD
     "execution_count": 64,
=======
     "execution_count": 49,
>>>>>>> 50262099ac8229654f527918422eeac919275509
     "metadata": {},
     "output_type": "execute_result"
    }
   ],
   "source": [
    "model_path = \"./bin\"\n",
    "trainer.save_model(model_path)\n",
    "tokenizer.save_pretrained(model_path)"
   ]
  },
  {
   "cell_type": "markdown",
   "metadata": {},
   "source": [
    "**A test drive**"
   ]
  },
  {
   "cell_type": "code",
<<<<<<< HEAD
   "execution_count": 65,
   "metadata": {},
   "outputs": [
    {
     "name": "stderr",
     "output_type": "stream",
     "text": [
      "loading configuration file ./bin\\config.json\n",
      "Model config BertConfig {\n",
      "  \"_name_or_path\": \"bert-base-uncased\",\n",
      "  \"architectures\": [\n",
      "    \"BertForSequenceClassification\"\n",
      "  ],\n",
      "  \"attention_probs_dropout_prob\": 0.1,\n",
      "  \"classifier_dropout\": null,\n",
      "  \"gradient_checkpointing\": false,\n",
      "  \"hidden_act\": \"gelu\",\n",
      "  \"hidden_dropout_prob\": 0.1,\n",
      "  \"hidden_size\": 768,\n",
      "  \"id2label\": {\n",
      "    \"0\": \"greeting\",\n",
      "    \"1\": \"goodbye\",\n",
      "    \"2\": \"creator\",\n",
      "    \"3\": \"name\",\n",
      "    \"4\": \"hours\",\n",
      "    \"5\": \"number\",\n",
      "    \"6\": \"course\",\n",
      "    \"7\": \"fees\",\n",
      "    \"8\": \"location\",\n",
      "    \"9\": \"hostel\",\n",
      "    \"10\": \"event\",\n",
      "    \"11\": \"document\",\n",
      "    \"12\": \"floors\",\n",
      "    \"13\": \"syllabus\",\n",
      "    \"14\": \"library\",\n",
      "    \"15\": \"infrastructure\",\n",
      "    \"16\": \"canteen\",\n",
      "    \"17\": \"menu\",\n",
      "    \"18\": \"placement\",\n",
      "    \"19\": \"ithod\",\n",
      "    \"20\": \"computerhod\",\n",
      "    \"21\": \"extchod\",\n",
      "    \"22\": \"principal\",\n",
      "    \"23\": \"sem\",\n",
      "    \"24\": \"admission\",\n",
      "    \"25\": \"scholarship\",\n",
      "    \"26\": \"facilities\",\n",
      "    \"27\": \"college intake\",\n",
      "    \"28\": \"uniform\",\n",
      "    \"29\": \"committee\",\n",
      "    \"30\": \"random\",\n",
      "    \"31\": \"swear\",\n",
      "    \"32\": \"vacation\",\n",
      "    \"33\": \"sports\",\n",
      "    \"34\": \"salutaion\",\n",
      "    \"35\": \"task\",\n",
      "    \"36\": \"ragging\",\n",
      "    \"37\": \"hod\",\n",
      "    \"38\": \"eligibility\",\n",
      "    \"39\": \"application_process\",\n",
      "    \"40\": \"admission_deadlines\",\n",
      "    \"41\": \"financial_aid\",\n",
      "    \"42\": \"campus_facilities\",\n",
      "    \"43\": \"extracurricular_activities\",\n",
      "    \"44\": \"student_support_services\",\n",
      "    \"45\": \"internship_opportunities\",\n",
      "    \"46\": \"research_opportunities\",\n",
      "    \"47\": \"alumni_success_stories\",\n",
      "    \"48\": \"admission_requirements\",\n",
      "    \"49\": \"application_submission\",\n",
      "    \"50\": \"admission_decisions\",\n",
      "    \"51\": \"financial_aid_options\",\n",
      "    \"52\": \"accommodation_options\"\n",
      "  },\n",
      "  \"initializer_range\": 0.02,\n",
      "  \"intermediate_size\": 3072,\n",
      "  \"label2id\": {\n",
      "    \"admission\": 24,\n",
      "    \"canteen\": 16,\n",
      "    \"college intake\": 27,\n",
      "    \"committee\": 29,\n",
      "    \"computerhod\": 20,\n",
      "    \"course\": 6,\n",
      "    \"creator\": 2,\n",
      "    \"document\": 11,\n",
      "    \"event\": 10,\n",
      "    \"extchod\": 21,\n",
      "    \"facilities\": 26,\n",
      "    \"fees\": 7,\n",
      "    \"floors\": 12,\n",
      "    \"goodbye\": 1,\n",
      "    \"greeting\": 0,\n",
      "    \"hod\": 37,\n",
      "    \"hostel\": 9,\n",
      "    \"hours\": 4,\n",
      "    \"infrastructure\": 15,\n",
      "    \"ithod\": 19,\n",
      "    \"library\": 14,\n",
      "    \"location\": 8,\n",
      "    \"menu\": 17,\n",
      "    \"name\": 3,\n",
      "    \"number\": 5,\n",
      "    \"placement\": 18,\n",
      "    \"principal\": 22,\n",
      "    \"ragging\": 36,\n",
      "    \"random\": 30,\n",
      "    \"salutation\": 34,\n",
      "    \"scholarship\": 25,\n",
      "    \"sem\": 23,\n",
      "    \"sports\": 33,\n",
      "    \"swear\": 31,\n",
      "    \"syllabus\": 13,\n",
      "    \"task\": 35,\n",
      "    \"uniform\": 28,\n",
      "    \"vacation\": 32\n",
      "  },\n",
      "  \"layer_norm_eps\": 1e-12,\n",
      "  \"max_position_embeddings\": 512,\n",
      "  \"model_type\": \"bert\",\n",
      "  \"num_attention_heads\": 12,\n",
      "  \"num_hidden_layers\": 12,\n",
      "  \"pad_token_id\": 0,\n",
      "  \"position_embedding_type\": \"absolute\",\n",
      "  \"problem_type\": \"single_label_classification\",\n",
      "  \"torch_dtype\": \"float32\",\n",
      "  \"transformers_version\": \"4.24.0\",\n",
      "  \"type_vocab_size\": 2,\n",
      "  \"use_cache\": true,\n",
      "  \"vocab_size\": 30522\n",
      "}\n",
      "\n",
      "loading weights file ./bin\\pytorch_model.bin\n",
      "All model checkpoint weights were used when initializing BertForSequenceClassification.\n",
      "\n",
      "All the weights of BertForSequenceClassification were initialized from the model checkpoint at ./bin.\n",
      "If your task is similar to the task the model of the checkpoint was trained on, you can already use BertForSequenceClassification for predictions without further training.\n",
      "loading file vocab.txt\n",
      "loading file tokenizer.json\n",
      "loading file added_tokens.json\n",
      "loading file special_tokens_map.json\n",
      "loading file tokenizer_config.json\n"
     ]
    }
   ],
=======
   "execution_count": 50,
   "metadata": {},
   "outputs": [],
>>>>>>> 50262099ac8229654f527918422eeac919275509
   "source": [
    "model_path = \"./bin\"\n",
    "\n",
    "\n",
    "model = BertForSequenceClassification.from_pretrained(model_path)\n",
    "tokenizer= BertTokenizerFast.from_pretrained(model_path)\n",
    "chatbot= pipeline(\"sentiment-analysis\", model=model, tokenizer=tokenizer)"
   ]
  },
  {
   "cell_type": "code",
<<<<<<< HEAD
   "execution_count": 66,
=======
   "execution_count": 51,
>>>>>>> 50262099ac8229654f527918422eeac919275509
   "metadata": {},
   "outputs": [],
   "source": [
    "def chat(chatbot, text):\n",
    "    text = text.strip().lower()\n",
    "    score = chatbot(text)[0]['score']\n",
    "\n",
    "    if score < 0.8:\n",
    "        return \"Sorry I can't answer that\"\n",
    "\n",
    "    label = label2id[chatbot(text)[0]['label']]\n",
    "    response = random.choice(intents['intents'][label]['responses'])\n",
    "\n",
    "    return response"
   ]
  },
  {
   "cell_type": "code",
<<<<<<< HEAD
   "execution_count": 67,
=======
   "execution_count": 53,
>>>>>>> 50262099ac8229654f527918422eeac919275509
   "metadata": {},
   "outputs": [
    {
     "data": {
      "text/plain": [
<<<<<<< HEAD
       "\"Sorry I can't answer that\""
      ]
     },
     "execution_count": 67,
=======
       "'Hi there, how can I help?'"
      ]
     },
     "execution_count": 53,
>>>>>>> 50262099ac8229654f527918422eeac919275509
     "metadata": {},
     "output_type": "execute_result"
    }
   ],
   "source": [
    "chat(chatbot, 'hello')"
   ]
  }
 ],
 "metadata": {
  "kernelspec": {
   "display_name": "AI-ML",
   "language": "python",
   "name": "python3"
  },
  "language_info": {
   "codemirror_mode": {
    "name": "ipython",
    "version": 3
   },
   "file_extension": ".py",
   "mimetype": "text/x-python",
   "name": "python",
   "nbconvert_exporter": "python",
   "pygments_lexer": "ipython3",
<<<<<<< HEAD
   "version": "3.10.9"
=======
   "version": "3.9.18"
>>>>>>> 50262099ac8229654f527918422eeac919275509
  }
 },
 "nbformat": 4,
 "nbformat_minor": 2
}
